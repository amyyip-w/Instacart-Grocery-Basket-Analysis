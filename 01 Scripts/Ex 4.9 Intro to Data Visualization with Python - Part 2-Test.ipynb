{
 "cells": [
  {
   "cell_type": "markdown",
   "id": "fd5aa026",
   "metadata": {},
   "source": [
    "# Part 2"
   ]
  },
  {
   "cell_type": "markdown",
   "id": "b19313e9",
   "metadata": {},
   "source": [
    "# 01. Import libraries"
   ]
  },
  {
   "cell_type": "code",
   "execution_count": 1,
   "id": "ce8fa432",
   "metadata": {},
   "outputs": [],
   "source": [
    "# Import libraries\n",
    "import pandas as pd\n",
    "import numpy as np\n",
    "import os\n",
    "import matplotlib.pyplot as plt\n",
    "import seaborn as sns\n",
    "import scipy"
   ]
  },
  {
   "cell_type": "markdown",
   "id": "50065f4d",
   "metadata": {},
   "source": [
    "# 02. Import data"
   ]
  },
  {
   "cell_type": "code",
   "execution_count": 2,
   "id": "621b4fb8",
   "metadata": {},
   "outputs": [],
   "source": [
    "# Assign folder path to a variable\n",
    "\n",
    "path = r'C:\\Users\\Amy Yip\\Desktop\\Career Foundry Data Analytics\\Achievement 4 Python\\05-02-2022 Instacart Basket Analysis'"
   ]
  },
  {
   "cell_type": "code",
   "execution_count": 3,
   "id": "c0562f12",
   "metadata": {},
   "outputs": [],
   "source": [
    "# Import the most up-to-date project data from Ex 4.9 Part 1. (df_ords_prods_all.pkl)\n",
    "\n",
    "df = pd.read_pickle(os.path.join(path, '02 Data', 'Prepared Data','df_ords_prods_all.pkl'))"
   ]
  },
  {
   "cell_type": "code",
   "execution_count": 4,
   "id": "1a21a6fa",
   "metadata": {},
   "outputs": [
    {
     "data": {
      "text/html": [
       "<div>\n",
       "<style scoped>\n",
       "    .dataframe tbody tr th:only-of-type {\n",
       "        vertical-align: middle;\n",
       "    }\n",
       "\n",
       "    .dataframe tbody tr th {\n",
       "        vertical-align: top;\n",
       "    }\n",
       "\n",
       "    .dataframe thead th {\n",
       "        text-align: right;\n",
       "    }\n",
       "</style>\n",
       "<table border=\"1\" class=\"dataframe\">\n",
       "  <thead>\n",
       "    <tr style=\"text-align: right;\">\n",
       "      <th></th>\n",
       "      <th>order_id</th>\n",
       "      <th>user_id</th>\n",
       "      <th>order_numbers_users_made</th>\n",
       "      <th>orders_day_of_week</th>\n",
       "      <th>order_hour_of_day</th>\n",
       "      <th>days_since_prior_order</th>\n",
       "      <th>prior_orders_made</th>\n",
       "      <th>product_id</th>\n",
       "      <th>add_to_cart_order</th>\n",
       "      <th>reordered</th>\n",
       "      <th>...</th>\n",
       "      <th>spending_flag</th>\n",
       "      <th>median_days_since_prior_order</th>\n",
       "      <th>order_frequency_flag</th>\n",
       "      <th>gender</th>\n",
       "      <th>state</th>\n",
       "      <th>age</th>\n",
       "      <th>date_joined</th>\n",
       "      <th>n_dependants</th>\n",
       "      <th>fam_status</th>\n",
       "      <th>income</th>\n",
       "    </tr>\n",
       "  </thead>\n",
       "  <tbody>\n",
       "    <tr>\n",
       "      <th>0</th>\n",
       "      <td>2539329</td>\n",
       "      <td>1</td>\n",
       "      <td>1</td>\n",
       "      <td>2</td>\n",
       "      <td>8</td>\n",
       "      <td>NaN</td>\n",
       "      <td>True</td>\n",
       "      <td>196</td>\n",
       "      <td>1</td>\n",
       "      <td>0</td>\n",
       "      <td>...</td>\n",
       "      <td>High spender</td>\n",
       "      <td>20.5</td>\n",
       "      <td>Non-frequent customer</td>\n",
       "      <td>Female</td>\n",
       "      <td>Alabama</td>\n",
       "      <td>31</td>\n",
       "      <td>2/17/2019</td>\n",
       "      <td>3</td>\n",
       "      <td>married</td>\n",
       "      <td>40423</td>\n",
       "    </tr>\n",
       "    <tr>\n",
       "      <th>1</th>\n",
       "      <td>2398795</td>\n",
       "      <td>1</td>\n",
       "      <td>2</td>\n",
       "      <td>3</td>\n",
       "      <td>7</td>\n",
       "      <td>15.0</td>\n",
       "      <td>False</td>\n",
       "      <td>196</td>\n",
       "      <td>1</td>\n",
       "      <td>1</td>\n",
       "      <td>...</td>\n",
       "      <td>High spender</td>\n",
       "      <td>20.5</td>\n",
       "      <td>Non-frequent customer</td>\n",
       "      <td>Female</td>\n",
       "      <td>Alabama</td>\n",
       "      <td>31</td>\n",
       "      <td>2/17/2019</td>\n",
       "      <td>3</td>\n",
       "      <td>married</td>\n",
       "      <td>40423</td>\n",
       "    </tr>\n",
       "    <tr>\n",
       "      <th>2</th>\n",
       "      <td>473747</td>\n",
       "      <td>1</td>\n",
       "      <td>3</td>\n",
       "      <td>3</td>\n",
       "      <td>12</td>\n",
       "      <td>21.0</td>\n",
       "      <td>False</td>\n",
       "      <td>196</td>\n",
       "      <td>1</td>\n",
       "      <td>1</td>\n",
       "      <td>...</td>\n",
       "      <td>High spender</td>\n",
       "      <td>20.5</td>\n",
       "      <td>Non-frequent customer</td>\n",
       "      <td>Female</td>\n",
       "      <td>Alabama</td>\n",
       "      <td>31</td>\n",
       "      <td>2/17/2019</td>\n",
       "      <td>3</td>\n",
       "      <td>married</td>\n",
       "      <td>40423</td>\n",
       "    </tr>\n",
       "    <tr>\n",
       "      <th>3</th>\n",
       "      <td>2254736</td>\n",
       "      <td>1</td>\n",
       "      <td>4</td>\n",
       "      <td>4</td>\n",
       "      <td>7</td>\n",
       "      <td>29.0</td>\n",
       "      <td>False</td>\n",
       "      <td>196</td>\n",
       "      <td>1</td>\n",
       "      <td>1</td>\n",
       "      <td>...</td>\n",
       "      <td>High spender</td>\n",
       "      <td>20.5</td>\n",
       "      <td>Non-frequent customer</td>\n",
       "      <td>Female</td>\n",
       "      <td>Alabama</td>\n",
       "      <td>31</td>\n",
       "      <td>2/17/2019</td>\n",
       "      <td>3</td>\n",
       "      <td>married</td>\n",
       "      <td>40423</td>\n",
       "    </tr>\n",
       "    <tr>\n",
       "      <th>4</th>\n",
       "      <td>431534</td>\n",
       "      <td>1</td>\n",
       "      <td>5</td>\n",
       "      <td>4</td>\n",
       "      <td>15</td>\n",
       "      <td>28.0</td>\n",
       "      <td>False</td>\n",
       "      <td>196</td>\n",
       "      <td>1</td>\n",
       "      <td>1</td>\n",
       "      <td>...</td>\n",
       "      <td>High spender</td>\n",
       "      <td>20.5</td>\n",
       "      <td>Non-frequent customer</td>\n",
       "      <td>Female</td>\n",
       "      <td>Alabama</td>\n",
       "      <td>31</td>\n",
       "      <td>2/17/2019</td>\n",
       "      <td>3</td>\n",
       "      <td>married</td>\n",
       "      <td>40423</td>\n",
       "    </tr>\n",
       "  </tbody>\n",
       "</table>\n",
       "<p>5 rows × 30 columns</p>\n",
       "</div>"
      ],
      "text/plain": [
       "  order_id user_id  order_numbers_users_made  orders_day_of_week  \\\n",
       "0  2539329       1                         1                   2   \n",
       "1  2398795       1                         2                   3   \n",
       "2   473747       1                         3                   3   \n",
       "3  2254736       1                         4                   4   \n",
       "4   431534       1                         5                   4   \n",
       "\n",
       "   order_hour_of_day  days_since_prior_order  prior_orders_made  product_id  \\\n",
       "0                  8                     NaN               True         196   \n",
       "1                  7                    15.0              False         196   \n",
       "2                 12                    21.0              False         196   \n",
       "3                  7                    29.0              False         196   \n",
       "4                 15                    28.0              False         196   \n",
       "\n",
       "   add_to_cart_order  reordered  ... spending_flag  \\\n",
       "0                  1          0  ...  High spender   \n",
       "1                  1          1  ...  High spender   \n",
       "2                  1          1  ...  High spender   \n",
       "3                  1          1  ...  High spender   \n",
       "4                  1          1  ...  High spender   \n",
       "\n",
       "   median_days_since_prior_order   order_frequency_flag  gender    state age  \\\n",
       "0                           20.5  Non-frequent customer  Female  Alabama  31   \n",
       "1                           20.5  Non-frequent customer  Female  Alabama  31   \n",
       "2                           20.5  Non-frequent customer  Female  Alabama  31   \n",
       "3                           20.5  Non-frequent customer  Female  Alabama  31   \n",
       "4                           20.5  Non-frequent customer  Female  Alabama  31   \n",
       "\n",
       "  date_joined  n_dependants fam_status  income  \n",
       "0   2/17/2019             3    married   40423  \n",
       "1   2/17/2019             3    married   40423  \n",
       "2   2/17/2019             3    married   40423  \n",
       "3   2/17/2019             3    married   40423  \n",
       "4   2/17/2019             3    married   40423  \n",
       "\n",
       "[5 rows x 30 columns]"
      ]
     },
     "execution_count": 4,
     "metadata": {},
     "output_type": "execute_result"
    }
   ],
   "source": [
    "df.head()"
   ]
  },
  {
   "cell_type": "code",
   "execution_count": 5,
   "id": "5984dc20",
   "metadata": {},
   "outputs": [
    {
     "data": {
      "text/plain": [
       "(32404859, 30)"
      ]
     },
     "execution_count": 5,
     "metadata": {},
     "output_type": "execute_result"
    }
   ],
   "source": [
    "df.shape"
   ]
  },
  {
   "cell_type": "markdown",
   "id": "a99dedbe",
   "metadata": {},
   "source": [
    "#### 2. If you haven’t done so already, follow the instructions in the Exercise to create a bar chart, a histogram, a scatterplot, and a line chart, using a sample subset for the line chart."
   ]
  },
  {
   "cell_type": "markdown",
   "id": "0437874a",
   "metadata": {},
   "source": [
    "#### Create bar chart"
   ]
  },
  {
   "cell_type": "code",
   "execution_count": 6,
   "id": "b3c2c8ac",
   "metadata": {},
   "outputs": [
    {
     "data": {
      "text/plain": [
       "<AxesSubplot:>"
      ]
     },
     "execution_count": 6,
     "metadata": {},
     "output_type": "execute_result"
    },
    {
     "data": {
      "image/png": "[encoded data removed]",
      "text/plain": [
       "<Figure size 432x288 with 1 Axes>"
      ]
     },
     "metadata": {
      "needs_background": "light"
     },
     "output_type": "display_data"
    }
   ],
   "source": [
    "# Create bar chart - for “orders_day_of_the_week” column - preview\n",
    "\n",
    "df['orders_day_of_week'].value_counts().plot.bar()"
   ]
  },
  {
   "cell_type": "code",
   "execution_count": 8,
   "id": "56328799",
   "metadata": {},
   "outputs": [
    {
     "data": {
      "text/plain": [
       "0    6204182\n",
       "1    5660230\n",
       "6    4496490\n",
       "2    4213830\n",
       "5    4205791\n",
       "3    3840534\n",
       "4    3783802\n",
       "Name: orders_day_of_week, dtype: int64"
      ]
     },
     "execution_count": 8,
     "metadata": {},
     "output_type": "execute_result"
    }
   ],
   "source": [
    "# Print frequencies\n",
    "\n",
    "df['orders_day_of_week'].value_counts(dropna = False)"
   ]
  },
  {
   "cell_type": "code",
   "execution_count": 7,
   "id": "2eecf691",
   "metadata": {},
   "outputs": [
    {
     "data": {
      "text/plain": [
       "<AxesSubplot:>"
      ]
     },
     "execution_count": 7,
     "metadata": {},
     "output_type": "execute_result"
    },
    {
     "data": {
      "image/png": "[encoded data removed]",
      "text/plain": [
       "<Figure size 432x288 with 1 Axes>"
      ]
     },
     "metadata": {
      "needs_background": "light"
     },
     "output_type": "display_data"
    }
   ],
   "source": [
    "# Create bar chart - for “orders_day_of_the_week” column - sorting by index order - preview\n",
    "\n",
    "df['orders_day_of_week'].value_counts().sort_index().plot.bar()"
   ]
  },
  {
   "cell_type": "code",
   "execution_count": 63,
   "id": "c37add0e",
   "metadata": {},
   "outputs": [
    {
     "data": {
      "image/png": "[encoded data removed]",
      "text/plain": [
       "<Figure size 432x288 with 1 Axes>"
      ]
     },
     "metadata": {
      "needs_background": "light"
     },
     "output_type": "display_data"
    }
   ],
   "source": [
    "# Saving the visualisation in Jupyter's memory:\n",
    "\n",
    "bar = df['orders_day_of_week'].value_counts().sort_index().plot.bar()"
   ]
  },
  {
   "cell_type": "code",
   "execution_count": 10,
   "id": "856b2033",
   "metadata": {},
   "outputs": [
    {
     "data": {
      "text/plain": [
       "0    6204182\n",
       "1    5660230\n",
       "2    4213830\n",
       "3    3840534\n",
       "4    3783802\n",
       "5    4205791\n",
       "6    4496490\n",
       "Name: orders_day_of_week, dtype: int64"
      ]
     },
     "execution_count": 10,
     "metadata": {},
     "output_type": "execute_result"
    }
   ],
   "source": [
    "# Print frequencies by index order\n",
    "\n",
    "df['orders_day_of_week'].value_counts().sort_index()"
   ]
  },
  {
   "cell_type": "code",
   "execution_count": 12,
   "id": "ab8ec2c7",
   "metadata": {},
   "outputs": [
    {
     "data": {
      "text/plain": [
       "<AxesSubplot:>"
      ]
     },
     "execution_count": 12,
     "metadata": {},
     "output_type": "execute_result"
    },
    {
     "data": {
      "image/png": "[encoded data removed]",
      "text/plain": [
       "<Figure size 432x288 with 1 Axes>"
      ]
     },
     "metadata": {
      "needs_background": "light"
     },
     "output_type": "display_data"
    }
   ],
   "source": [
    "# Include an indexed list of the colors for your bars as an argument in your function\n",
    "\n",
    "df['orders_day_of_week'].value_counts().plot.bar(color = ['purple', 'red', 'pink', 'orange', 'yellow', 'green', 'blue'])"
   ]
  },
  {
   "cell_type": "code",
   "execution_count": 13,
   "id": "903be717",
   "metadata": {},
   "outputs": [
    {
     "data": {
      "image/png": "[encoded data removed]",
      "text/plain": [
       "<Figure size 432x288 with 1 Axes>"
      ]
     },
     "metadata": {
      "needs_background": "light"
     },
     "output_type": "display_data"
    }
   ],
   "source": [
    "# Saving the visualisation in Jupyter's memory:\n",
    "\n",
    "bar_color = df['orders_day_of_week'].value_counts().plot.bar(color = ['purple', 'red', 'pink', 'orange', 'yellow', 'green', 'blue'])"
   ]
  },
  {
   "cell_type": "code",
   "execution_count": 14,
   "id": "61a3bfe4",
   "metadata": {},
   "outputs": [
    {
     "data": {
      "image/png": "[encoded data removed]",
      "text/plain": [
       "<Figure size 432x288 with 1 Axes>"
      ]
     },
     "execution_count": 14,
     "metadata": {},
     "output_type": "execute_result"
    }
   ],
   "source": [
    "# Calling the above bar chart\n",
    "\n",
    "bar.figure"
   ]
  },
  {
   "cell_type": "markdown",
   "id": "941c4345",
   "metadata": {},
   "source": [
    "#### Create histogram"
   ]
  },
  {
   "cell_type": "code",
   "execution_count": 15,
   "id": "5f22fc85",
   "metadata": {},
   "outputs": [
    {
     "data": {
      "text/plain": [
       "<AxesSubplot:ylabel='Frequency'>"
      ]
     },
     "execution_count": 15,
     "metadata": {},
     "output_type": "execute_result"
    },
    {
     "data": {
      "image/png": "[encoded data removed]",
      "text/plain": [
       "<Figure size 432x288 with 1 Axes>"
      ]
     },
     "metadata": {
      "needs_background": "light"
     },
     "output_type": "display_data"
    }
   ],
   "source": [
    "# Create histogram of the 'prices' column\n",
    "\n",
    "df['prices'].plot.hist(bins = 25)"
   ]
  },
  {
   "cell_type": "markdown",
   "id": "94050b8b",
   "metadata": {},
   "source": [
    "You should have gotten 25 bars (one for each bin). Instead, however, you’ve gotten one single column. The reason for this is to do with data prep stage. Must do data integrity check."
   ]
  },
  {
   "cell_type": "markdown",
   "id": "e2c1cf3f",
   "metadata": {},
   "source": [
    "##### Method 1 of data integrity check - descriptive statistics:"
   ]
  },
  {
   "cell_type": "code",
   "execution_count": 16,
   "id": "f318ffc3",
   "metadata": {},
   "outputs": [
    {
     "data": {
      "text/plain": [
       "count    3.240486e+07\n",
       "mean     1.021125e+01\n",
       "std      4.956361e+02\n",
       "min      1.000000e+00\n",
       "25%      4.200000e+00\n",
       "50%      7.400000e+00\n",
       "75%      1.130000e+01\n",
       "max      9.999900e+04\n",
       "Name: prices, dtype: float64"
      ]
     },
     "execution_count": 16,
     "metadata": {},
     "output_type": "execute_result"
    }
   ],
   "source": [
    "# Data integrity check:\n",
    "\n",
    "df['prices'].describe()"
   ]
  },
  {
   "cell_type": "markdown",
   "id": "38be4001",
   "metadata": {},
   "source": [
    "Something is odd in the maximum value. To further investigate, you could also conduct a few checks for each specific statistic:"
   ]
  },
  {
   "cell_type": "code",
   "execution_count": 17,
   "id": "9ce8d42b",
   "metadata": {},
   "outputs": [
    {
     "data": {
      "text/plain": [
       "10.211251258850098"
      ]
     },
     "execution_count": 17,
     "metadata": {},
     "output_type": "execute_result"
    }
   ],
   "source": [
    "df['prices'].mean()"
   ]
  },
  {
   "cell_type": "code",
   "execution_count": 18,
   "id": "5ee57731",
   "metadata": {},
   "outputs": [
    {
     "data": {
      "text/plain": [
       "7.400000095367432"
      ]
     },
     "execution_count": 18,
     "metadata": {},
     "output_type": "execute_result"
    }
   ],
   "source": [
    "df['prices'].median()"
   ]
  },
  {
   "cell_type": "code",
   "execution_count": 20,
   "id": "496e46fe",
   "metadata": {},
   "outputs": [
    {
     "data": {
      "text/plain": [
       "99999.0"
      ]
     },
     "execution_count": 20,
     "metadata": {},
     "output_type": "execute_result"
    }
   ],
   "source": [
    "df['prices'].max()"
   ]
  },
  {
   "cell_type": "markdown",
   "id": "7d9f955c",
   "metadata": {},
   "source": [
    "While the mean and median are between 7 and 12 (relatively realistic), the max value yields a strange result. How could an item cost $99,999.00? This must be the result of data corruption or some kind of special value within the data. The extreme value is breaking the histogram."
   ]
  },
  {
   "cell_type": "markdown",
   "id": "662b81cd",
   "metadata": {},
   "source": [
    "##### Method 2 of data integrity check - create a scatterplot:"
   ]
  },
  {
   "cell_type": "code",
   "execution_count": 21,
   "id": "4af0a1d4",
   "metadata": {},
   "outputs": [
    {
     "data": {
      "text/plain": [
       "<AxesSubplot:xlabel='prices', ylabel='prices'>"
      ]
     },
     "execution_count": 21,
     "metadata": {},
     "output_type": "execute_result"
    },
    {
     "data": {
      "image/png": "[encoded data removed]",
      "text/plain": [
       "<Figure size 432x288 with 1 Axes>"
      ]
     },
     "metadata": {
      "needs_background": "light"
     },
     "output_type": "display_data"
    }
   ],
   "source": [
    "# Use scatterplots to investigate the relationship between two variables.\n",
    "# Plotting the 'prices' column against itself. This will reveal whether there are any outliers.\n",
    "\n",
    "sns.scatterplot(x = 'prices', y = 'prices', data = df)"
   ]
  },
  {
   "cell_type": "markdown",
   "id": "7ca4c6f2",
   "metadata": {},
   "source": [
    "There are two data points far beyond values expected close to 20,000 and 100,000. This close-to-100,000 value corresponds to the max value identified in the previous checks. \n",
    "\n",
    "To investigate close to 20,000 value, run a few more exploratory checks on the data.\n",
    "\n",
    "Check any values above a certain threshold in your data. Take $100 as the maximum normal price people will pay in a supermarket."
   ]
  },
  {
   "cell_type": "code",
   "execution_count": 24,
   "id": "5f2cde70",
   "metadata": {},
   "outputs": [
    {
     "data": {
      "text/html": [
       "<div>\n",
       "<style scoped>\n",
       "    .dataframe tbody tr th:only-of-type {\n",
       "        vertical-align: middle;\n",
       "    }\n",
       "\n",
       "    .dataframe tbody tr th {\n",
       "        vertical-align: top;\n",
       "    }\n",
       "\n",
       "    .dataframe thead th {\n",
       "        text-align: right;\n",
       "    }\n",
       "</style>\n",
       "<table border=\"1\" class=\"dataframe\">\n",
       "  <thead>\n",
       "    <tr style=\"text-align: right;\">\n",
       "      <th></th>\n",
       "      <th>order_id</th>\n",
       "      <th>user_id</th>\n",
       "      <th>order_numbers_users_made</th>\n",
       "      <th>orders_day_of_week</th>\n",
       "      <th>order_hour_of_day</th>\n",
       "      <th>days_since_prior_order</th>\n",
       "      <th>prior_orders_made</th>\n",
       "      <th>product_id</th>\n",
       "      <th>add_to_cart_order</th>\n",
       "      <th>reordered</th>\n",
       "      <th>...</th>\n",
       "      <th>spending_flag</th>\n",
       "      <th>median_days_since_prior_order</th>\n",
       "      <th>order_frequency_flag</th>\n",
       "      <th>gender</th>\n",
       "      <th>state</th>\n",
       "      <th>age</th>\n",
       "      <th>date_joined</th>\n",
       "      <th>n_dependants</th>\n",
       "      <th>fam_status</th>\n",
       "      <th>income</th>\n",
       "    </tr>\n",
       "  </thead>\n",
       "  <tbody>\n",
       "    <tr>\n",
       "      <th>7805</th>\n",
       "      <td>1435153</td>\n",
       "      <td>1519</td>\n",
       "      <td>26</td>\n",
       "      <td>2</td>\n",
       "      <td>11</td>\n",
       "      <td>6.0</td>\n",
       "      <td>False</td>\n",
       "      <td>21553</td>\n",
       "      <td>15</td>\n",
       "      <td>0</td>\n",
       "      <td>...</td>\n",
       "      <td>High spender</td>\n",
       "      <td>6.0</td>\n",
       "      <td>Frequent customer</td>\n",
       "      <td>Male</td>\n",
       "      <td>Rhode Island</td>\n",
       "      <td>68</td>\n",
       "      <td>3/4/2020</td>\n",
       "      <td>0</td>\n",
       "      <td>divorced/widowed</td>\n",
       "      <td>177864</td>\n",
       "    </tr>\n",
       "    <tr>\n",
       "      <th>7806</th>\n",
       "      <td>1066435</td>\n",
       "      <td>1519</td>\n",
       "      <td>32</td>\n",
       "      <td>3</td>\n",
       "      <td>10</td>\n",
       "      <td>5.0</td>\n",
       "      <td>False</td>\n",
       "      <td>21553</td>\n",
       "      <td>28</td>\n",
       "      <td>1</td>\n",
       "      <td>...</td>\n",
       "      <td>High spender</td>\n",
       "      <td>6.0</td>\n",
       "      <td>Frequent customer</td>\n",
       "      <td>Male</td>\n",
       "      <td>Rhode Island</td>\n",
       "      <td>68</td>\n",
       "      <td>3/4/2020</td>\n",
       "      <td>0</td>\n",
       "      <td>divorced/widowed</td>\n",
       "      <td>177864</td>\n",
       "    </tr>\n",
       "    <tr>\n",
       "      <th>15143</th>\n",
       "      <td>1697208</td>\n",
       "      <td>2409</td>\n",
       "      <td>33</td>\n",
       "      <td>1</td>\n",
       "      <td>19</td>\n",
       "      <td>5.0</td>\n",
       "      <td>False</td>\n",
       "      <td>21553</td>\n",
       "      <td>1</td>\n",
       "      <td>0</td>\n",
       "      <td>...</td>\n",
       "      <td>High spender</td>\n",
       "      <td>5.0</td>\n",
       "      <td>Frequent customer</td>\n",
       "      <td>Female</td>\n",
       "      <td>Hawaii</td>\n",
       "      <td>55</td>\n",
       "      <td>11/11/2018</td>\n",
       "      <td>2</td>\n",
       "      <td>married</td>\n",
       "      <td>230074</td>\n",
       "    </tr>\n",
       "    <tr>\n",
       "      <th>20264</th>\n",
       "      <td>965345</td>\n",
       "      <td>3531</td>\n",
       "      <td>27</td>\n",
       "      <td>2</td>\n",
       "      <td>19</td>\n",
       "      <td>8.0</td>\n",
       "      <td>False</td>\n",
       "      <td>33664</td>\n",
       "      <td>2</td>\n",
       "      <td>0</td>\n",
       "      <td>...</td>\n",
       "      <td>High spender</td>\n",
       "      <td>8.0</td>\n",
       "      <td>Frequent customer</td>\n",
       "      <td>Female</td>\n",
       "      <td>Hawaii</td>\n",
       "      <td>80</td>\n",
       "      <td>10/6/2019</td>\n",
       "      <td>2</td>\n",
       "      <td>married</td>\n",
       "      <td>233776</td>\n",
       "    </tr>\n",
       "    <tr>\n",
       "      <th>20497</th>\n",
       "      <td>2943740</td>\n",
       "      <td>3793</td>\n",
       "      <td>1</td>\n",
       "      <td>2</td>\n",
       "      <td>9</td>\n",
       "      <td>NaN</td>\n",
       "      <td>True</td>\n",
       "      <td>21553</td>\n",
       "      <td>3</td>\n",
       "      <td>0</td>\n",
       "      <td>...</td>\n",
       "      <td>High spender</td>\n",
       "      <td>14.0</td>\n",
       "      <td>Regular customer</td>\n",
       "      <td>Male</td>\n",
       "      <td>Louisiana</td>\n",
       "      <td>59</td>\n",
       "      <td>8/23/2019</td>\n",
       "      <td>3</td>\n",
       "      <td>married</td>\n",
       "      <td>182933</td>\n",
       "    </tr>\n",
       "    <tr>\n",
       "      <th>...</th>\n",
       "      <td>...</td>\n",
       "      <td>...</td>\n",
       "      <td>...</td>\n",
       "      <td>...</td>\n",
       "      <td>...</td>\n",
       "      <td>...</td>\n",
       "      <td>...</td>\n",
       "      <td>...</td>\n",
       "      <td>...</td>\n",
       "      <td>...</td>\n",
       "      <td>...</td>\n",
       "      <td>...</td>\n",
       "      <td>...</td>\n",
       "      <td>...</td>\n",
       "      <td>...</td>\n",
       "      <td>...</td>\n",
       "      <td>...</td>\n",
       "      <td>...</td>\n",
       "      <td>...</td>\n",
       "      <td>...</td>\n",
       "      <td>...</td>\n",
       "    </tr>\n",
       "    <tr>\n",
       "      <th>32303799</th>\n",
       "      <td>3265389</td>\n",
       "      <td>51346</td>\n",
       "      <td>4</td>\n",
       "      <td>1</td>\n",
       "      <td>17</td>\n",
       "      <td>13.0</td>\n",
       "      <td>False</td>\n",
       "      <td>33664</td>\n",
       "      <td>2</td>\n",
       "      <td>1</td>\n",
       "      <td>...</td>\n",
       "      <td>High spender</td>\n",
       "      <td>13.0</td>\n",
       "      <td>Regular customer</td>\n",
       "      <td>Male</td>\n",
       "      <td>Rhode Island</td>\n",
       "      <td>58</td>\n",
       "      <td>1/25/2019</td>\n",
       "      <td>1</td>\n",
       "      <td>married</td>\n",
       "      <td>207497</td>\n",
       "    </tr>\n",
       "    <tr>\n",
       "      <th>32307882</th>\n",
       "      <td>1179092</td>\n",
       "      <td>131671</td>\n",
       "      <td>12</td>\n",
       "      <td>4</td>\n",
       "      <td>9</td>\n",
       "      <td>15.0</td>\n",
       "      <td>False</td>\n",
       "      <td>33664</td>\n",
       "      <td>1</td>\n",
       "      <td>0</td>\n",
       "      <td>...</td>\n",
       "      <td>High spender</td>\n",
       "      <td>13.0</td>\n",
       "      <td>Regular customer</td>\n",
       "      <td>Female</td>\n",
       "      <td>Rhode Island</td>\n",
       "      <td>35</td>\n",
       "      <td>8/4/2018</td>\n",
       "      <td>0</td>\n",
       "      <td>single</td>\n",
       "      <td>86490</td>\n",
       "    </tr>\n",
       "    <tr>\n",
       "      <th>32310810</th>\n",
       "      <td>1226705</td>\n",
       "      <td>39667</td>\n",
       "      <td>7</td>\n",
       "      <td>2</td>\n",
       "      <td>15</td>\n",
       "      <td>20.0</td>\n",
       "      <td>False</td>\n",
       "      <td>33664</td>\n",
       "      <td>14</td>\n",
       "      <td>0</td>\n",
       "      <td>...</td>\n",
       "      <td>High spender</td>\n",
       "      <td>23.0</td>\n",
       "      <td>Non-frequent customer</td>\n",
       "      <td>Male</td>\n",
       "      <td>Rhode Island</td>\n",
       "      <td>78</td>\n",
       "      <td>5/8/2019</td>\n",
       "      <td>2</td>\n",
       "      <td>married</td>\n",
       "      <td>195077</td>\n",
       "    </tr>\n",
       "    <tr>\n",
       "      <th>32330048</th>\n",
       "      <td>3000037</td>\n",
       "      <td>95105</td>\n",
       "      <td>2</td>\n",
       "      <td>4</td>\n",
       "      <td>19</td>\n",
       "      <td>22.0</td>\n",
       "      <td>False</td>\n",
       "      <td>33664</td>\n",
       "      <td>4</td>\n",
       "      <td>0</td>\n",
       "      <td>...</td>\n",
       "      <td>High spender</td>\n",
       "      <td>6.0</td>\n",
       "      <td>Frequent customer</td>\n",
       "      <td>Female</td>\n",
       "      <td>South Carolina</td>\n",
       "      <td>48</td>\n",
       "      <td>1/18/2017</td>\n",
       "      <td>2</td>\n",
       "      <td>married</td>\n",
       "      <td>398880</td>\n",
       "    </tr>\n",
       "    <tr>\n",
       "      <th>32330049</th>\n",
       "      <td>2741225</td>\n",
       "      <td>95105</td>\n",
       "      <td>4</td>\n",
       "      <td>5</td>\n",
       "      <td>12</td>\n",
       "      <td>2.0</td>\n",
       "      <td>False</td>\n",
       "      <td>33664</td>\n",
       "      <td>3</td>\n",
       "      <td>1</td>\n",
       "      <td>...</td>\n",
       "      <td>High spender</td>\n",
       "      <td>6.0</td>\n",
       "      <td>Frequent customer</td>\n",
       "      <td>Female</td>\n",
       "      <td>South Carolina</td>\n",
       "      <td>48</td>\n",
       "      <td>1/18/2017</td>\n",
       "      <td>2</td>\n",
       "      <td>married</td>\n",
       "      <td>398880</td>\n",
       "    </tr>\n",
       "  </tbody>\n",
       "</table>\n",
       "<p>5127 rows × 30 columns</p>\n",
       "</div>"
      ],
      "text/plain": [
       "         order_id user_id  order_numbers_users_made  orders_day_of_week  \\\n",
       "7805      1435153    1519                        26                   2   \n",
       "7806      1066435    1519                        32                   3   \n",
       "15143     1697208    2409                        33                   1   \n",
       "20264      965345    3531                        27                   2   \n",
       "20497     2943740    3793                         1                   2   \n",
       "...           ...     ...                       ...                 ...   \n",
       "32303799  3265389   51346                         4                   1   \n",
       "32307882  1179092  131671                        12                   4   \n",
       "32310810  1226705   39667                         7                   2   \n",
       "32330048  3000037   95105                         2                   4   \n",
       "32330049  2741225   95105                         4                   5   \n",
       "\n",
       "          order_hour_of_day  days_since_prior_order  prior_orders_made  \\\n",
       "7805                     11                     6.0              False   \n",
       "7806                     10                     5.0              False   \n",
       "15143                    19                     5.0              False   \n",
       "20264                    19                     8.0              False   \n",
       "20497                     9                     NaN               True   \n",
       "...                     ...                     ...                ...   \n",
       "32303799                 17                    13.0              False   \n",
       "32307882                  9                    15.0              False   \n",
       "32310810                 15                    20.0              False   \n",
       "32330048                 19                    22.0              False   \n",
       "32330049                 12                     2.0              False   \n",
       "\n",
       "          product_id  add_to_cart_order  reordered  ... spending_flag  \\\n",
       "7805           21553                 15          0  ...  High spender   \n",
       "7806           21553                 28          1  ...  High spender   \n",
       "15143          21553                  1          0  ...  High spender   \n",
       "20264          33664                  2          0  ...  High spender   \n",
       "20497          21553                  3          0  ...  High spender   \n",
       "...              ...                ...        ...  ...           ...   \n",
       "32303799       33664                  2          1  ...  High spender   \n",
       "32307882       33664                  1          0  ...  High spender   \n",
       "32310810       33664                 14          0  ...  High spender   \n",
       "32330048       33664                  4          0  ...  High spender   \n",
       "32330049       33664                  3          1  ...  High spender   \n",
       "\n",
       "          median_days_since_prior_order   order_frequency_flag  gender  \\\n",
       "7805                                6.0      Frequent customer    Male   \n",
       "7806                                6.0      Frequent customer    Male   \n",
       "15143                               5.0      Frequent customer  Female   \n",
       "20264                               8.0      Frequent customer  Female   \n",
       "20497                              14.0       Regular customer    Male   \n",
       "...                                 ...                    ...     ...   \n",
       "32303799                           13.0       Regular customer    Male   \n",
       "32307882                           13.0       Regular customer  Female   \n",
       "32310810                           23.0  Non-frequent customer    Male   \n",
       "32330048                            6.0      Frequent customer  Female   \n",
       "32330049                            6.0      Frequent customer  Female   \n",
       "\n",
       "                   state age date_joined  n_dependants        fam_status  \\\n",
       "7805        Rhode Island  68    3/4/2020             0  divorced/widowed   \n",
       "7806        Rhode Island  68    3/4/2020             0  divorced/widowed   \n",
       "15143             Hawaii  55  11/11/2018             2           married   \n",
       "20264             Hawaii  80   10/6/2019             2           married   \n",
       "20497          Louisiana  59   8/23/2019             3           married   \n",
       "...                  ...  ..         ...           ...               ...   \n",
       "32303799    Rhode Island  58   1/25/2019             1           married   \n",
       "32307882    Rhode Island  35    8/4/2018             0            single   \n",
       "32310810    Rhode Island  78    5/8/2019             2           married   \n",
       "32330048  South Carolina  48   1/18/2017             2           married   \n",
       "32330049  South Carolina  48   1/18/2017             2           married   \n",
       "\n",
       "          income  \n",
       "7805      177864  \n",
       "7806      177864  \n",
       "15143     230074  \n",
       "20264     233776  \n",
       "20497     182933  \n",
       "...          ...  \n",
       "32303799  207497  \n",
       "32307882   86490  \n",
       "32310810  195077  \n",
       "32330048  398880  \n",
       "32330049  398880  \n",
       "\n",
       "[5127 rows x 30 columns]"
      ]
     },
     "execution_count": 24,
     "metadata": {},
     "output_type": "execute_result"
    }
   ],
   "source": [
    "df.loc[df['prices'] > 100]"
   ]
  },
  {
   "cell_type": "code",
   "execution_count": 25,
   "id": "06fa8d62",
   "metadata": {},
   "outputs": [],
   "source": [
    "# Command tells pandas not to assign any options regarding the maximum number of columns to display. \n",
    "\n",
    "pd.options.display.max_columns = None"
   ]
  },
  {
   "cell_type": "code",
   "execution_count": 26,
   "id": "63310a18",
   "metadata": {},
   "outputs": [
    {
     "data": {
      "text/html": [
       "<div>\n",
       "<style scoped>\n",
       "    .dataframe tbody tr th:only-of-type {\n",
       "        vertical-align: middle;\n",
       "    }\n",
       "\n",
       "    .dataframe tbody tr th {\n",
       "        vertical-align: top;\n",
       "    }\n",
       "\n",
       "    .dataframe thead th {\n",
       "        text-align: right;\n",
       "    }\n",
       "</style>\n",
       "<table border=\"1\" class=\"dataframe\">\n",
       "  <thead>\n",
       "    <tr style=\"text-align: right;\">\n",
       "      <th></th>\n",
       "      <th>order_id</th>\n",
       "      <th>user_id</th>\n",
       "      <th>order_numbers_users_made</th>\n",
       "      <th>orders_day_of_week</th>\n",
       "      <th>order_hour_of_day</th>\n",
       "      <th>days_since_prior_order</th>\n",
       "      <th>prior_orders_made</th>\n",
       "      <th>product_id</th>\n",
       "      <th>add_to_cart_order</th>\n",
       "      <th>reordered</th>\n",
       "      <th>product_name</th>\n",
       "      <th>aisle_id</th>\n",
       "      <th>department_id</th>\n",
       "      <th>prices</th>\n",
       "      <th>price_range_loc</th>\n",
       "      <th>busiest_days</th>\n",
       "      <th>busiest_period_of_day</th>\n",
       "      <th>max_order</th>\n",
       "      <th>loyalty_flag</th>\n",
       "      <th>mean_price</th>\n",
       "      <th>spending_flag</th>\n",
       "      <th>median_days_since_prior_order</th>\n",
       "      <th>order_frequency_flag</th>\n",
       "      <th>gender</th>\n",
       "      <th>state</th>\n",
       "      <th>age</th>\n",
       "      <th>date_joined</th>\n",
       "      <th>n_dependants</th>\n",
       "      <th>fam_status</th>\n",
       "      <th>income</th>\n",
       "    </tr>\n",
       "  </thead>\n",
       "  <tbody>\n",
       "    <tr>\n",
       "      <th>7805</th>\n",
       "      <td>1435153</td>\n",
       "      <td>1519</td>\n",
       "      <td>26</td>\n",
       "      <td>2</td>\n",
       "      <td>11</td>\n",
       "      <td>6.0</td>\n",
       "      <td>False</td>\n",
       "      <td>21553</td>\n",
       "      <td>15</td>\n",
       "      <td>0</td>\n",
       "      <td>Lowfat 2% Milkfat Cottage Cheese</td>\n",
       "      <td>108</td>\n",
       "      <td>16</td>\n",
       "      <td>14900.0</td>\n",
       "      <td>High-range product</td>\n",
       "      <td>Regularly busy</td>\n",
       "      <td>Most orders</td>\n",
       "      <td>47</td>\n",
       "      <td>Loyal customer</td>\n",
       "      <td>10.382812</td>\n",
       "      <td>High spender</td>\n",
       "      <td>6.0</td>\n",
       "      <td>Frequent customer</td>\n",
       "      <td>Male</td>\n",
       "      <td>Rhode Island</td>\n",
       "      <td>68</td>\n",
       "      <td>3/4/2020</td>\n",
       "      <td>0</td>\n",
       "      <td>divorced/widowed</td>\n",
       "      <td>177864</td>\n",
       "    </tr>\n",
       "    <tr>\n",
       "      <th>7806</th>\n",
       "      <td>1066435</td>\n",
       "      <td>1519</td>\n",
       "      <td>32</td>\n",
       "      <td>3</td>\n",
       "      <td>10</td>\n",
       "      <td>5.0</td>\n",
       "      <td>False</td>\n",
       "      <td>21553</td>\n",
       "      <td>28</td>\n",
       "      <td>1</td>\n",
       "      <td>Lowfat 2% Milkfat Cottage Cheese</td>\n",
       "      <td>108</td>\n",
       "      <td>16</td>\n",
       "      <td>14900.0</td>\n",
       "      <td>High-range product</td>\n",
       "      <td>Slowest days</td>\n",
       "      <td>Most orders</td>\n",
       "      <td>47</td>\n",
       "      <td>Loyal customer</td>\n",
       "      <td>10.382812</td>\n",
       "      <td>High spender</td>\n",
       "      <td>6.0</td>\n",
       "      <td>Frequent customer</td>\n",
       "      <td>Male</td>\n",
       "      <td>Rhode Island</td>\n",
       "      <td>68</td>\n",
       "      <td>3/4/2020</td>\n",
       "      <td>0</td>\n",
       "      <td>divorced/widowed</td>\n",
       "      <td>177864</td>\n",
       "    </tr>\n",
       "    <tr>\n",
       "      <th>15143</th>\n",
       "      <td>1697208</td>\n",
       "      <td>2409</td>\n",
       "      <td>33</td>\n",
       "      <td>1</td>\n",
       "      <td>19</td>\n",
       "      <td>5.0</td>\n",
       "      <td>False</td>\n",
       "      <td>21553</td>\n",
       "      <td>1</td>\n",
       "      <td>0</td>\n",
       "      <td>Lowfat 2% Milkfat Cottage Cheese</td>\n",
       "      <td>108</td>\n",
       "      <td>16</td>\n",
       "      <td>14900.0</td>\n",
       "      <td>High-range product</td>\n",
       "      <td>Busiest days</td>\n",
       "      <td>Most orders</td>\n",
       "      <td>48</td>\n",
       "      <td>Loyal customer</td>\n",
       "      <td>10.382812</td>\n",
       "      <td>High spender</td>\n",
       "      <td>5.0</td>\n",
       "      <td>Frequent customer</td>\n",
       "      <td>Female</td>\n",
       "      <td>Hawaii</td>\n",
       "      <td>55</td>\n",
       "      <td>11/11/2018</td>\n",
       "      <td>2</td>\n",
       "      <td>married</td>\n",
       "      <td>230074</td>\n",
       "    </tr>\n",
       "    <tr>\n",
       "      <th>20264</th>\n",
       "      <td>965345</td>\n",
       "      <td>3531</td>\n",
       "      <td>27</td>\n",
       "      <td>2</td>\n",
       "      <td>19</td>\n",
       "      <td>8.0</td>\n",
       "      <td>False</td>\n",
       "      <td>33664</td>\n",
       "      <td>2</td>\n",
       "      <td>0</td>\n",
       "      <td>2 % Reduced Fat  Milk</td>\n",
       "      <td>84</td>\n",
       "      <td>16</td>\n",
       "      <td>99999.0</td>\n",
       "      <td>High-range product</td>\n",
       "      <td>Regularly busy</td>\n",
       "      <td>Most orders</td>\n",
       "      <td>29</td>\n",
       "      <td>Regular customer</td>\n",
       "      <td>12.492188</td>\n",
       "      <td>High spender</td>\n",
       "      <td>8.0</td>\n",
       "      <td>Frequent customer</td>\n",
       "      <td>Female</td>\n",
       "      <td>Hawaii</td>\n",
       "      <td>80</td>\n",
       "      <td>10/6/2019</td>\n",
       "      <td>2</td>\n",
       "      <td>married</td>\n",
       "      <td>233776</td>\n",
       "    </tr>\n",
       "    <tr>\n",
       "      <th>20497</th>\n",
       "      <td>2943740</td>\n",
       "      <td>3793</td>\n",
       "      <td>1</td>\n",
       "      <td>2</td>\n",
       "      <td>9</td>\n",
       "      <td>NaN</td>\n",
       "      <td>True</td>\n",
       "      <td>21553</td>\n",
       "      <td>3</td>\n",
       "      <td>0</td>\n",
       "      <td>Lowfat 2% Milkfat Cottage Cheese</td>\n",
       "      <td>108</td>\n",
       "      <td>16</td>\n",
       "      <td>14900.0</td>\n",
       "      <td>High-range product</td>\n",
       "      <td>Regularly busy</td>\n",
       "      <td>Most orders</td>\n",
       "      <td>18</td>\n",
       "      <td>Regular customer</td>\n",
       "      <td>12.492188</td>\n",
       "      <td>High spender</td>\n",
       "      <td>14.0</td>\n",
       "      <td>Regular customer</td>\n",
       "      <td>Male</td>\n",
       "      <td>Louisiana</td>\n",
       "      <td>59</td>\n",
       "      <td>8/23/2019</td>\n",
       "      <td>3</td>\n",
       "      <td>married</td>\n",
       "      <td>182933</td>\n",
       "    </tr>\n",
       "    <tr>\n",
       "      <th>...</th>\n",
       "      <td>...</td>\n",
       "      <td>...</td>\n",
       "      <td>...</td>\n",
       "      <td>...</td>\n",
       "      <td>...</td>\n",
       "      <td>...</td>\n",
       "      <td>...</td>\n",
       "      <td>...</td>\n",
       "      <td>...</td>\n",
       "      <td>...</td>\n",
       "      <td>...</td>\n",
       "      <td>...</td>\n",
       "      <td>...</td>\n",
       "      <td>...</td>\n",
       "      <td>...</td>\n",
       "      <td>...</td>\n",
       "      <td>...</td>\n",
       "      <td>...</td>\n",
       "      <td>...</td>\n",
       "      <td>...</td>\n",
       "      <td>...</td>\n",
       "      <td>...</td>\n",
       "      <td>...</td>\n",
       "      <td>...</td>\n",
       "      <td>...</td>\n",
       "      <td>...</td>\n",
       "      <td>...</td>\n",
       "      <td>...</td>\n",
       "      <td>...</td>\n",
       "      <td>...</td>\n",
       "    </tr>\n",
       "    <tr>\n",
       "      <th>32303799</th>\n",
       "      <td>3265389</td>\n",
       "      <td>51346</td>\n",
       "      <td>4</td>\n",
       "      <td>1</td>\n",
       "      <td>17</td>\n",
       "      <td>13.0</td>\n",
       "      <td>False</td>\n",
       "      <td>33664</td>\n",
       "      <td>2</td>\n",
       "      <td>1</td>\n",
       "      <td>2 % Reduced Fat  Milk</td>\n",
       "      <td>84</td>\n",
       "      <td>16</td>\n",
       "      <td>99999.0</td>\n",
       "      <td>High-range product</td>\n",
       "      <td>Busiest days</td>\n",
       "      <td>Most orders</td>\n",
       "      <td>5</td>\n",
       "      <td>New customer</td>\n",
       "      <td>13.296875</td>\n",
       "      <td>High spender</td>\n",
       "      <td>13.0</td>\n",
       "      <td>Regular customer</td>\n",
       "      <td>Male</td>\n",
       "      <td>Rhode Island</td>\n",
       "      <td>58</td>\n",
       "      <td>1/25/2019</td>\n",
       "      <td>1</td>\n",
       "      <td>married</td>\n",
       "      <td>207497</td>\n",
       "    </tr>\n",
       "    <tr>\n",
       "      <th>32307882</th>\n",
       "      <td>1179092</td>\n",
       "      <td>131671</td>\n",
       "      <td>12</td>\n",
       "      <td>4</td>\n",
       "      <td>9</td>\n",
       "      <td>15.0</td>\n",
       "      <td>False</td>\n",
       "      <td>33664</td>\n",
       "      <td>1</td>\n",
       "      <td>0</td>\n",
       "      <td>2 % Reduced Fat  Milk</td>\n",
       "      <td>84</td>\n",
       "      <td>16</td>\n",
       "      <td>99999.0</td>\n",
       "      <td>High-range product</td>\n",
       "      <td>Slowest days</td>\n",
       "      <td>Most orders</td>\n",
       "      <td>13</td>\n",
       "      <td>Regular customer</td>\n",
       "      <td>12.492188</td>\n",
       "      <td>High spender</td>\n",
       "      <td>13.0</td>\n",
       "      <td>Regular customer</td>\n",
       "      <td>Female</td>\n",
       "      <td>Rhode Island</td>\n",
       "      <td>35</td>\n",
       "      <td>8/4/2018</td>\n",
       "      <td>0</td>\n",
       "      <td>single</td>\n",
       "      <td>86490</td>\n",
       "    </tr>\n",
       "    <tr>\n",
       "      <th>32310810</th>\n",
       "      <td>1226705</td>\n",
       "      <td>39667</td>\n",
       "      <td>7</td>\n",
       "      <td>2</td>\n",
       "      <td>15</td>\n",
       "      <td>20.0</td>\n",
       "      <td>False</td>\n",
       "      <td>33664</td>\n",
       "      <td>14</td>\n",
       "      <td>0</td>\n",
       "      <td>2 % Reduced Fat  Milk</td>\n",
       "      <td>84</td>\n",
       "      <td>16</td>\n",
       "      <td>99999.0</td>\n",
       "      <td>High-range product</td>\n",
       "      <td>Regularly busy</td>\n",
       "      <td>Most orders</td>\n",
       "      <td>7</td>\n",
       "      <td>New customer</td>\n",
       "      <td>13.296875</td>\n",
       "      <td>High spender</td>\n",
       "      <td>23.0</td>\n",
       "      <td>Non-frequent customer</td>\n",
       "      <td>Male</td>\n",
       "      <td>Rhode Island</td>\n",
       "      <td>78</td>\n",
       "      <td>5/8/2019</td>\n",
       "      <td>2</td>\n",
       "      <td>married</td>\n",
       "      <td>195077</td>\n",
       "    </tr>\n",
       "    <tr>\n",
       "      <th>32330048</th>\n",
       "      <td>3000037</td>\n",
       "      <td>95105</td>\n",
       "      <td>2</td>\n",
       "      <td>4</td>\n",
       "      <td>19</td>\n",
       "      <td>22.0</td>\n",
       "      <td>False</td>\n",
       "      <td>33664</td>\n",
       "      <td>4</td>\n",
       "      <td>0</td>\n",
       "      <td>2 % Reduced Fat  Milk</td>\n",
       "      <td>84</td>\n",
       "      <td>16</td>\n",
       "      <td>99999.0</td>\n",
       "      <td>High-range product</td>\n",
       "      <td>Slowest days</td>\n",
       "      <td>Most orders</td>\n",
       "      <td>4</td>\n",
       "      <td>New customer</td>\n",
       "      <td>13.296875</td>\n",
       "      <td>High spender</td>\n",
       "      <td>6.0</td>\n",
       "      <td>Frequent customer</td>\n",
       "      <td>Female</td>\n",
       "      <td>South Carolina</td>\n",
       "      <td>48</td>\n",
       "      <td>1/18/2017</td>\n",
       "      <td>2</td>\n",
       "      <td>married</td>\n",
       "      <td>398880</td>\n",
       "    </tr>\n",
       "    <tr>\n",
       "      <th>32330049</th>\n",
       "      <td>2741225</td>\n",
       "      <td>95105</td>\n",
       "      <td>4</td>\n",
       "      <td>5</td>\n",
       "      <td>12</td>\n",
       "      <td>2.0</td>\n",
       "      <td>False</td>\n",
       "      <td>33664</td>\n",
       "      <td>3</td>\n",
       "      <td>1</td>\n",
       "      <td>2 % Reduced Fat  Milk</td>\n",
       "      <td>84</td>\n",
       "      <td>16</td>\n",
       "      <td>99999.0</td>\n",
       "      <td>High-range product</td>\n",
       "      <td>Regularly busy</td>\n",
       "      <td>Most orders</td>\n",
       "      <td>4</td>\n",
       "      <td>New customer</td>\n",
       "      <td>13.296875</td>\n",
       "      <td>High spender</td>\n",
       "      <td>6.0</td>\n",
       "      <td>Frequent customer</td>\n",
       "      <td>Female</td>\n",
       "      <td>South Carolina</td>\n",
       "      <td>48</td>\n",
       "      <td>1/18/2017</td>\n",
       "      <td>2</td>\n",
       "      <td>married</td>\n",
       "      <td>398880</td>\n",
       "    </tr>\n",
       "  </tbody>\n",
       "</table>\n",
       "<p>5127 rows × 30 columns</p>\n",
       "</div>"
      ],
      "text/plain": [
       "         order_id user_id  order_numbers_users_made  orders_day_of_week  \\\n",
       "7805      1435153    1519                        26                   2   \n",
       "7806      1066435    1519                        32                   3   \n",
       "15143     1697208    2409                        33                   1   \n",
       "20264      965345    3531                        27                   2   \n",
       "20497     2943740    3793                         1                   2   \n",
       "...           ...     ...                       ...                 ...   \n",
       "32303799  3265389   51346                         4                   1   \n",
       "32307882  1179092  131671                        12                   4   \n",
       "32310810  1226705   39667                         7                   2   \n",
       "32330048  3000037   95105                         2                   4   \n",
       "32330049  2741225   95105                         4                   5   \n",
       "\n",
       "          order_hour_of_day  days_since_prior_order  prior_orders_made  \\\n",
       "7805                     11                     6.0              False   \n",
       "7806                     10                     5.0              False   \n",
       "15143                    19                     5.0              False   \n",
       "20264                    19                     8.0              False   \n",
       "20497                     9                     NaN               True   \n",
       "...                     ...                     ...                ...   \n",
       "32303799                 17                    13.0              False   \n",
       "32307882                  9                    15.0              False   \n",
       "32310810                 15                    20.0              False   \n",
       "32330048                 19                    22.0              False   \n",
       "32330049                 12                     2.0              False   \n",
       "\n",
       "          product_id  add_to_cart_order  reordered  \\\n",
       "7805           21553                 15          0   \n",
       "7806           21553                 28          1   \n",
       "15143          21553                  1          0   \n",
       "20264          33664                  2          0   \n",
       "20497          21553                  3          0   \n",
       "...              ...                ...        ...   \n",
       "32303799       33664                  2          1   \n",
       "32307882       33664                  1          0   \n",
       "32310810       33664                 14          0   \n",
       "32330048       33664                  4          0   \n",
       "32330049       33664                  3          1   \n",
       "\n",
       "                              product_name  aisle_id  department_id   prices  \\\n",
       "7805      Lowfat 2% Milkfat Cottage Cheese       108             16  14900.0   \n",
       "7806      Lowfat 2% Milkfat Cottage Cheese       108             16  14900.0   \n",
       "15143     Lowfat 2% Milkfat Cottage Cheese       108             16  14900.0   \n",
       "20264                2 % Reduced Fat  Milk        84             16  99999.0   \n",
       "20497     Lowfat 2% Milkfat Cottage Cheese       108             16  14900.0   \n",
       "...                                    ...       ...            ...      ...   \n",
       "32303799             2 % Reduced Fat  Milk        84             16  99999.0   \n",
       "32307882             2 % Reduced Fat  Milk        84             16  99999.0   \n",
       "32310810             2 % Reduced Fat  Milk        84             16  99999.0   \n",
       "32330048             2 % Reduced Fat  Milk        84             16  99999.0   \n",
       "32330049             2 % Reduced Fat  Milk        84             16  99999.0   \n",
       "\n",
       "             price_range_loc    busiest_days busiest_period_of_day  max_order  \\\n",
       "7805      High-range product  Regularly busy           Most orders         47   \n",
       "7806      High-range product    Slowest days           Most orders         47   \n",
       "15143     High-range product    Busiest days           Most orders         48   \n",
       "20264     High-range product  Regularly busy           Most orders         29   \n",
       "20497     High-range product  Regularly busy           Most orders         18   \n",
       "...                      ...             ...                   ...        ...   \n",
       "32303799  High-range product    Busiest days           Most orders          5   \n",
       "32307882  High-range product    Slowest days           Most orders         13   \n",
       "32310810  High-range product  Regularly busy           Most orders          7   \n",
       "32330048  High-range product    Slowest days           Most orders          4   \n",
       "32330049  High-range product  Regularly busy           Most orders          4   \n",
       "\n",
       "              loyalty_flag  mean_price spending_flag  \\\n",
       "7805        Loyal customer   10.382812  High spender   \n",
       "7806        Loyal customer   10.382812  High spender   \n",
       "15143       Loyal customer   10.382812  High spender   \n",
       "20264     Regular customer   12.492188  High spender   \n",
       "20497     Regular customer   12.492188  High spender   \n",
       "...                    ...         ...           ...   \n",
       "32303799      New customer   13.296875  High spender   \n",
       "32307882  Regular customer   12.492188  High spender   \n",
       "32310810      New customer   13.296875  High spender   \n",
       "32330048      New customer   13.296875  High spender   \n",
       "32330049      New customer   13.296875  High spender   \n",
       "\n",
       "          median_days_since_prior_order   order_frequency_flag  gender  \\\n",
       "7805                                6.0      Frequent customer    Male   \n",
       "7806                                6.0      Frequent customer    Male   \n",
       "15143                               5.0      Frequent customer  Female   \n",
       "20264                               8.0      Frequent customer  Female   \n",
       "20497                              14.0       Regular customer    Male   \n",
       "...                                 ...                    ...     ...   \n",
       "32303799                           13.0       Regular customer    Male   \n",
       "32307882                           13.0       Regular customer  Female   \n",
       "32310810                           23.0  Non-frequent customer    Male   \n",
       "32330048                            6.0      Frequent customer  Female   \n",
       "32330049                            6.0      Frequent customer  Female   \n",
       "\n",
       "                   state  age date_joined  n_dependants        fam_status  \\\n",
       "7805        Rhode Island   68    3/4/2020             0  divorced/widowed   \n",
       "7806        Rhode Island   68    3/4/2020             0  divorced/widowed   \n",
       "15143             Hawaii   55  11/11/2018             2           married   \n",
       "20264             Hawaii   80   10/6/2019             2           married   \n",
       "20497          Louisiana   59   8/23/2019             3           married   \n",
       "...                  ...  ...         ...           ...               ...   \n",
       "32303799    Rhode Island   58   1/25/2019             1           married   \n",
       "32307882    Rhode Island   35    8/4/2018             0            single   \n",
       "32310810    Rhode Island   78    5/8/2019             2           married   \n",
       "32330048  South Carolina   48   1/18/2017             2           married   \n",
       "32330049  South Carolina   48   1/18/2017             2           married   \n",
       "\n",
       "          income  \n",
       "7805      177864  \n",
       "7806      177864  \n",
       "15143     230074  \n",
       "20264     233776  \n",
       "20497     182933  \n",
       "...          ...  \n",
       "32303799  207497  \n",
       "32307882   86490  \n",
       "32310810  195077  \n",
       "32330048  398880  \n",
       "32330049  398880  \n",
       "\n",
       "[5127 rows x 30 columns]"
      ]
     },
     "execution_count": 26,
     "metadata": {},
     "output_type": "execute_result"
    }
   ],
   "source": [
    "df.loc[df['prices'] > 100]"
   ]
  },
  {
   "cell_type": "markdown",
   "id": "54f9a778",
   "metadata": {},
   "source": [
    "From the output, you can see that there are 5,127 rows with outlier observations (prices greater than $100). \n",
    "\n",
    "In the prices column, there's another odd odd value, $14,900.00, which corresponds to the second unexplainable point in the scatterplot. \n",
    "\n",
    "Following this is the  $99,999.00 you identified previously. As such, you can assume that it’s the $14,900.00 and $99,999.00 values that are skewing your charts."
   ]
  },
  {
   "cell_type": "code",
   "execution_count": 27,
   "id": "a8267f68",
   "metadata": {},
   "outputs": [],
   "source": [
    "# For now, let’s mark them as missing since they don’t make sense in terms of the other values in the column. \n",
    "# Therefore turn them into NaNs.\n",
    "\n",
    "df.loc[df['prices'] >100, 'prices'] = np.nan"
   ]
  },
  {
   "cell_type": "code",
   "execution_count": 28,
   "id": "94b9184b",
   "metadata": {},
   "outputs": [
    {
     "data": {
      "text/plain": [
       "25.0"
      ]
     },
     "execution_count": 28,
     "metadata": {},
     "output_type": "execute_result"
    }
   ],
   "source": [
    "# Check whether the replacement was successful by running a max-value check on your “prices” column.\n",
    "\n",
    "df['prices'].max()"
   ]
  },
  {
   "cell_type": "markdown",
   "id": "a8f10cf1",
   "metadata": {},
   "source": [
    "###### Note: Data Quality Reminder\n",
    "\n",
    "Keep in mind that this step should have been completed during the data prep stages of your project. It isn’t generally a good idea to still be cleaning your data in the visualization stage. \n",
    "\n",
    "To keep your data cleaning tasks in one place, we recommend you copy the code from above into your notebook from Exercise 4.5. "
   ]
  },
  {
   "cell_type": "code",
   "execution_count": 29,
   "id": "21e46c60",
   "metadata": {},
   "outputs": [
    {
     "data": {
      "image/png": "[encoded data removed]",
      "text/plain": [
       "<Figure size 432x288 with 1 Axes>"
      ]
     },
     "metadata": {
      "needs_background": "light"
     },
     "output_type": "display_data"
    }
   ],
   "source": [
    "# Creating histogram of 'prices' column with 25 number of bins\n",
    "\n",
    "hist = df['prices'].plot.hist(bins = 25)"
   ]
  },
  {
   "cell_type": "code",
   "execution_count": 31,
   "id": "6c2d093f",
   "metadata": {},
   "outputs": [
    {
     "data": {
      "image/png": "[encoded data removed]",
      "text/plain": [
       "<Figure size 432x288 with 1 Axes>"
      ]
     },
     "metadata": {
      "needs_background": "light"
     },
     "output_type": "display_data"
    }
   ],
   "source": [
    "# Creating histogram of 'prices' column with 70 number of bins\n",
    "\n",
    "hist_2 = df['prices'].plot.hist(bins = 70)"
   ]
  },
  {
   "cell_type": "markdown",
   "id": "7c5a29c8",
   "metadata": {},
   "source": [
    "#### Create scatterplot"
   ]
  },
  {
   "cell_type": "code",
   "execution_count": 33,
   "id": "4cc22f5f",
   "metadata": {},
   "outputs": [
    {
     "data": {
      "text/plain": [
       "<AxesSubplot:xlabel='prices', ylabel='prices'>"
      ]
     },
     "execution_count": 33,
     "metadata": {},
     "output_type": "execute_result"
    },
    {
     "data": {
      "image/png": "[encoded data removed]",
      "text/plain": [
       "<Figure size 432x288 with 1 Axes>"
      ]
     },
     "metadata": {
      "needs_background": "light"
     },
     "output_type": "display_data"
    }
   ],
   "source": [
    "# Create scatterplot of 'prices' column\n",
    "\n",
    "sns.scatterplot(x = 'prices', y = 'prices', data = df)"
   ]
  },
  {
   "cell_type": "code",
   "execution_count": 34,
   "id": "8c2491ce",
   "metadata": {},
   "outputs": [
    {
     "data": {
      "image/png": "[encoded data removed]",
      "text/plain": [
       "<Figure size 432x288 with 1 Axes>"
      ]
     },
     "metadata": {
      "needs_background": "light"
     },
     "output_type": "display_data"
    }
   ],
   "source": [
    "# Create scatterplot of 'prices' column and saving the visualisation in Jupyter's memory:\n",
    "\n",
    "scatter = sns.scatterplot(x = 'prices', y = 'prices', data = df)"
   ]
  },
  {
   "cell_type": "code",
   "execution_count": 35,
   "id": "6dff8dae",
   "metadata": {},
   "outputs": [
    {
     "data": {
      "image/png": "[encoded data removed]",
      "text/plain": [
       "<Figure size 432x288 with 1 Axes>"
      ]
     },
     "execution_count": 35,
     "metadata": {},
     "output_type": "execute_result"
    }
   ],
   "source": [
    "# Calling the above bar chart\n",
    "\n",
    "scatter.figure"
   ]
  },
  {
   "cell_type": "code",
   "execution_count": 36,
   "id": "f978d308",
   "metadata": {},
   "outputs": [],
   "source": [
    "# Exporting histogram\n",
    "\n",
    "scatter.figure.savefig(os.path.join(path, '04 Analysis', 'Visualisations', 'scatterplot.png'))"
   ]
  },
  {
   "cell_type": "markdown",
   "id": "7bcafe86",
   "metadata": {},
   "source": [
    "#### Create linechart using a sample subset"
   ]
  },
  {
   "cell_type": "code",
   "execution_count": 37,
   "id": "34db5847",
   "metadata": {},
   "outputs": [],
   "source": [
    "# Setting a random but reproducible pattern.\n",
    "# Set the seed for the random number generator.\n",
    "\n",
    "np.random.seed(4)"
   ]
  },
  {
   "cell_type": "code",
   "execution_count": 38,
   "id": "c4af8eb6",
   "metadata": {},
   "outputs": [],
   "source": [
    "# Creating a new list, dev, to split dataframe into 70/30 split samples.\n",
    "\n",
    "dev = np.random.rand(len(df)) <= 0.7"
   ]
  },
  {
   "cell_type": "code",
   "execution_count": 39,
   "id": "e1172915",
   "metadata": {},
   "outputs": [
    {
     "data": {
      "text/plain": [
       "array([False,  True, False, ..., False,  True, False])"
      ]
     },
     "execution_count": 39,
     "metadata": {},
     "output_type": "execute_result"
    }
   ],
   "source": [
    "dev"
   ]
  },
  {
   "cell_type": "code",
   "execution_count": 40,
   "id": "9724e947",
   "metadata": {},
   "outputs": [
    {
     "data": {
      "text/plain": [
       "array([0.55006859, 0.84913335, 0.64899461, 0.01577571, 0.76204088,\n",
       "       0.38773303, 0.73423656, 0.20564689, 0.04226066, 0.85816197])"
      ]
     },
     "execution_count": 40,
     "metadata": {},
     "output_type": "execute_result"
    }
   ],
   "source": [
    "np.random.rand(10)"
   ]
  },
  {
   "cell_type": "code",
   "execution_count": 41,
   "id": "db2faf33",
   "metadata": {},
   "outputs": [
    {
     "data": {
      "text/plain": [
       "(32404859, 30)"
      ]
     },
     "execution_count": 41,
     "metadata": {},
     "output_type": "execute_result"
    }
   ],
   "source": [
    "df.shape"
   ]
  },
  {
   "cell_type": "markdown",
   "id": "3c32ea36",
   "metadata": {},
   "source": [
    "Now there is a list of 32,404,859 boolean values and dataframe that is 32,404,859 rows long."
   ]
  },
  {
   "cell_type": "code",
   "execution_count": 42,
   "id": "d9c3c64f",
   "metadata": {},
   "outputs": [],
   "source": [
    "# Store 70% of the sample in the dataframe big\n",
    "\n",
    "big = df[dev]"
   ]
  },
  {
   "cell_type": "code",
   "execution_count": 43,
   "id": "e850b6f9",
   "metadata": {},
   "outputs": [],
   "source": [
    "# Store 30% of the sample in the dataframe small\n",
    "\n",
    "small = df[~dev]"
   ]
  },
  {
   "cell_type": "code",
   "execution_count": 44,
   "id": "e353b844",
   "metadata": {},
   "outputs": [
    {
     "data": {
      "text/plain": [
       "(22687325, 30)"
      ]
     },
     "execution_count": 44,
     "metadata": {},
     "output_type": "execute_result"
    }
   ],
   "source": [
    "big.shape"
   ]
  },
  {
   "cell_type": "code",
   "execution_count": 45,
   "id": "1828a5eb",
   "metadata": {},
   "outputs": [
    {
     "data": {
      "text/plain": [
       "(9717534, 30)"
      ]
     },
     "execution_count": 45,
     "metadata": {},
     "output_type": "execute_result"
    }
   ],
   "source": [
    "small.shape"
   ]
  },
  {
   "cell_type": "code",
   "execution_count": 46,
   "id": "8e8f29eb",
   "metadata": {},
   "outputs": [
    {
     "data": {
      "text/plain": [
       "32404859"
      ]
     },
     "execution_count": 46,
     "metadata": {},
     "output_type": "execute_result"
    }
   ],
   "source": [
    "# Check length of dataframe\n",
    "\n",
    "len(df)"
   ]
  },
  {
   "cell_type": "code",
   "execution_count": 47,
   "id": "d596c5a4",
   "metadata": {},
   "outputs": [
    {
     "data": {
      "text/plain": [
       "32404859"
      ]
     },
     "execution_count": 47,
     "metadata": {},
     "output_type": "execute_result"
    }
   ],
   "source": [
    "# Check the sum of big and small is equivalent to the length of dataframe\n",
    "\n",
    "len(big) + len(small)"
   ]
  },
  {
   "cell_type": "markdown",
   "id": "5829866b",
   "metadata": {},
   "source": [
    "The subsetting procedure was successful as the numbers match."
   ]
  },
  {
   "cell_type": "code",
   "execution_count": 48,
   "id": "d40fd916",
   "metadata": {},
   "outputs": [],
   "source": [
    "# To speed up the processing time, reduce samples to only those columns necessary for the chart ('orders_day_of_week','prices' columns)\n",
    "\n",
    "df_2 = small[['orders_day_of_week','prices']]"
   ]
  },
  {
   "cell_type": "code",
   "execution_count": 49,
   "id": "f1af4925",
   "metadata": {},
   "outputs": [
    {
     "data": {
      "image/png": "[encoded data removed]",
      "text/plain": [
       "<Figure size 432x288 with 1 Axes>"
      ]
     },
     "metadata": {
      "needs_background": "light"
     },
     "output_type": "display_data"
    }
   ],
   "source": [
    "# Creating line chart using small sampling data\n",
    "\n",
    "line_2 = sns.lineplot(data = df_2, x = 'orders_day_of_week', y = 'prices')"
   ]
  },
  {
   "cell_type": "code",
   "execution_count": 50,
   "id": "091ef4f9",
   "metadata": {},
   "outputs": [
    {
     "data": {
      "text/plain": [
       "(32404859, 30)"
      ]
     },
     "execution_count": 50,
     "metadata": {},
     "output_type": "execute_result"
    }
   ],
   "source": [
    "df.shape"
   ]
  },
  {
   "cell_type": "markdown",
   "id": "e00f7583",
   "metadata": {},
   "source": [
    "#### 3. You need to provide the Instacart senior stakeholders with descriptive findings about sales. Create a histogram of the “order_hour_of_day” column.\n",
    "In a markdown cell beneath your histogram, describe what the histogram demonstrates."
   ]
  },
  {
   "cell_type": "code",
   "execution_count": 54,
   "id": "85ce93c2",
   "metadata": {},
   "outputs": [
    {
     "data": {
      "image/png": "[encoded data removed]",
      "text/plain": [
       "<Figure size 432x288 with 1 Axes>"
      ]
     },
     "metadata": {
      "needs_background": "light"
     },
     "output_type": "display_data"
    }
   ],
   "source": [
    "hist_3 = df['order_hour_of_day'].plot.hist(bins=24)"
   ]
  },
  {
   "cell_type": "markdown",
   "id": "38548d9a",
   "metadata": {},
   "source": [
    "The histogram demonstrates majority of the orders are made between 9am and 4pm."
   ]
  },
  {
   "cell_type": "markdown",
   "id": "27a1650e",
   "metadata": {},
   "source": [
    "#### 4. The marketing team is curious about the distribution of orders among customers in terms of loyalty. Create a bar chart from the “loyalty_flag” column."
   ]
  },
  {
   "cell_type": "code",
   "execution_count": 55,
   "id": "c1057ac3",
   "metadata": {},
   "outputs": [
    {
     "data": {
      "image/png": "[encoded data removed]",
      "text/plain": [
       "<Figure size 432x288 with 1 Axes>"
      ]
     },
     "metadata": {
      "needs_background": "light"
     },
     "output_type": "display_data"
    }
   ],
   "source": [
    "bar_2  = df ['loyalty_flag'].value_counts().plot.bar()"
   ]
  },
  {
   "cell_type": "markdown",
   "id": "549635f3",
   "metadata": {},
   "source": [
    "#### 5. Check whether there’s a difference in expenditure (the “prices” column) depending on the hour of the day. (Hint: To check this, you need to use an accurate sample for your line chart!)"
   ]
  },
  {
   "cell_type": "code",
   "execution_count": 58,
   "id": "03dea9a4",
   "metadata": {},
   "outputs": [],
   "source": [
    "df_3 = df[['order_hour_of_day', 'prices']]"
   ]
  },
  {
   "cell_type": "code",
   "execution_count": 60,
   "id": "5f63d260",
   "metadata": {},
   "outputs": [
    {
     "data": {
      "image/png": "[encoded data removed]",
      "text/plain": [
       "<Figure size 432x288 with 1 Axes>"
      ]
     },
     "metadata": {
      "needs_background": "light"
     },
     "output_type": "display_data"
    }
   ],
   "source": [
    "line_3 = sns.lineplot(data = df_3, x = 'order_hour_of_day', y = 'prices')"
   ]
  },
  {
   "cell_type": "markdown",
   "id": "ed06f037",
   "metadata": {},
   "source": [
    "Expenditure peaks at 4am, but is at the lowest at 10am. Unsure why this is the case, could be in a different timezone."
   ]
  },
  {
   "cell_type": "markdown",
   "id": "28696885",
   "metadata": {},
   "source": [
    "#### 6. Now that you have information about customers, you need to conduct some exploratory analysis of customer demographics to inform the targeted marketing campaigns. First, determine whether there’s a connection between age and family status by creating a line chart exploring the connections between age and number of dependents:\n",
    "In a markdown cell beneath your line chart, describe what the line chart shows."
   ]
  },
  {
   "cell_type": "code",
   "execution_count": 61,
   "id": "3be27747",
   "metadata": {},
   "outputs": [],
   "source": [
    "# To speed up the processing time, reduce samples to contain only 'fam_status','age' columns.\n",
    "\n",
    "df_4 = df[['fam_status','age']]"
   ]
  },
  {
   "cell_type": "code",
   "execution_count": 62,
   "id": "994dbeb7",
   "metadata": {},
   "outputs": [
    {
     "data": {
      "image/png": "[encoded data removed]",
      "text/plain": [
       "<Figure size 432x288 with 1 Axes>"
      ]
     },
     "metadata": {
      "needs_background": "light"
     },
     "output_type": "display_data"
    }
   ],
   "source": [
    "# Correlation between age and fam_status\n",
    "\n",
    "line_4 = sns.lineplot(data = df_4, x = 'fam_status', y = 'age')"
   ]
  },
  {
   "cell_type": "markdown",
   "id": "16e42c76",
   "metadata": {},
   "source": [
    "The line chart shows the correlation between shoppers age and family status. We can see divorced/widowed shoppers are approximately 70 years of age, while living with parents and siblings are the youngest shoppers of around 20 years of age. This result is true to reality of age in family statuses."
   ]
  },
  {
   "cell_type": "code",
   "execution_count": 64,
   "id": "3af99966",
   "metadata": {},
   "outputs": [],
   "source": [
    "# To speed up the processing time, reduce samples to contain only 'age','n_dependants' columns.\n",
    "\n",
    "df_5 = df[['n_dependants','age']]"
   ]
  },
  {
   "cell_type": "code",
   "execution_count": 73,
   "id": "7aed3b2b",
   "metadata": {},
   "outputs": [
    {
     "data": {
      "image/png": "[encoded data removed]",
      "text/plain": [
       "<Figure size 432x288 with 1 Axes>"
      ]
     },
     "metadata": {
      "needs_background": "light"
     },
     "output_type": "display_data"
    }
   ],
   "source": [
    "# Correlation between age and n_dependants\n",
    "\n",
    "line_5 = sns.lineplot(x = 'n_dependants', y = 'age', data = df_5)"
   ]
  },
  {
   "cell_type": "markdown",
   "id": "b117d722",
   "metadata": {},
   "source": [
    "#### Question for Victor\n",
    "\n",
    "The y axis looks wrong, it is showing the age of 49 only, but when I check the dataframe, it is showing other ages as well."
   ]
  },
  {
   "cell_type": "code",
   "execution_count": 75,
   "id": "cd771577",
   "metadata": {},
   "outputs": [
    {
     "data": {
      "text/html": [
       "<div>\n",
       "<style scoped>\n",
       "    .dataframe tbody tr th:only-of-type {\n",
       "        vertical-align: middle;\n",
       "    }\n",
       "\n",
       "    .dataframe tbody tr th {\n",
       "        vertical-align: top;\n",
       "    }\n",
       "\n",
       "    .dataframe thead th {\n",
       "        text-align: right;\n",
       "    }\n",
       "</style>\n",
       "<table border=\"1\" class=\"dataframe\">\n",
       "  <thead>\n",
       "    <tr style=\"text-align: right;\">\n",
       "      <th></th>\n",
       "      <th>n_dependants</th>\n",
       "      <th>age</th>\n",
       "    </tr>\n",
       "  </thead>\n",
       "  <tbody>\n",
       "    <tr>\n",
       "      <th>0</th>\n",
       "      <td>3</td>\n",
       "      <td>31</td>\n",
       "    </tr>\n",
       "    <tr>\n",
       "      <th>1</th>\n",
       "      <td>3</td>\n",
       "      <td>31</td>\n",
       "    </tr>\n",
       "    <tr>\n",
       "      <th>2</th>\n",
       "      <td>3</td>\n",
       "      <td>31</td>\n",
       "    </tr>\n",
       "    <tr>\n",
       "      <th>3</th>\n",
       "      <td>3</td>\n",
       "      <td>31</td>\n",
       "    </tr>\n",
       "    <tr>\n",
       "      <th>4</th>\n",
       "      <td>3</td>\n",
       "      <td>31</td>\n",
       "    </tr>\n",
       "    <tr>\n",
       "      <th>5</th>\n",
       "      <td>3</td>\n",
       "      <td>31</td>\n",
       "    </tr>\n",
       "    <tr>\n",
       "      <th>6</th>\n",
       "      <td>3</td>\n",
       "      <td>31</td>\n",
       "    </tr>\n",
       "    <tr>\n",
       "      <th>7</th>\n",
       "      <td>3</td>\n",
       "      <td>31</td>\n",
       "    </tr>\n",
       "    <tr>\n",
       "      <th>8</th>\n",
       "      <td>3</td>\n",
       "      <td>31</td>\n",
       "    </tr>\n",
       "    <tr>\n",
       "      <th>9</th>\n",
       "      <td>3</td>\n",
       "      <td>31</td>\n",
       "    </tr>\n",
       "    <tr>\n",
       "      <th>10</th>\n",
       "      <td>3</td>\n",
       "      <td>31</td>\n",
       "    </tr>\n",
       "    <tr>\n",
       "      <th>11</th>\n",
       "      <td>3</td>\n",
       "      <td>31</td>\n",
       "    </tr>\n",
       "    <tr>\n",
       "      <th>12</th>\n",
       "      <td>3</td>\n",
       "      <td>31</td>\n",
       "    </tr>\n",
       "    <tr>\n",
       "      <th>13</th>\n",
       "      <td>3</td>\n",
       "      <td>31</td>\n",
       "    </tr>\n",
       "    <tr>\n",
       "      <th>14</th>\n",
       "      <td>3</td>\n",
       "      <td>31</td>\n",
       "    </tr>\n",
       "    <tr>\n",
       "      <th>15</th>\n",
       "      <td>3</td>\n",
       "      <td>31</td>\n",
       "    </tr>\n",
       "    <tr>\n",
       "      <th>16</th>\n",
       "      <td>3</td>\n",
       "      <td>31</td>\n",
       "    </tr>\n",
       "    <tr>\n",
       "      <th>17</th>\n",
       "      <td>3</td>\n",
       "      <td>31</td>\n",
       "    </tr>\n",
       "    <tr>\n",
       "      <th>18</th>\n",
       "      <td>3</td>\n",
       "      <td>31</td>\n",
       "    </tr>\n",
       "    <tr>\n",
       "      <th>19</th>\n",
       "      <td>3</td>\n",
       "      <td>31</td>\n",
       "    </tr>\n",
       "    <tr>\n",
       "      <th>20</th>\n",
       "      <td>3</td>\n",
       "      <td>31</td>\n",
       "    </tr>\n",
       "    <tr>\n",
       "      <th>21</th>\n",
       "      <td>3</td>\n",
       "      <td>31</td>\n",
       "    </tr>\n",
       "    <tr>\n",
       "      <th>22</th>\n",
       "      <td>3</td>\n",
       "      <td>31</td>\n",
       "    </tr>\n",
       "    <tr>\n",
       "      <th>23</th>\n",
       "      <td>3</td>\n",
       "      <td>31</td>\n",
       "    </tr>\n",
       "    <tr>\n",
       "      <th>24</th>\n",
       "      <td>3</td>\n",
       "      <td>31</td>\n",
       "    </tr>\n",
       "    <tr>\n",
       "      <th>25</th>\n",
       "      <td>3</td>\n",
       "      <td>31</td>\n",
       "    </tr>\n",
       "    <tr>\n",
       "      <th>26</th>\n",
       "      <td>3</td>\n",
       "      <td>31</td>\n",
       "    </tr>\n",
       "    <tr>\n",
       "      <th>27</th>\n",
       "      <td>3</td>\n",
       "      <td>31</td>\n",
       "    </tr>\n",
       "    <tr>\n",
       "      <th>28</th>\n",
       "      <td>3</td>\n",
       "      <td>31</td>\n",
       "    </tr>\n",
       "    <tr>\n",
       "      <th>29</th>\n",
       "      <td>3</td>\n",
       "      <td>31</td>\n",
       "    </tr>\n",
       "    <tr>\n",
       "      <th>30</th>\n",
       "      <td>3</td>\n",
       "      <td>31</td>\n",
       "    </tr>\n",
       "    <tr>\n",
       "      <th>31</th>\n",
       "      <td>3</td>\n",
       "      <td>31</td>\n",
       "    </tr>\n",
       "    <tr>\n",
       "      <th>32</th>\n",
       "      <td>3</td>\n",
       "      <td>31</td>\n",
       "    </tr>\n",
       "    <tr>\n",
       "      <th>33</th>\n",
       "      <td>3</td>\n",
       "      <td>31</td>\n",
       "    </tr>\n",
       "    <tr>\n",
       "      <th>34</th>\n",
       "      <td>3</td>\n",
       "      <td>31</td>\n",
       "    </tr>\n",
       "    <tr>\n",
       "      <th>35</th>\n",
       "      <td>3</td>\n",
       "      <td>31</td>\n",
       "    </tr>\n",
       "    <tr>\n",
       "      <th>36</th>\n",
       "      <td>3</td>\n",
       "      <td>31</td>\n",
       "    </tr>\n",
       "    <tr>\n",
       "      <th>37</th>\n",
       "      <td>3</td>\n",
       "      <td>31</td>\n",
       "    </tr>\n",
       "    <tr>\n",
       "      <th>38</th>\n",
       "      <td>3</td>\n",
       "      <td>31</td>\n",
       "    </tr>\n",
       "    <tr>\n",
       "      <th>39</th>\n",
       "      <td>3</td>\n",
       "      <td>31</td>\n",
       "    </tr>\n",
       "    <tr>\n",
       "      <th>40</th>\n",
       "      <td>3</td>\n",
       "      <td>31</td>\n",
       "    </tr>\n",
       "    <tr>\n",
       "      <th>41</th>\n",
       "      <td>3</td>\n",
       "      <td>31</td>\n",
       "    </tr>\n",
       "    <tr>\n",
       "      <th>42</th>\n",
       "      <td>3</td>\n",
       "      <td>31</td>\n",
       "    </tr>\n",
       "    <tr>\n",
       "      <th>43</th>\n",
       "      <td>3</td>\n",
       "      <td>31</td>\n",
       "    </tr>\n",
       "    <tr>\n",
       "      <th>44</th>\n",
       "      <td>3</td>\n",
       "      <td>31</td>\n",
       "    </tr>\n",
       "    <tr>\n",
       "      <th>45</th>\n",
       "      <td>3</td>\n",
       "      <td>31</td>\n",
       "    </tr>\n",
       "    <tr>\n",
       "      <th>46</th>\n",
       "      <td>3</td>\n",
       "      <td>31</td>\n",
       "    </tr>\n",
       "    <tr>\n",
       "      <th>47</th>\n",
       "      <td>3</td>\n",
       "      <td>31</td>\n",
       "    </tr>\n",
       "    <tr>\n",
       "      <th>48</th>\n",
       "      <td>3</td>\n",
       "      <td>31</td>\n",
       "    </tr>\n",
       "    <tr>\n",
       "      <th>49</th>\n",
       "      <td>3</td>\n",
       "      <td>31</td>\n",
       "    </tr>\n",
       "  </tbody>\n",
       "</table>\n",
       "</div>"
      ],
      "text/plain": [
       "    n_dependants  age\n",
       "0              3   31\n",
       "1              3   31\n",
       "2              3   31\n",
       "3              3   31\n",
       "4              3   31\n",
       "5              3   31\n",
       "6              3   31\n",
       "7              3   31\n",
       "8              3   31\n",
       "9              3   31\n",
       "10             3   31\n",
       "11             3   31\n",
       "12             3   31\n",
       "13             3   31\n",
       "14             3   31\n",
       "15             3   31\n",
       "16             3   31\n",
       "17             3   31\n",
       "18             3   31\n",
       "19             3   31\n",
       "20             3   31\n",
       "21             3   31\n",
       "22             3   31\n",
       "23             3   31\n",
       "24             3   31\n",
       "25             3   31\n",
       "26             3   31\n",
       "27             3   31\n",
       "28             3   31\n",
       "29             3   31\n",
       "30             3   31\n",
       "31             3   31\n",
       "32             3   31\n",
       "33             3   31\n",
       "34             3   31\n",
       "35             3   31\n",
       "36             3   31\n",
       "37             3   31\n",
       "38             3   31\n",
       "39             3   31\n",
       "40             3   31\n",
       "41             3   31\n",
       "42             3   31\n",
       "43             3   31\n",
       "44             3   31\n",
       "45             3   31\n",
       "46             3   31\n",
       "47             3   31\n",
       "48             3   31\n",
       "49             3   31"
      ]
     },
     "execution_count": 75,
     "metadata": {},
     "output_type": "execute_result"
    }
   ],
   "source": [
    "df_5.head(50)"
   ]
  },
  {
   "cell_type": "markdown",
   "id": "e175097b",
   "metadata": {},
   "source": [
    "This does not make too much sense. The age axis does not look accurate.\n",
    "Best thing to do is to check values in 'n_dependants' column and its corresponding age.\n",
    "\n",
    "Note: A dependant is a person who is substantially financially dependent. E.g. children, parents.\n",
    "\n"
   ]
  },
  {
   "cell_type": "markdown",
   "id": "41130c6c",
   "metadata": {},
   "source": [
    "#### 7. You’ll also need to explore whether there’s a connection between age and spending power. To visualize this relationship, create a scatterplot using the sns.scatterplot() function.\n",
    "In a markdown cell beneath your scatterplot, describe what the scatterplot shows. "
   ]
  },
  {
   "cell_type": "code",
   "execution_count": 66,
   "id": "8f620315",
   "metadata": {},
   "outputs": [],
   "source": [
    "# To speed up the processing time, reduce samples to contain only 'age','income' columns.\n",
    "\n",
    "df_6 = df[['age','income']]"
   ]
  },
  {
   "cell_type": "code",
   "execution_count": 67,
   "id": "d8f7c6e8",
   "metadata": {},
   "outputs": [
    {
     "data": {
      "image/png": "[encoded data removed]",
      "text/plain": [
       "<Figure size 432x288 with 1 Axes>"
      ]
     },
     "metadata": {
      "needs_background": "light"
     },
     "output_type": "display_data"
    }
   ],
   "source": [
    "# Correlation between age and income\n",
    "\n",
    "scatter_2 = sns.scatterplot(data = df_6, x = 'age', y = 'income')"
   ]
  },
  {
   "cell_type": "markdown",
   "id": "c42361fd",
   "metadata": {},
   "source": [
    "#### 8. Export your visualizations as “.png” files in your relevant project folder."
   ]
  },
  {
   "cell_type": "code",
   "execution_count": 68,
   "id": "389fb55e",
   "metadata": {},
   "outputs": [],
   "source": [
    "# Exporting bar chart of orders_day_of_week from Q2\n",
    "\n",
    "bar.figure.savefig(os.path.join(path, '04 Analysis', 'Visualisations', 'bar_orders_day_of_week.png'))"
   ]
  },
  {
   "cell_type": "code",
   "execution_count": 69,
   "id": "86d88b18",
   "metadata": {},
   "outputs": [],
   "source": [
    "# Exporting histogram of 'prices' column with 70 number of bins from Q2\n",
    "\n",
    "hist_2.figure.savefig(os.path.join(path, '04 Analysis', 'Visualisations', 'hist_prices.png'))"
   ]
  },
  {
   "cell_type": "code",
   "execution_count": null,
   "id": "bd5a3e82",
   "metadata": {},
   "outputs": [],
   "source": [
    "# Export scatterplot of 'prices' column from Q2 (prices vs prices) \n",
    "\n",
    "scatter.figure.savefig(os.path.join(path, '04 Analysis', 'Visualisations', 'scatter_prices.png'))"
   ]
  },
  {
   "cell_type": "code",
   "execution_count": null,
   "id": "0c7442d2",
   "metadata": {},
   "outputs": [],
   "source": [
    "# Export line chart of prices vs orders_day_of_week using small sampling data\n",
    "\n",
    "line_2 = sns.lineplot(data = df_2, x = 'orders_day_of_week', y = 'prices')"
   ]
  },
  {
   "cell_type": "code",
   "execution_count": null,
   "id": "81c0b320",
   "metadata": {},
   "outputs": [],
   "source": [
    "# Export histogram of the “order_hour_of_day” column from Q3\n",
    "\n",
    "hist_3.figure.savefig(os.path.join(path, '04 Analysis', 'Visualisations', 'hist_order_hour_of_day.png'))"
   ]
  },
  {
   "cell_type": "code",
   "execution_count": null,
   "id": "fdde0aba",
   "metadata": {},
   "outputs": [],
   "source": [
    "# Export bar chart from the “loyalty_flag” column from Q4\n",
    "\n",
    "bar_2.figure.savefig(os.path.join(path, '04 Analysis', 'Visualisations', 'bar_loyalty_flag.png'))"
   ]
  },
  {
   "cell_type": "code",
   "execution_count": null,
   "id": "dc61b5b1",
   "metadata": {},
   "outputs": [],
   "source": [
    "# Export line chart of prices vs order_hour_of_day from Q5\n",
    "\n",
    "line_3.figure.savefig(os.path.join(path, '04 Analysis', 'Visualisations', 'line_prices_order_hour.png'))"
   ]
  },
  {
   "cell_type": "code",
   "execution_count": null,
   "id": "f6d60ee2",
   "metadata": {},
   "outputs": [],
   "source": [
    "# Export line chart of age vs fam_status Q6\n",
    "\n",
    "line_4.figure.savefig(os.path.join(path, '04 Analysis', 'Visualisations', 'line_age_fam_status.png'))"
   ]
  },
  {
   "cell_type": "code",
   "execution_count": null,
   "id": "e7a2e833",
   "metadata": {},
   "outputs": [],
   "source": [
    "# Export line charge of age vs n_dependants Q6\n",
    "\n",
    "line_5.figure.savefig(os.path.join(path, '04 Analysis', 'Visualisations', 'line_age_ndepdenants.png'))"
   ]
  },
  {
   "cell_type": "code",
   "execution_count": null,
   "id": "7e8bd067",
   "metadata": {},
   "outputs": [],
   "source": [
    "# Export scatterplot of income vs age from Q7\n",
    "\n",
    "scatter_2.figure.savefig(os.path.join(path, '04 Analysis', 'Visualisations', 'scatter_income_age.png'))"
   ]
  }
 ],
 "metadata": {
  "kernelspec": {
   "display_name": "Python 3 (ipykernel)",
   "language": "python",
   "name": "python3"
  },
  "language_info": {
   "codemirror_mode": {
    "name": "ipython",
    "version": 3
   },
   "file_extension": ".py",
   "mimetype": "text/x-python",
   "name": "python",
   "nbconvert_exporter": "python",
   "pygments_lexer": "ipython3",
   "version": "3.9.7"
  }
 },
 "nbformat": 4,
 "nbformat_minor": 5
}
