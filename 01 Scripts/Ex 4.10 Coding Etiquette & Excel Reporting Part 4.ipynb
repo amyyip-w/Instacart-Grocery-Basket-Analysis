{
 "cells": [
  {
   "cell_type": "markdown",
   "id": "3aaa4b0d",
   "metadata": {},
   "source": [
    "# 01. Import libraries"
   ]
  },
  {
   "cell_type": "code",
   "execution_count": 1,
   "id": "71832a36",
   "metadata": {},
   "outputs": [],
   "source": [
    "# Import libraries\n",
    "\n",
    "import pandas as pd\n",
    "import numpy as np\n",
    "import os\n",
    "import matplotlib.pyplot as plt\n",
    "import seaborn as sns\n",
    "import scipy"
   ]
  },
  {
   "cell_type": "markdown",
   "id": "9a62567c",
   "metadata": {},
   "source": [
    "# 02. Import data"
   ]
  },
  {
   "cell_type": "code",
   "execution_count": 2,
   "id": "2a2bdfb3",
   "metadata": {},
   "outputs": [],
   "source": [
    "# Define folder path\n",
    "\n",
    "path = r'C:\\Users\\Amy Yip\\Desktop\\Career Foundry Data Analytics\\Achievement 4 Python\\05-02-2022 Instacart Basket Analysis'"
   ]
  },
  {
   "cell_type": "code",
   "execution_count": null,
   "id": "5bce247d",
   "metadata": {},
   "outputs": [],
   "source": [
    "# Import latest dataset from Part 3i\n",
    "\n",
    "df_final = pd.read_pickle(os.path.join(path, '02 Data', 'Prepared Data', 'df_ords_prods_all_Ex4.10.4.pkl'))"
   ]
  },
  {
   "cell_type": "code",
   "execution_count": null,
   "id": "8ab87073",
   "metadata": {},
   "outputs": [],
   "source": [
    "df_final.shape"
   ]
  },
  {
   "cell_type": "code",
   "execution_count": null,
   "id": "d37b3d84",
   "metadata": {},
   "outputs": [],
   "source": [
    "# Import top 5 departments subset data\n",
    "\n",
    "df_top_dep = pd.read_pickle(os.path.join(path, '02 Data', 'Prepared Data', 'df_top5_departments.pkl'))"
   ]
  },
  {
   "cell_type": "code",
   "execution_count": null,
   "id": "d4c199db",
   "metadata": {},
   "outputs": [],
   "source": [
    "df_top_dep.shape"
   ]
  },
  {
   "cell_type": "code",
   "execution_count": null,
   "id": "4808c4d6",
   "metadata": {},
   "outputs": [],
   "source": [
    "# Import top 10 products subset data\n",
    "\n",
    "df_top_prods = pd.read_pickle(os.path.join(path, '02 Data', 'Prepared Data', 'df_top10_products.pkl'))"
   ]
  },
  {
   "cell_type": "code",
   "execution_count": null,
   "id": "c35d43cd",
   "metadata": {},
   "outputs": [],
   "source": [
    "df_top_prods.shape"
   ]
  },
  {
   "cell_type": "code",
   "execution_count": null,
   "id": "60ad2a00",
   "metadata": {},
   "outputs": [],
   "source": [
    "pd.options.display.max_columns = None"
   ]
  },
  {
   "cell_type": "code",
   "execution_count": 10,
   "id": "59422abb",
   "metadata": {},
   "outputs": [
    {
     "data": {
      "text/html": [
       "<div>\n",
       "<style scoped>\n",
       "    .dataframe tbody tr th:only-of-type {\n",
       "        vertical-align: middle;\n",
       "    }\n",
       "\n",
       "    .dataframe tbody tr th {\n",
       "        vertical-align: top;\n",
       "    }\n",
       "\n",
       "    .dataframe thead th {\n",
       "        text-align: right;\n",
       "    }\n",
       "</style>\n",
       "<table border=\"1\" class=\"dataframe\">\n",
       "  <thead>\n",
       "    <tr style=\"text-align: right;\">\n",
       "      <th></th>\n",
       "      <th>order_id</th>\n",
       "      <th>user_id</th>\n",
       "      <th>order_numbers_users_made</th>\n",
       "      <th>orders_day_of_week</th>\n",
       "      <th>order_hour_of_day</th>\n",
       "      <th>days_since_prior_order</th>\n",
       "      <th>prior_orders_made</th>\n",
       "      <th>product_id</th>\n",
       "      <th>add_to_cart_order</th>\n",
       "      <th>reordered</th>\n",
       "      <th>product_name</th>\n",
       "      <th>aisle_id</th>\n",
       "      <th>department_id</th>\n",
       "      <th>prices</th>\n",
       "      <th>price_range_loc</th>\n",
       "      <th>busiest_days</th>\n",
       "      <th>busiest_period_of_day</th>\n",
       "      <th>max_order</th>\n",
       "      <th>loyalty_flag</th>\n",
       "      <th>avg_spending</th>\n",
       "      <th>spending_flag</th>\n",
       "      <th>median_days_since_prior_order</th>\n",
       "      <th>order_frequency_flag</th>\n",
       "      <th>gender</th>\n",
       "      <th>state</th>\n",
       "      <th>age</th>\n",
       "      <th>date_joined</th>\n",
       "      <th>n_dependants</th>\n",
       "      <th>fam_status</th>\n",
       "      <th>income</th>\n",
       "      <th>region</th>\n",
       "      <th>activity_flag</th>\n",
       "      <th>age_group</th>\n",
       "      <th>income_range</th>\n",
       "      <th>parental_status</th>\n",
       "      <th>parental_status2</th>\n",
       "      <th>day_of_week</th>\n",
       "      <th>hour_classification</th>\n",
       "      <th>department</th>\n",
       "      <th>total_spending</th>\n",
       "    </tr>\n",
       "  </thead>\n",
       "  <tbody>\n",
       "    <tr>\n",
       "      <th>0</th>\n",
       "      <td>2539329</td>\n",
       "      <td>1</td>\n",
       "      <td>1</td>\n",
       "      <td>2</td>\n",
       "      <td>8</td>\n",
       "      <td>NaN</td>\n",
       "      <td>True</td>\n",
       "      <td>196</td>\n",
       "      <td>1</td>\n",
       "      <td>0</td>\n",
       "      <td>Soda</td>\n",
       "      <td>77</td>\n",
       "      <td>7</td>\n",
       "      <td>9.0</td>\n",
       "      <td>Mid-range product</td>\n",
       "      <td>Regularly busy</td>\n",
       "      <td>Most orders</td>\n",
       "      <td>10</td>\n",
       "      <td>New customer</td>\n",
       "      <td>6.367797</td>\n",
       "      <td>Low spender</td>\n",
       "      <td>20.5</td>\n",
       "      <td>Non-frequent customer</td>\n",
       "      <td>Female</td>\n",
       "      <td>Alabama</td>\n",
       "      <td>31</td>\n",
       "      <td>2/17/2019</td>\n",
       "      <td>3</td>\n",
       "      <td>married</td>\n",
       "      <td>40423</td>\n",
       "      <td>South</td>\n",
       "      <td>Normal-activity customer</td>\n",
       "      <td>30-39</td>\n",
       "      <td>5,000 - 104,999</td>\n",
       "      <td>NaN</td>\n",
       "      <td>parent</td>\n",
       "      <td>Monday</td>\n",
       "      <td>Morning</td>\n",
       "      <td>Beverages</td>\n",
       "      <td>9.0</td>\n",
       "    </tr>\n",
       "    <tr>\n",
       "      <th>1</th>\n",
       "      <td>2398795</td>\n",
       "      <td>1</td>\n",
       "      <td>2</td>\n",
       "      <td>3</td>\n",
       "      <td>7</td>\n",
       "      <td>15.0</td>\n",
       "      <td>False</td>\n",
       "      <td>196</td>\n",
       "      <td>1</td>\n",
       "      <td>1</td>\n",
       "      <td>Soda</td>\n",
       "      <td>77</td>\n",
       "      <td>7</td>\n",
       "      <td>9.0</td>\n",
       "      <td>Mid-range product</td>\n",
       "      <td>Slowest days</td>\n",
       "      <td>Most orders</td>\n",
       "      <td>10</td>\n",
       "      <td>New customer</td>\n",
       "      <td>6.367797</td>\n",
       "      <td>Low spender</td>\n",
       "      <td>20.5</td>\n",
       "      <td>Non-frequent customer</td>\n",
       "      <td>Female</td>\n",
       "      <td>Alabama</td>\n",
       "      <td>31</td>\n",
       "      <td>2/17/2019</td>\n",
       "      <td>3</td>\n",
       "      <td>married</td>\n",
       "      <td>40423</td>\n",
       "      <td>South</td>\n",
       "      <td>Normal-activity customer</td>\n",
       "      <td>30-39</td>\n",
       "      <td>5,000 - 104,999</td>\n",
       "      <td>NaN</td>\n",
       "      <td>parent</td>\n",
       "      <td>Tuesday</td>\n",
       "      <td>Morning</td>\n",
       "      <td>Beverages</td>\n",
       "      <td>18.0</td>\n",
       "    </tr>\n",
       "    <tr>\n",
       "      <th>2</th>\n",
       "      <td>473747</td>\n",
       "      <td>1</td>\n",
       "      <td>3</td>\n",
       "      <td>3</td>\n",
       "      <td>12</td>\n",
       "      <td>21.0</td>\n",
       "      <td>False</td>\n",
       "      <td>196</td>\n",
       "      <td>1</td>\n",
       "      <td>1</td>\n",
       "      <td>Soda</td>\n",
       "      <td>77</td>\n",
       "      <td>7</td>\n",
       "      <td>9.0</td>\n",
       "      <td>Mid-range product</td>\n",
       "      <td>Slowest days</td>\n",
       "      <td>Most orders</td>\n",
       "      <td>10</td>\n",
       "      <td>New customer</td>\n",
       "      <td>6.367797</td>\n",
       "      <td>Low spender</td>\n",
       "      <td>20.5</td>\n",
       "      <td>Non-frequent customer</td>\n",
       "      <td>Female</td>\n",
       "      <td>Alabama</td>\n",
       "      <td>31</td>\n",
       "      <td>2/17/2019</td>\n",
       "      <td>3</td>\n",
       "      <td>married</td>\n",
       "      <td>40423</td>\n",
       "      <td>South</td>\n",
       "      <td>Normal-activity customer</td>\n",
       "      <td>30-39</td>\n",
       "      <td>5,000 - 104,999</td>\n",
       "      <td>NaN</td>\n",
       "      <td>parent</td>\n",
       "      <td>Tuesday</td>\n",
       "      <td>Afternoon</td>\n",
       "      <td>Beverages</td>\n",
       "      <td>27.0</td>\n",
       "    </tr>\n",
       "    <tr>\n",
       "      <th>3</th>\n",
       "      <td>2254736</td>\n",
       "      <td>1</td>\n",
       "      <td>4</td>\n",
       "      <td>4</td>\n",
       "      <td>7</td>\n",
       "      <td>29.0</td>\n",
       "      <td>False</td>\n",
       "      <td>196</td>\n",
       "      <td>1</td>\n",
       "      <td>1</td>\n",
       "      <td>Soda</td>\n",
       "      <td>77</td>\n",
       "      <td>7</td>\n",
       "      <td>9.0</td>\n",
       "      <td>Mid-range product</td>\n",
       "      <td>Slowest days</td>\n",
       "      <td>Most orders</td>\n",
       "      <td>10</td>\n",
       "      <td>New customer</td>\n",
       "      <td>6.367797</td>\n",
       "      <td>Low spender</td>\n",
       "      <td>20.5</td>\n",
       "      <td>Non-frequent customer</td>\n",
       "      <td>Female</td>\n",
       "      <td>Alabama</td>\n",
       "      <td>31</td>\n",
       "      <td>2/17/2019</td>\n",
       "      <td>3</td>\n",
       "      <td>married</td>\n",
       "      <td>40423</td>\n",
       "      <td>South</td>\n",
       "      <td>Normal-activity customer</td>\n",
       "      <td>30-39</td>\n",
       "      <td>5,000 - 104,999</td>\n",
       "      <td>NaN</td>\n",
       "      <td>parent</td>\n",
       "      <td>Wednesday</td>\n",
       "      <td>Morning</td>\n",
       "      <td>Beverages</td>\n",
       "      <td>36.0</td>\n",
       "    </tr>\n",
       "    <tr>\n",
       "      <th>4</th>\n",
       "      <td>431534</td>\n",
       "      <td>1</td>\n",
       "      <td>5</td>\n",
       "      <td>4</td>\n",
       "      <td>15</td>\n",
       "      <td>28.0</td>\n",
       "      <td>False</td>\n",
       "      <td>196</td>\n",
       "      <td>1</td>\n",
       "      <td>1</td>\n",
       "      <td>Soda</td>\n",
       "      <td>77</td>\n",
       "      <td>7</td>\n",
       "      <td>9.0</td>\n",
       "      <td>Mid-range product</td>\n",
       "      <td>Slowest days</td>\n",
       "      <td>Most orders</td>\n",
       "      <td>10</td>\n",
       "      <td>New customer</td>\n",
       "      <td>6.367797</td>\n",
       "      <td>Low spender</td>\n",
       "      <td>20.5</td>\n",
       "      <td>Non-frequent customer</td>\n",
       "      <td>Female</td>\n",
       "      <td>Alabama</td>\n",
       "      <td>31</td>\n",
       "      <td>2/17/2019</td>\n",
       "      <td>3</td>\n",
       "      <td>married</td>\n",
       "      <td>40423</td>\n",
       "      <td>South</td>\n",
       "      <td>Normal-activity customer</td>\n",
       "      <td>30-39</td>\n",
       "      <td>5,000 - 104,999</td>\n",
       "      <td>NaN</td>\n",
       "      <td>parent</td>\n",
       "      <td>Wednesday</td>\n",
       "      <td>Afternoon</td>\n",
       "      <td>Beverages</td>\n",
       "      <td>45.0</td>\n",
       "    </tr>\n",
       "  </tbody>\n",
       "</table>\n",
       "</div>"
      ],
      "text/plain": [
       "  order_id user_id  order_numbers_users_made  orders_day_of_week  \\\n",
       "0  2539329       1                         1                   2   \n",
       "1  2398795       1                         2                   3   \n",
       "2   473747       1                         3                   3   \n",
       "3  2254736       1                         4                   4   \n",
       "4   431534       1                         5                   4   \n",
       "\n",
       "   order_hour_of_day  days_since_prior_order  prior_orders_made  product_id  \\\n",
       "0                  8                     NaN               True         196   \n",
       "1                  7                    15.0              False         196   \n",
       "2                 12                    21.0              False         196   \n",
       "3                  7                    29.0              False         196   \n",
       "4                 15                    28.0              False         196   \n",
       "\n",
       "   add_to_cart_order  reordered product_name  aisle_id  department_id  prices  \\\n",
       "0                  1          0         Soda        77              7     9.0   \n",
       "1                  1          1         Soda        77              7     9.0   \n",
       "2                  1          1         Soda        77              7     9.0   \n",
       "3                  1          1         Soda        77              7     9.0   \n",
       "4                  1          1         Soda        77              7     9.0   \n",
       "\n",
       "     price_range_loc    busiest_days busiest_period_of_day  max_order  \\\n",
       "0  Mid-range product  Regularly busy           Most orders         10   \n",
       "1  Mid-range product    Slowest days           Most orders         10   \n",
       "2  Mid-range product    Slowest days           Most orders         10   \n",
       "3  Mid-range product    Slowest days           Most orders         10   \n",
       "4  Mid-range product    Slowest days           Most orders         10   \n",
       "\n",
       "   loyalty_flag  avg_spending spending_flag  median_days_since_prior_order  \\\n",
       "0  New customer      6.367797   Low spender                           20.5   \n",
       "1  New customer      6.367797   Low spender                           20.5   \n",
       "2  New customer      6.367797   Low spender                           20.5   \n",
       "3  New customer      6.367797   Low spender                           20.5   \n",
       "4  New customer      6.367797   Low spender                           20.5   \n",
       "\n",
       "    order_frequency_flag  gender    state  age date_joined  n_dependants  \\\n",
       "0  Non-frequent customer  Female  Alabama   31   2/17/2019             3   \n",
       "1  Non-frequent customer  Female  Alabama   31   2/17/2019             3   \n",
       "2  Non-frequent customer  Female  Alabama   31   2/17/2019             3   \n",
       "3  Non-frequent customer  Female  Alabama   31   2/17/2019             3   \n",
       "4  Non-frequent customer  Female  Alabama   31   2/17/2019             3   \n",
       "\n",
       "  fam_status  income region             activity_flag age_group  \\\n",
       "0    married   40423  South  Normal-activity customer     30-39   \n",
       "1    married   40423  South  Normal-activity customer     30-39   \n",
       "2    married   40423  South  Normal-activity customer     30-39   \n",
       "3    married   40423  South  Normal-activity customer     30-39   \n",
       "4    married   40423  South  Normal-activity customer     30-39   \n",
       "\n",
       "      income_range parental_status parental_status2 day_of_week  \\\n",
       "0  5,000 - 104,999             NaN           parent      Monday   \n",
       "1  5,000 - 104,999             NaN           parent     Tuesday   \n",
       "2  5,000 - 104,999             NaN           parent     Tuesday   \n",
       "3  5,000 - 104,999             NaN           parent   Wednesday   \n",
       "4  5,000 - 104,999             NaN           parent   Wednesday   \n",
       "\n",
       "  hour_classification department  total_spending  \n",
       "0             Morning  Beverages             9.0  \n",
       "1             Morning  Beverages            18.0  \n",
       "2           Afternoon  Beverages            27.0  \n",
       "3             Morning  Beverages            36.0  \n",
       "4           Afternoon  Beverages            45.0  "
      ]
     },
     "execution_count": 10,
     "metadata": {},
     "output_type": "execute_result"
    }
   ],
   "source": [
    "df_final.head()"
   ]
  },
  {
   "cell_type": "code",
   "execution_count": 11,
   "id": "c5667eb7",
   "metadata": {},
   "outputs": [
    {
     "data": {
      "text/html": [
       "<div>\n",
       "<style scoped>\n",
       "    .dataframe tbody tr th:only-of-type {\n",
       "        vertical-align: middle;\n",
       "    }\n",
       "\n",
       "    .dataframe tbody tr th {\n",
       "        vertical-align: top;\n",
       "    }\n",
       "\n",
       "    .dataframe thead th {\n",
       "        text-align: right;\n",
       "    }\n",
       "</style>\n",
       "<table border=\"1\" class=\"dataframe\">\n",
       "  <thead>\n",
       "    <tr style=\"text-align: right;\">\n",
       "      <th></th>\n",
       "      <th>order_id</th>\n",
       "      <th>user_id</th>\n",
       "      <th>order_numbers_users_made</th>\n",
       "      <th>orders_day_of_week</th>\n",
       "      <th>order_hour_of_day</th>\n",
       "      <th>days_since_prior_order</th>\n",
       "      <th>prior_orders_made</th>\n",
       "      <th>product_id</th>\n",
       "      <th>add_to_cart_order</th>\n",
       "      <th>reordered</th>\n",
       "      <th>product_name</th>\n",
       "      <th>aisle_id</th>\n",
       "      <th>department_id</th>\n",
       "      <th>prices</th>\n",
       "      <th>price_range_loc</th>\n",
       "      <th>busiest_days</th>\n",
       "      <th>busiest_period_of_day</th>\n",
       "      <th>max_order</th>\n",
       "      <th>loyalty_flag</th>\n",
       "      <th>avg_spending</th>\n",
       "      <th>spending_flag</th>\n",
       "      <th>median_days_since_prior_order</th>\n",
       "      <th>order_frequency_flag</th>\n",
       "      <th>gender</th>\n",
       "      <th>state</th>\n",
       "      <th>age</th>\n",
       "      <th>date_joined</th>\n",
       "      <th>n_dependants</th>\n",
       "      <th>fam_status</th>\n",
       "      <th>income</th>\n",
       "      <th>region</th>\n",
       "      <th>activity_flag</th>\n",
       "      <th>age_group</th>\n",
       "      <th>income_range</th>\n",
       "      <th>parental_status</th>\n",
       "      <th>parental_status2</th>\n",
       "      <th>day_of_week</th>\n",
       "      <th>hour_classification</th>\n",
       "      <th>department</th>\n",
       "      <th>total_spending</th>\n",
       "      <th>top_5_departments</th>\n",
       "    </tr>\n",
       "  </thead>\n",
       "  <tbody>\n",
       "    <tr>\n",
       "      <th>0</th>\n",
       "      <td>2539329</td>\n",
       "      <td>1</td>\n",
       "      <td>1</td>\n",
       "      <td>2</td>\n",
       "      <td>8</td>\n",
       "      <td>NaN</td>\n",
       "      <td>True</td>\n",
       "      <td>196</td>\n",
       "      <td>1</td>\n",
       "      <td>0</td>\n",
       "      <td>Soda</td>\n",
       "      <td>77</td>\n",
       "      <td>7</td>\n",
       "      <td>9.0</td>\n",
       "      <td>Mid-range product</td>\n",
       "      <td>Regularly busy</td>\n",
       "      <td>Most orders</td>\n",
       "      <td>10</td>\n",
       "      <td>New customer</td>\n",
       "      <td>6.367797</td>\n",
       "      <td>Low spender</td>\n",
       "      <td>20.5</td>\n",
       "      <td>Non-frequent customer</td>\n",
       "      <td>Female</td>\n",
       "      <td>Alabama</td>\n",
       "      <td>31</td>\n",
       "      <td>2/17/2019</td>\n",
       "      <td>3</td>\n",
       "      <td>married</td>\n",
       "      <td>40423</td>\n",
       "      <td>South</td>\n",
       "      <td>Normal-activity customer</td>\n",
       "      <td>30-39</td>\n",
       "      <td>5,000 - 104,999</td>\n",
       "      <td>NaN</td>\n",
       "      <td>parent</td>\n",
       "      <td>Monday</td>\n",
       "      <td>Morning</td>\n",
       "      <td>Beverages</td>\n",
       "      <td>9.0</td>\n",
       "      <td>Top</td>\n",
       "    </tr>\n",
       "    <tr>\n",
       "      <th>1</th>\n",
       "      <td>2398795</td>\n",
       "      <td>1</td>\n",
       "      <td>2</td>\n",
       "      <td>3</td>\n",
       "      <td>7</td>\n",
       "      <td>15.0</td>\n",
       "      <td>False</td>\n",
       "      <td>196</td>\n",
       "      <td>1</td>\n",
       "      <td>1</td>\n",
       "      <td>Soda</td>\n",
       "      <td>77</td>\n",
       "      <td>7</td>\n",
       "      <td>9.0</td>\n",
       "      <td>Mid-range product</td>\n",
       "      <td>Slowest days</td>\n",
       "      <td>Most orders</td>\n",
       "      <td>10</td>\n",
       "      <td>New customer</td>\n",
       "      <td>6.367797</td>\n",
       "      <td>Low spender</td>\n",
       "      <td>20.5</td>\n",
       "      <td>Non-frequent customer</td>\n",
       "      <td>Female</td>\n",
       "      <td>Alabama</td>\n",
       "      <td>31</td>\n",
       "      <td>2/17/2019</td>\n",
       "      <td>3</td>\n",
       "      <td>married</td>\n",
       "      <td>40423</td>\n",
       "      <td>South</td>\n",
       "      <td>Normal-activity customer</td>\n",
       "      <td>30-39</td>\n",
       "      <td>5,000 - 104,999</td>\n",
       "      <td>NaN</td>\n",
       "      <td>parent</td>\n",
       "      <td>Tuesday</td>\n",
       "      <td>Morning</td>\n",
       "      <td>Beverages</td>\n",
       "      <td>18.0</td>\n",
       "      <td>Top</td>\n",
       "    </tr>\n",
       "    <tr>\n",
       "      <th>2</th>\n",
       "      <td>473747</td>\n",
       "      <td>1</td>\n",
       "      <td>3</td>\n",
       "      <td>3</td>\n",
       "      <td>12</td>\n",
       "      <td>21.0</td>\n",
       "      <td>False</td>\n",
       "      <td>196</td>\n",
       "      <td>1</td>\n",
       "      <td>1</td>\n",
       "      <td>Soda</td>\n",
       "      <td>77</td>\n",
       "      <td>7</td>\n",
       "      <td>9.0</td>\n",
       "      <td>Mid-range product</td>\n",
       "      <td>Slowest days</td>\n",
       "      <td>Most orders</td>\n",
       "      <td>10</td>\n",
       "      <td>New customer</td>\n",
       "      <td>6.367797</td>\n",
       "      <td>Low spender</td>\n",
       "      <td>20.5</td>\n",
       "      <td>Non-frequent customer</td>\n",
       "      <td>Female</td>\n",
       "      <td>Alabama</td>\n",
       "      <td>31</td>\n",
       "      <td>2/17/2019</td>\n",
       "      <td>3</td>\n",
       "      <td>married</td>\n",
       "      <td>40423</td>\n",
       "      <td>South</td>\n",
       "      <td>Normal-activity customer</td>\n",
       "      <td>30-39</td>\n",
       "      <td>5,000 - 104,999</td>\n",
       "      <td>NaN</td>\n",
       "      <td>parent</td>\n",
       "      <td>Tuesday</td>\n",
       "      <td>Afternoon</td>\n",
       "      <td>Beverages</td>\n",
       "      <td>27.0</td>\n",
       "      <td>Top</td>\n",
       "    </tr>\n",
       "    <tr>\n",
       "      <th>3</th>\n",
       "      <td>2254736</td>\n",
       "      <td>1</td>\n",
       "      <td>4</td>\n",
       "      <td>4</td>\n",
       "      <td>7</td>\n",
       "      <td>29.0</td>\n",
       "      <td>False</td>\n",
       "      <td>196</td>\n",
       "      <td>1</td>\n",
       "      <td>1</td>\n",
       "      <td>Soda</td>\n",
       "      <td>77</td>\n",
       "      <td>7</td>\n",
       "      <td>9.0</td>\n",
       "      <td>Mid-range product</td>\n",
       "      <td>Slowest days</td>\n",
       "      <td>Most orders</td>\n",
       "      <td>10</td>\n",
       "      <td>New customer</td>\n",
       "      <td>6.367797</td>\n",
       "      <td>Low spender</td>\n",
       "      <td>20.5</td>\n",
       "      <td>Non-frequent customer</td>\n",
       "      <td>Female</td>\n",
       "      <td>Alabama</td>\n",
       "      <td>31</td>\n",
       "      <td>2/17/2019</td>\n",
       "      <td>3</td>\n",
       "      <td>married</td>\n",
       "      <td>40423</td>\n",
       "      <td>South</td>\n",
       "      <td>Normal-activity customer</td>\n",
       "      <td>30-39</td>\n",
       "      <td>5,000 - 104,999</td>\n",
       "      <td>NaN</td>\n",
       "      <td>parent</td>\n",
       "      <td>Wednesday</td>\n",
       "      <td>Morning</td>\n",
       "      <td>Beverages</td>\n",
       "      <td>36.0</td>\n",
       "      <td>Top</td>\n",
       "    </tr>\n",
       "    <tr>\n",
       "      <th>4</th>\n",
       "      <td>431534</td>\n",
       "      <td>1</td>\n",
       "      <td>5</td>\n",
       "      <td>4</td>\n",
       "      <td>15</td>\n",
       "      <td>28.0</td>\n",
       "      <td>False</td>\n",
       "      <td>196</td>\n",
       "      <td>1</td>\n",
       "      <td>1</td>\n",
       "      <td>Soda</td>\n",
       "      <td>77</td>\n",
       "      <td>7</td>\n",
       "      <td>9.0</td>\n",
       "      <td>Mid-range product</td>\n",
       "      <td>Slowest days</td>\n",
       "      <td>Most orders</td>\n",
       "      <td>10</td>\n",
       "      <td>New customer</td>\n",
       "      <td>6.367797</td>\n",
       "      <td>Low spender</td>\n",
       "      <td>20.5</td>\n",
       "      <td>Non-frequent customer</td>\n",
       "      <td>Female</td>\n",
       "      <td>Alabama</td>\n",
       "      <td>31</td>\n",
       "      <td>2/17/2019</td>\n",
       "      <td>3</td>\n",
       "      <td>married</td>\n",
       "      <td>40423</td>\n",
       "      <td>South</td>\n",
       "      <td>Normal-activity customer</td>\n",
       "      <td>30-39</td>\n",
       "      <td>5,000 - 104,999</td>\n",
       "      <td>NaN</td>\n",
       "      <td>parent</td>\n",
       "      <td>Wednesday</td>\n",
       "      <td>Afternoon</td>\n",
       "      <td>Beverages</td>\n",
       "      <td>45.0</td>\n",
       "      <td>Top</td>\n",
       "    </tr>\n",
       "  </tbody>\n",
       "</table>\n",
       "</div>"
      ],
      "text/plain": [
       "  order_id user_id  order_numbers_users_made  orders_day_of_week  \\\n",
       "0  2539329       1                         1                   2   \n",
       "1  2398795       1                         2                   3   \n",
       "2   473747       1                         3                   3   \n",
       "3  2254736       1                         4                   4   \n",
       "4   431534       1                         5                   4   \n",
       "\n",
       "   order_hour_of_day  days_since_prior_order  prior_orders_made  product_id  \\\n",
       "0                  8                     NaN               True         196   \n",
       "1                  7                    15.0              False         196   \n",
       "2                 12                    21.0              False         196   \n",
       "3                  7                    29.0              False         196   \n",
       "4                 15                    28.0              False         196   \n",
       "\n",
       "   add_to_cart_order  reordered product_name  aisle_id  department_id  prices  \\\n",
       "0                  1          0         Soda        77              7     9.0   \n",
       "1                  1          1         Soda        77              7     9.0   \n",
       "2                  1          1         Soda        77              7     9.0   \n",
       "3                  1          1         Soda        77              7     9.0   \n",
       "4                  1          1         Soda        77              7     9.0   \n",
       "\n",
       "     price_range_loc    busiest_days busiest_period_of_day  max_order  \\\n",
       "0  Mid-range product  Regularly busy           Most orders         10   \n",
       "1  Mid-range product    Slowest days           Most orders         10   \n",
       "2  Mid-range product    Slowest days           Most orders         10   \n",
       "3  Mid-range product    Slowest days           Most orders         10   \n",
       "4  Mid-range product    Slowest days           Most orders         10   \n",
       "\n",
       "   loyalty_flag  avg_spending spending_flag  median_days_since_prior_order  \\\n",
       "0  New customer      6.367797   Low spender                           20.5   \n",
       "1  New customer      6.367797   Low spender                           20.5   \n",
       "2  New customer      6.367797   Low spender                           20.5   \n",
       "3  New customer      6.367797   Low spender                           20.5   \n",
       "4  New customer      6.367797   Low spender                           20.5   \n",
       "\n",
       "    order_frequency_flag  gender    state  age date_joined  n_dependants  \\\n",
       "0  Non-frequent customer  Female  Alabama   31   2/17/2019             3   \n",
       "1  Non-frequent customer  Female  Alabama   31   2/17/2019             3   \n",
       "2  Non-frequent customer  Female  Alabama   31   2/17/2019             3   \n",
       "3  Non-frequent customer  Female  Alabama   31   2/17/2019             3   \n",
       "4  Non-frequent customer  Female  Alabama   31   2/17/2019             3   \n",
       "\n",
       "  fam_status  income region             activity_flag age_group  \\\n",
       "0    married   40423  South  Normal-activity customer     30-39   \n",
       "1    married   40423  South  Normal-activity customer     30-39   \n",
       "2    married   40423  South  Normal-activity customer     30-39   \n",
       "3    married   40423  South  Normal-activity customer     30-39   \n",
       "4    married   40423  South  Normal-activity customer     30-39   \n",
       "\n",
       "      income_range parental_status parental_status2 day_of_week  \\\n",
       "0  5,000 - 104,999             NaN           parent      Monday   \n",
       "1  5,000 - 104,999             NaN           parent     Tuesday   \n",
       "2  5,000 - 104,999             NaN           parent     Tuesday   \n",
       "3  5,000 - 104,999             NaN           parent   Wednesday   \n",
       "4  5,000 - 104,999             NaN           parent   Wednesday   \n",
       "\n",
       "  hour_classification department  total_spending top_5_departments  \n",
       "0             Morning  Beverages             9.0               Top  \n",
       "1             Morning  Beverages            18.0               Top  \n",
       "2           Afternoon  Beverages            27.0               Top  \n",
       "3             Morning  Beverages            36.0               Top  \n",
       "4           Afternoon  Beverages            45.0               Top  "
      ]
     },
     "execution_count": 11,
     "metadata": {},
     "output_type": "execute_result"
    }
   ],
   "source": [
    "df_top_dep.head()"
   ]
  },
  {
   "cell_type": "code",
   "execution_count": 12,
   "id": "61ddfc6f",
   "metadata": {},
   "outputs": [
    {
     "data": {
      "text/html": [
       "<div>\n",
       "<style scoped>\n",
       "    .dataframe tbody tr th:only-of-type {\n",
       "        vertical-align: middle;\n",
       "    }\n",
       "\n",
       "    .dataframe tbody tr th {\n",
       "        vertical-align: top;\n",
       "    }\n",
       "\n",
       "    .dataframe thead th {\n",
       "        text-align: right;\n",
       "    }\n",
       "</style>\n",
       "<table border=\"1\" class=\"dataframe\">\n",
       "  <thead>\n",
       "    <tr style=\"text-align: right;\">\n",
       "      <th></th>\n",
       "      <th>order_id</th>\n",
       "      <th>user_id</th>\n",
       "      <th>order_numbers_users_made</th>\n",
       "      <th>orders_day_of_week</th>\n",
       "      <th>order_hour_of_day</th>\n",
       "      <th>days_since_prior_order</th>\n",
       "      <th>prior_orders_made</th>\n",
       "      <th>product_id</th>\n",
       "      <th>add_to_cart_order</th>\n",
       "      <th>reordered</th>\n",
       "      <th>product_name</th>\n",
       "      <th>aisle_id</th>\n",
       "      <th>department_id</th>\n",
       "      <th>prices</th>\n",
       "      <th>price_range_loc</th>\n",
       "      <th>busiest_days</th>\n",
       "      <th>busiest_period_of_day</th>\n",
       "      <th>max_order</th>\n",
       "      <th>loyalty_flag</th>\n",
       "      <th>avg_spending</th>\n",
       "      <th>spending_flag</th>\n",
       "      <th>median_days_since_prior_order</th>\n",
       "      <th>order_frequency_flag</th>\n",
       "      <th>gender</th>\n",
       "      <th>state</th>\n",
       "      <th>age</th>\n",
       "      <th>date_joined</th>\n",
       "      <th>n_dependants</th>\n",
       "      <th>fam_status</th>\n",
       "      <th>income</th>\n",
       "      <th>region</th>\n",
       "      <th>activity_flag</th>\n",
       "      <th>age_group</th>\n",
       "      <th>income_range</th>\n",
       "      <th>parental_status</th>\n",
       "      <th>parental_status2</th>\n",
       "      <th>day_of_week</th>\n",
       "      <th>hour_classification</th>\n",
       "      <th>department</th>\n",
       "      <th>total_spending</th>\n",
       "      <th>top_5_departments</th>\n",
       "      <th>top_10_products</th>\n",
       "    </tr>\n",
       "  </thead>\n",
       "  <tbody>\n",
       "    <tr>\n",
       "      <th>34</th>\n",
       "      <td>2398795</td>\n",
       "      <td>1</td>\n",
       "      <td>2</td>\n",
       "      <td>3</td>\n",
       "      <td>7</td>\n",
       "      <td>15.0</td>\n",
       "      <td>False</td>\n",
       "      <td>13176</td>\n",
       "      <td>4</td>\n",
       "      <td>0</td>\n",
       "      <td>Bag of Organic Bananas</td>\n",
       "      <td>24</td>\n",
       "      <td>4</td>\n",
       "      <td>10.3</td>\n",
       "      <td>Mid-range product</td>\n",
       "      <td>Slowest days</td>\n",
       "      <td>Most orders</td>\n",
       "      <td>10</td>\n",
       "      <td>New customer</td>\n",
       "      <td>6.367797</td>\n",
       "      <td>Low spender</td>\n",
       "      <td>20.5</td>\n",
       "      <td>Non-frequent customer</td>\n",
       "      <td>Female</td>\n",
       "      <td>Alabama</td>\n",
       "      <td>31</td>\n",
       "      <td>2/17/2019</td>\n",
       "      <td>3</td>\n",
       "      <td>married</td>\n",
       "      <td>40423</td>\n",
       "      <td>South</td>\n",
       "      <td>Normal-activity customer</td>\n",
       "      <td>30-39</td>\n",
       "      <td>5,000 - 104,999</td>\n",
       "      <td>NaN</td>\n",
       "      <td>parent</td>\n",
       "      <td>Tuesday</td>\n",
       "      <td>Morning</td>\n",
       "      <td>Produce</td>\n",
       "      <td>20.6</td>\n",
       "      <td>Top</td>\n",
       "      <td>Top</td>\n",
       "    </tr>\n",
       "    <tr>\n",
       "      <th>35</th>\n",
       "      <td>431534</td>\n",
       "      <td>1</td>\n",
       "      <td>5</td>\n",
       "      <td>4</td>\n",
       "      <td>15</td>\n",
       "      <td>28.0</td>\n",
       "      <td>False</td>\n",
       "      <td>13176</td>\n",
       "      <td>8</td>\n",
       "      <td>1</td>\n",
       "      <td>Bag of Organic Bananas</td>\n",
       "      <td>24</td>\n",
       "      <td>4</td>\n",
       "      <td>10.3</td>\n",
       "      <td>Mid-range product</td>\n",
       "      <td>Slowest days</td>\n",
       "      <td>Most orders</td>\n",
       "      <td>10</td>\n",
       "      <td>New customer</td>\n",
       "      <td>6.367797</td>\n",
       "      <td>Low spender</td>\n",
       "      <td>20.5</td>\n",
       "      <td>Non-frequent customer</td>\n",
       "      <td>Female</td>\n",
       "      <td>Alabama</td>\n",
       "      <td>31</td>\n",
       "      <td>2/17/2019</td>\n",
       "      <td>3</td>\n",
       "      <td>married</td>\n",
       "      <td>40423</td>\n",
       "      <td>South</td>\n",
       "      <td>Normal-activity customer</td>\n",
       "      <td>30-39</td>\n",
       "      <td>5,000 - 104,999</td>\n",
       "      <td>NaN</td>\n",
       "      <td>parent</td>\n",
       "      <td>Wednesday</td>\n",
       "      <td>Afternoon</td>\n",
       "      <td>Produce</td>\n",
       "      <td>51.5</td>\n",
       "      <td>Top</td>\n",
       "      <td>Top</td>\n",
       "    </tr>\n",
       "    <tr>\n",
       "      <th>337</th>\n",
       "      <td>1082944</td>\n",
       "      <td>21</td>\n",
       "      <td>14</td>\n",
       "      <td>1</td>\n",
       "      <td>9</td>\n",
       "      <td>10.0</td>\n",
       "      <td>False</td>\n",
       "      <td>47766</td>\n",
       "      <td>6</td>\n",
       "      <td>0</td>\n",
       "      <td>Organic Avocado</td>\n",
       "      <td>24</td>\n",
       "      <td>4</td>\n",
       "      <td>6.3</td>\n",
       "      <td>Mid-range product</td>\n",
       "      <td>Busiest days</td>\n",
       "      <td>Most orders</td>\n",
       "      <td>33</td>\n",
       "      <td>Regular customer</td>\n",
       "      <td>7.012683</td>\n",
       "      <td>Low spender</td>\n",
       "      <td>7.5</td>\n",
       "      <td>Frequent customer</td>\n",
       "      <td>Male</td>\n",
       "      <td>Montana</td>\n",
       "      <td>71</td>\n",
       "      <td>6/18/2019</td>\n",
       "      <td>0</td>\n",
       "      <td>divorced/widowed</td>\n",
       "      <td>124643</td>\n",
       "      <td>West</td>\n",
       "      <td>Normal-activity customer</td>\n",
       "      <td>70-79</td>\n",
       "      <td>105,000 - 204,999</td>\n",
       "      <td>Single adult</td>\n",
       "      <td>non-parent</td>\n",
       "      <td>Sunday</td>\n",
       "      <td>Morning</td>\n",
       "      <td>Produce</td>\n",
       "      <td>88.2</td>\n",
       "      <td>Top</td>\n",
       "      <td>Top</td>\n",
       "    </tr>\n",
       "    <tr>\n",
       "      <th>338</th>\n",
       "      <td>774475</td>\n",
       "      <td>21</td>\n",
       "      <td>16</td>\n",
       "      <td>1</td>\n",
       "      <td>11</td>\n",
       "      <td>7.0</td>\n",
       "      <td>False</td>\n",
       "      <td>47766</td>\n",
       "      <td>4</td>\n",
       "      <td>1</td>\n",
       "      <td>Organic Avocado</td>\n",
       "      <td>24</td>\n",
       "      <td>4</td>\n",
       "      <td>6.3</td>\n",
       "      <td>Mid-range product</td>\n",
       "      <td>Busiest days</td>\n",
       "      <td>Most orders</td>\n",
       "      <td>33</td>\n",
       "      <td>Regular customer</td>\n",
       "      <td>7.012683</td>\n",
       "      <td>Low spender</td>\n",
       "      <td>7.5</td>\n",
       "      <td>Frequent customer</td>\n",
       "      <td>Male</td>\n",
       "      <td>Montana</td>\n",
       "      <td>71</td>\n",
       "      <td>6/18/2019</td>\n",
       "      <td>0</td>\n",
       "      <td>divorced/widowed</td>\n",
       "      <td>124643</td>\n",
       "      <td>West</td>\n",
       "      <td>Normal-activity customer</td>\n",
       "      <td>70-79</td>\n",
       "      <td>105,000 - 204,999</td>\n",
       "      <td>Single adult</td>\n",
       "      <td>non-parent</td>\n",
       "      <td>Sunday</td>\n",
       "      <td>Morning</td>\n",
       "      <td>Produce</td>\n",
       "      <td>100.8</td>\n",
       "      <td>Top</td>\n",
       "      <td>Top</td>\n",
       "    </tr>\n",
       "    <tr>\n",
       "      <th>339</th>\n",
       "      <td>77791</td>\n",
       "      <td>21</td>\n",
       "      <td>19</td>\n",
       "      <td>3</td>\n",
       "      <td>9</td>\n",
       "      <td>8.0</td>\n",
       "      <td>False</td>\n",
       "      <td>47766</td>\n",
       "      <td>13</td>\n",
       "      <td>1</td>\n",
       "      <td>Organic Avocado</td>\n",
       "      <td>24</td>\n",
       "      <td>4</td>\n",
       "      <td>6.3</td>\n",
       "      <td>Mid-range product</td>\n",
       "      <td>Slowest days</td>\n",
       "      <td>Most orders</td>\n",
       "      <td>33</td>\n",
       "      <td>Regular customer</td>\n",
       "      <td>7.012683</td>\n",
       "      <td>Low spender</td>\n",
       "      <td>7.5</td>\n",
       "      <td>Frequent customer</td>\n",
       "      <td>Male</td>\n",
       "      <td>Montana</td>\n",
       "      <td>71</td>\n",
       "      <td>6/18/2019</td>\n",
       "      <td>0</td>\n",
       "      <td>divorced/widowed</td>\n",
       "      <td>124643</td>\n",
       "      <td>West</td>\n",
       "      <td>Normal-activity customer</td>\n",
       "      <td>70-79</td>\n",
       "      <td>105,000 - 204,999</td>\n",
       "      <td>Single adult</td>\n",
       "      <td>non-parent</td>\n",
       "      <td>Tuesday</td>\n",
       "      <td>Morning</td>\n",
       "      <td>Produce</td>\n",
       "      <td>119.7</td>\n",
       "      <td>Top</td>\n",
       "      <td>Top</td>\n",
       "    </tr>\n",
       "  </tbody>\n",
       "</table>\n",
       "</div>"
      ],
      "text/plain": [
       "    order_id user_id  order_numbers_users_made  orders_day_of_week  \\\n",
       "34   2398795       1                         2                   3   \n",
       "35    431534       1                         5                   4   \n",
       "337  1082944      21                        14                   1   \n",
       "338   774475      21                        16                   1   \n",
       "339    77791      21                        19                   3   \n",
       "\n",
       "     order_hour_of_day  days_since_prior_order  prior_orders_made  product_id  \\\n",
       "34                   7                    15.0              False       13176   \n",
       "35                  15                    28.0              False       13176   \n",
       "337                  9                    10.0              False       47766   \n",
       "338                 11                     7.0              False       47766   \n",
       "339                  9                     8.0              False       47766   \n",
       "\n",
       "     add_to_cart_order  reordered            product_name  aisle_id  \\\n",
       "34                   4          0  Bag of Organic Bananas        24   \n",
       "35                   8          1  Bag of Organic Bananas        24   \n",
       "337                  6          0         Organic Avocado        24   \n",
       "338                  4          1         Organic Avocado        24   \n",
       "339                 13          1         Organic Avocado        24   \n",
       "\n",
       "     department_id  prices    price_range_loc  busiest_days  \\\n",
       "34               4    10.3  Mid-range product  Slowest days   \n",
       "35               4    10.3  Mid-range product  Slowest days   \n",
       "337              4     6.3  Mid-range product  Busiest days   \n",
       "338              4     6.3  Mid-range product  Busiest days   \n",
       "339              4     6.3  Mid-range product  Slowest days   \n",
       "\n",
       "    busiest_period_of_day  max_order      loyalty_flag  avg_spending  \\\n",
       "34            Most orders         10      New customer      6.367797   \n",
       "35            Most orders         10      New customer      6.367797   \n",
       "337           Most orders         33  Regular customer      7.012683   \n",
       "338           Most orders         33  Regular customer      7.012683   \n",
       "339           Most orders         33  Regular customer      7.012683   \n",
       "\n",
       "    spending_flag  median_days_since_prior_order   order_frequency_flag  \\\n",
       "34    Low spender                           20.5  Non-frequent customer   \n",
       "35    Low spender                           20.5  Non-frequent customer   \n",
       "337   Low spender                            7.5      Frequent customer   \n",
       "338   Low spender                            7.5      Frequent customer   \n",
       "339   Low spender                            7.5      Frequent customer   \n",
       "\n",
       "     gender    state  age date_joined  n_dependants        fam_status  income  \\\n",
       "34   Female  Alabama   31   2/17/2019             3           married   40423   \n",
       "35   Female  Alabama   31   2/17/2019             3           married   40423   \n",
       "337    Male  Montana   71   6/18/2019             0  divorced/widowed  124643   \n",
       "338    Male  Montana   71   6/18/2019             0  divorced/widowed  124643   \n",
       "339    Male  Montana   71   6/18/2019             0  divorced/widowed  124643   \n",
       "\n",
       "    region             activity_flag age_group       income_range  \\\n",
       "34   South  Normal-activity customer     30-39    5,000 - 104,999   \n",
       "35   South  Normal-activity customer     30-39    5,000 - 104,999   \n",
       "337   West  Normal-activity customer     70-79  105,000 - 204,999   \n",
       "338   West  Normal-activity customer     70-79  105,000 - 204,999   \n",
       "339   West  Normal-activity customer     70-79  105,000 - 204,999   \n",
       "\n",
       "    parental_status parental_status2 day_of_week hour_classification  \\\n",
       "34              NaN           parent     Tuesday             Morning   \n",
       "35              NaN           parent   Wednesday           Afternoon   \n",
       "337    Single adult       non-parent      Sunday             Morning   \n",
       "338    Single adult       non-parent      Sunday             Morning   \n",
       "339    Single adult       non-parent     Tuesday             Morning   \n",
       "\n",
       "    department  total_spending top_5_departments top_10_products  \n",
       "34     Produce            20.6               Top             Top  \n",
       "35     Produce            51.5               Top             Top  \n",
       "337    Produce            88.2               Top             Top  \n",
       "338    Produce           100.8               Top             Top  \n",
       "339    Produce           119.7               Top             Top  "
      ]
     },
     "execution_count": 12,
     "metadata": {},
     "output_type": "execute_result"
    }
   ],
   "source": [
    "df_top_prods.head()"
   ]
  },
  {
   "cell_type": "markdown",
   "id": "a9251ae5",
   "metadata": {},
   "source": [
    "### 6. Create an appropriate visualization to show the distribution of profiles continued."
   ]
  },
  {
   "cell_type": "code",
   "execution_count": 234,
   "id": "a1c52c25",
   "metadata": {},
   "outputs": [],
   "source": [
    "# Correlations between 'order_hour_of_day' vs top departments based on order frequency\n",
    "\n",
    "crosstab2_2 = pd.crosstab(df_top_dep['order_hour_of_day'], df_top_dep['department'], dropna = False)[['Produce', 'Dairy eggs', 'Snacks', 'Beverages', 'Frozen']]"
   ]
  },
  {
   "cell_type": "code",
   "execution_count": 235,
   "id": "9740f200",
   "metadata": {},
   "outputs": [
    {
     "data": {
      "text/plain": [
       "<matplotlib.legend.Legend at 0x21bda22a3a0>"
      ]
     },
     "execution_count": 235,
     "metadata": {},
     "output_type": "execute_result"
    },
    {
     "data": {
      "image/png": "[encoded data removed]",
      "text/plain": [
       "<Figure size 432x288 with 1 Axes>"
      ]
     },
     "metadata": {
      "needs_background": "light"
     },
     "output_type": "display_data"
    }
   ],
   "source": [
    "# Stacked bar chart - Orders Frequency by Hour of Day and top 5 departments \n",
    "\n",
    "crosstab2_2.plot.bar(stacked = True)\n",
    "plt.title('Total Hourly Transactions by Top Departments')\n",
    "plt.xlabel('Hour of Day')\n",
    "plt.ylabel('Number of Transactions (million)')\n",
    "plt.legend(bbox_to_anchor=(1.02, 1), loc='upper left', borderaxespad=0, title=\"Department\",  fontsize='small', fancybox=True)\n",
    "\n",
    "#plt.savefig('Orders Frequency by Departments and Hour of Day.png')"
   ]
  },
  {
   "cell_type": "code",
   "execution_count": 243,
   "id": "29ca97da",
   "metadata": {},
   "outputs": [
    {
     "data": {
      "text/plain": [
       "Text(0, 0.5, 'Number of Orders (million)')"
      ]
     },
     "execution_count": 243,
     "metadata": {},
     "output_type": "execute_result"
    },
    {
     "data": {
      "image/png": "[encoded data removed]",
      "text/plain": [
       "<Figure size 432x288 with 1 Axes>"
      ]
     },
     "metadata": {
      "needs_background": "light"
     },
     "output_type": "display_data"
    }
   ],
   "source": [
    "# Bar chart of customer orders frequency by departments.\n",
    "\n",
    "df_final['department'].value_counts().plot.bar(color = sns.color_palette('gist_rainbow', 21))\n",
    "plt.title('Order Frequency by Departments')\n",
    "plt.xlabel('Departments')\n",
    "plt.ylabel('Number of Orders (million)')"
   ]
  },
  {
   "cell_type": "code",
   "execution_count": null,
   "id": "65879990",
   "metadata": {},
   "outputs": [],
   "source": []
  },
  {
   "cell_type": "markdown",
   "id": "ac0f02a9",
   "metadata": {},
   "source": [
    "##### > Order Habits Based on Single Adult vs Young Parent"
   ]
  },
  {
   "cell_type": "code",
   "execution_count": 216,
   "id": "116ed885",
   "metadata": {},
   "outputs": [
    {
     "data": {
      "text/plain": [
       "Single adult    8097503\n",
       "Young parent    4577211\n",
       "Name: parental_status, dtype: int64"
      ]
     },
     "execution_count": 216,
     "metadata": {},
     "output_type": "execute_result"
    }
   ],
   "source": [
    "df_final['parental_status'].value_counts()"
   ]
  },
  {
   "cell_type": "code",
   "execution_count": 217,
   "id": "1022fe2e",
   "metadata": {},
   "outputs": [],
   "source": [
    "df5e_6 = df_final['parental_status'].value_counts()"
   ]
  },
  {
   "cell_type": "code",
   "execution_count": 218,
   "id": "72e21631",
   "metadata": {},
   "outputs": [
    {
     "data": {
      "text/plain": [
       "<matplotlib.legend.Legend at 0x21bd9ce9910>"
      ]
     },
     "execution_count": 218,
     "metadata": {},
     "output_type": "execute_result"
    },
    {
     "data": {
      "image/png": "[encoded data removed]",
      "text/plain": [
       "<Figure size 432x288 with 1 Axes>"
      ]
     },
     "metadata": {
      "needs_background": "light"
     },
     "output_type": "display_data"
    }
   ],
   "source": [
    "df5e_6.plot.bar(stacked = True, color = sns.color_palette('Pastel2', 10))\n",
    "plt.title('Order Habits Based on Single Adult vs Young Parent')\n",
    "plt.xlabel('')\n",
    "plt.ylabel('Number of Orders (million)')\n",
    "plt.xticks(rotation=0)\n",
    "plt.legend(bbox_to_anchor=(1.02, 1), loc='upper left', borderaxespad=0)"
   ]
  },
  {
   "cell_type": "markdown",
   "id": "1c400b9a",
   "metadata": {},
   "source": [
    "##### > Order Habits Based on Parental Status"
   ]
  },
  {
   "cell_type": "code",
   "execution_count": 214,
   "id": "fe88d8e5",
   "metadata": {},
   "outputs": [
    {
     "data": {
      "text/plain": [
       "parent        24307356\n",
       "non-parent     8097503\n",
       "Name: parental_status2, dtype: int64"
      ]
     },
     "execution_count": 214,
     "metadata": {},
     "output_type": "execute_result"
    }
   ],
   "source": [
    "df_final['parental_status2'].value_counts(dropna = False)"
   ]
  },
  {
   "cell_type": "code",
   "execution_count": 213,
   "id": "a5a0a777",
   "metadata": {},
   "outputs": [],
   "source": [
    "df5e_5 = df_final['parental_status2'].value_counts(dropna = False)"
   ]
  },
  {
   "cell_type": "code",
   "execution_count": 215,
   "id": "5332bd0c",
   "metadata": {},
   "outputs": [
    {
     "data": {
      "text/plain": [
       "<matplotlib.legend.Legend at 0x21bd9c53580>"
      ]
     },
     "execution_count": 215,
     "metadata": {},
     "output_type": "execute_result"
    },
    {
     "data": {
      "image/png": "[encoded data removed]",
      "text/plain": [
       "<Figure size 432x288 with 1 Axes>"
      ]
     },
     "metadata": {
      "needs_background": "light"
     },
     "output_type": "display_data"
    }
   ],
   "source": [
    "df5e_5.plot.bar(stacked = True, color = sns.color_palette('Pastel1', 10))\n",
    "plt.title('Order Habits Based on Parental Status')\n",
    "plt.xlabel('')\n",
    "plt.ylabel('Number of Orders')\n",
    "plt.xticks(rotation=0)\n",
    "plt.legend(bbox_to_anchor=(1.02, 1), loc='upper left', borderaxespad=0)"
   ]
  },
  {
   "cell_type": "code",
   "execution_count": null,
   "id": "e639f033",
   "metadata": {},
   "outputs": [],
   "source": []
  },
  {
   "cell_type": "markdown",
   "id": "dbc5ed4e",
   "metadata": {},
   "source": [
    "##### > Order Habits Based on n_dependants and price_range_loc"
   ]
  },
  {
   "cell_type": "code",
   "execution_count": 206,
   "id": "aef909cc",
   "metadata": {},
   "outputs": [],
   "source": [
    "crosstab_5e_4 = pd.crosstab(df_final['n_dependants'], df_final['price_range_loc'], dropna = False)"
   ]
  },
  {
   "cell_type": "code",
   "execution_count": 211,
   "id": "5fe9dd63",
   "metadata": {},
   "outputs": [
    {
     "data": {
      "text/plain": [
       "<matplotlib.legend.Legend at 0x21bd9bb33d0>"
      ]
     },
     "execution_count": 211,
     "metadata": {},
     "output_type": "execute_result"
    },
    {
     "data": {
      "image/png": "[encoded data removed]",
      "text/plain": [
       "<Figure size 432x288 with 1 Axes>"
      ]
     },
     "metadata": {
      "needs_background": "light"
     },
     "output_type": "display_data"
    }
   ],
   "source": [
    "crosstab_5e_4.plot.bar(stacked = True, color = sns.color_palette('rainbow', 8))\n",
    "plt.title('Order Habits Based on Number of Dependants')\n",
    "plt.xlabel('Number of Dependants')\n",
    "plt.ylabel('Number of Orders (million)')\n",
    "plt.xticks(rotation=0)\n",
    "plt.legend(bbox_to_anchor=(1.02, 1), loc='upper left', borderaxespad=0, title=\"Product Pricing\",  fontsize='small', fancybox=True)"
   ]
  },
  {
   "cell_type": "code",
   "execution_count": null,
   "id": "cf9a9737",
   "metadata": {},
   "outputs": [],
   "source": []
  },
  {
   "cell_type": "markdown",
   "id": "062e3b70",
   "metadata": {},
   "source": [
    "##### > Order Habits Based on n_dependants and spending_flag"
   ]
  },
  {
   "cell_type": "code",
   "execution_count": 203,
   "id": "9d155351",
   "metadata": {},
   "outputs": [],
   "source": [
    "crosstab_5e_3 = pd.crosstab(df_final['n_dependants'], df_final['spending_flag'], dropna = False)"
   ]
  },
  {
   "cell_type": "code",
   "execution_count": 204,
   "id": "973f83b3",
   "metadata": {},
   "outputs": [
    {
     "data": {
      "text/html": [
       "<div>\n",
       "<style scoped>\n",
       "    .dataframe tbody tr th:only-of-type {\n",
       "        vertical-align: middle;\n",
       "    }\n",
       "\n",
       "    .dataframe tbody tr th {\n",
       "        vertical-align: top;\n",
       "    }\n",
       "\n",
       "    .dataframe thead th {\n",
       "        text-align: right;\n",
       "    }\n",
       "</style>\n",
       "<table border=\"1\" class=\"dataframe\">\n",
       "  <thead>\n",
       "    <tr style=\"text-align: right;\">\n",
       "      <th>spending_flag</th>\n",
       "      <th>High spender</th>\n",
       "      <th>Low spender</th>\n",
       "    </tr>\n",
       "    <tr>\n",
       "      <th>n_dependants</th>\n",
       "      <th></th>\n",
       "      <th></th>\n",
       "    </tr>\n",
       "  </thead>\n",
       "  <tbody>\n",
       "    <tr>\n",
       "      <th>0</th>\n",
       "      <td>153532</td>\n",
       "      <td>7943971</td>\n",
       "    </tr>\n",
       "    <tr>\n",
       "      <th>1</th>\n",
       "      <td>151067</td>\n",
       "      <td>7930037</td>\n",
       "    </tr>\n",
       "    <tr>\n",
       "      <th>2</th>\n",
       "      <td>168553</td>\n",
       "      <td>7922590</td>\n",
       "    </tr>\n",
       "    <tr>\n",
       "      <th>3</th>\n",
       "      <td>161093</td>\n",
       "      <td>7974016</td>\n",
       "    </tr>\n",
       "  </tbody>\n",
       "</table>\n",
       "</div>"
      ],
      "text/plain": [
       "spending_flag  High spender  Low spender\n",
       "n_dependants                            \n",
       "0                    153532      7943971\n",
       "1                    151067      7930037\n",
       "2                    168553      7922590\n",
       "3                    161093      7974016"
      ]
     },
     "execution_count": 204,
     "metadata": {},
     "output_type": "execute_result"
    }
   ],
   "source": [
    "crosstab_5e_3"
   ]
  },
  {
   "cell_type": "code",
   "execution_count": null,
   "id": "23bc1de2",
   "metadata": {},
   "outputs": [],
   "source": []
  },
  {
   "cell_type": "markdown",
   "id": "6909d257",
   "metadata": {},
   "source": [
    "##### > Order Habits Based on age_group and top 5 department"
   ]
  },
  {
   "cell_type": "code",
   "execution_count": 13,
   "id": "f2e4833c",
   "metadata": {},
   "outputs": [],
   "source": [
    "crosstab_5e_10 = pd.crosstab(df_top_dep['age_group'], df_top_dep['department'], dropna =a False)"
   ]
  },
  {
   "cell_type": "code",
   "execution_count": 14,
   "id": "b81efb97",
   "metadata": {},
   "outputs": [
    {
     "data": {
      "text/html": [
       "<div>\n",
       "<style scoped>\n",
       "    .dataframe tbody tr th:only-of-type {\n",
       "        vertical-align: middle;\n",
       "    }\n",
       "\n",
       "    .dataframe tbody tr th {\n",
       "        vertical-align: top;\n",
       "    }\n",
       "\n",
       "    .dataframe thead th {\n",
       "        text-align: right;\n",
       "    }\n",
       "</style>\n",
       "<table border=\"1\" class=\"dataframe\">\n",
       "  <thead>\n",
       "    <tr style=\"text-align: right;\">\n",
       "      <th>department</th>\n",
       "      <th>Beverages</th>\n",
       "      <th>Dairy eggs</th>\n",
       "      <th>Frozen</th>\n",
       "      <th>Produce</th>\n",
       "      <th>Snacks</th>\n",
       "    </tr>\n",
       "    <tr>\n",
       "      <th>age_group</th>\n",
       "      <th></th>\n",
       "      <th></th>\n",
       "      <th></th>\n",
       "      <th></th>\n",
       "      <th></th>\n",
       "    </tr>\n",
       "  </thead>\n",
       "  <tbody>\n",
       "    <tr>\n",
       "      <th>18-19</th>\n",
       "      <td>83441</td>\n",
       "      <td>170293</td>\n",
       "      <td>70586</td>\n",
       "      <td>296064</td>\n",
       "      <td>89435</td>\n",
       "    </tr>\n",
       "    <tr>\n",
       "      <th>20-29</th>\n",
       "      <td>416102</td>\n",
       "      <td>847708</td>\n",
       "      <td>348927</td>\n",
       "      <td>1478834</td>\n",
       "      <td>455479</td>\n",
       "    </tr>\n",
       "    <tr>\n",
       "      <th>30-39</th>\n",
       "      <td>414617</td>\n",
       "      <td>852077</td>\n",
       "      <td>346212</td>\n",
       "      <td>1492532</td>\n",
       "      <td>455142</td>\n",
       "    </tr>\n",
       "    <tr>\n",
       "      <th>40-49</th>\n",
       "      <td>425165</td>\n",
       "      <td>854998</td>\n",
       "      <td>350933</td>\n",
       "      <td>1494172</td>\n",
       "      <td>449615</td>\n",
       "    </tr>\n",
       "    <tr>\n",
       "      <th>50-59</th>\n",
       "      <td>425090</td>\n",
       "      <td>835589</td>\n",
       "      <td>350476</td>\n",
       "      <td>1477090</td>\n",
       "      <td>455559</td>\n",
       "    </tr>\n",
       "    <tr>\n",
       "      <th>60-69</th>\n",
       "      <td>412810</td>\n",
       "      <td>823787</td>\n",
       "      <td>347697</td>\n",
       "      <td>1465118</td>\n",
       "      <td>440014</td>\n",
       "    </tr>\n",
       "    <tr>\n",
       "      <th>70-79</th>\n",
       "      <td>426140</td>\n",
       "      <td>845690</td>\n",
       "      <td>348955</td>\n",
       "      <td>1474219</td>\n",
       "      <td>448727</td>\n",
       "    </tr>\n",
       "    <tr>\n",
       "      <th>80+</th>\n",
       "      <td>84758</td>\n",
       "      <td>168605</td>\n",
       "      <td>70957</td>\n",
       "      <td>301262</td>\n",
       "      <td>93579</td>\n",
       "    </tr>\n",
       "  </tbody>\n",
       "</table>\n",
       "</div>"
      ],
      "text/plain": [
       "department  Beverages  Dairy eggs  Frozen  Produce  Snacks\n",
       "age_group                                                 \n",
       "18-19           83441      170293   70586   296064   89435\n",
       "20-29          416102      847708  348927  1478834  455479\n",
       "30-39          414617      852077  346212  1492532  455142\n",
       "40-49          425165      854998  350933  1494172  449615\n",
       "50-59          425090      835589  350476  1477090  455559\n",
       "60-69          412810      823787  347697  1465118  440014\n",
       "70-79          426140      845690  348955  1474219  448727\n",
       "80+             84758      168605   70957   301262   93579"
      ]
     },
     "execution_count": 14,
     "metadata": {},
     "output_type": "execute_result"
    }
   ],
   "source": [
    "crosstab_5e_10"
   ]
  },
  {
   "cell_type": "code",
   "execution_count": 25,
   "id": "4b96a9b4",
   "metadata": {},
   "outputs": [
    {
     "data": {
      "text/plain": [
       "<matplotlib.legend.Legend at 0x21bd0cf7a30>"
      ]
     },
     "execution_count": 25,
     "metadata": {},
     "output_type": "execute_result"
    },
    {
     "data": {
      "image/png": "[encoded data removed]",
      "text/plain": [
       "<Figure size 432x288 with 1 Axes>"
      ]
     },
     "metadata": {
      "needs_background": "light"
     },
     "output_type": "display_data"
    }
   ],
   "source": [
    "crosstab_5e_10.plot.bar(stacked = True, color = sns.color_palette('rainbow', 6))\n",
    "plt.title('Top 10 Department Order Habits based on Age')\n",
    "plt.xlabel('')\n",
    "plt.ylabel('Number of Orders (million)')\n",
    "plt.xticks(rotation=90)\n",
    "plt.legend(bbox_to_anchor=(1.02, 1), loc='upper left', borderaxespad=0, title=\"Department\",  fontsize='small', fancybox=True)"
   ]
  },
  {
   "cell_type": "code",
   "execution_count": 18,
   "id": "3612a94b",
   "metadata": {},
   "outputs": [],
   "source": [
    "# Create dataframe for100% stacked bar chart \n",
    "\n",
    "bar100_age_top10_prods = crosstab_5e_10.apply(lambda r: r/r.sum()*100, axis=1)"
   ]
  },
  {
   "cell_type": "code",
   "execution_count": 221,
   "id": "b5ef61f6",
   "metadata": {},
   "outputs": [
    {
     "data": {
      "text/plain": [
       "<matplotlib.legend.Legend at 0x21bd9e726a0>"
      ]
     },
     "execution_count": 221,
     "metadata": {},
     "output_type": "execute_result"
    },
    {
     "data": {
      "image/png": "[encoded data removed]",
      "text/plain": [
       "<Figure size 432x288 with 1 Axes>"
      ]
     },
     "metadata": {
      "needs_background": "light"
     },
     "output_type": "display_data"
    }
   ],
   "source": [
    "# Create 100% stacked bar chart \n",
    "bar100_age_top10_prods.plot(kind = 'bar', stacked = True, color = sns.color_palette('rainbow', 6))\n",
    "plt.legend(loc='center left', bbox_to_anchor=(1, 0.5))\n",
    "plt.title('Top 5 Departments Order Habits based on Age')\n",
    "plt.xlabel('Age Groups')\n",
    "plt.ylabel('Orders (%)')\n",
    "plt.xticks(rotation=90)\n",
    "plt.legend(bbox_to_anchor=(1.02, 1), loc='upper left', borderaxespad=0, title=\"Department\",  fontsize='small', fancybox=True)"
   ]
  },
  {
   "cell_type": "code",
   "execution_count": null,
   "id": "8d7ee86d",
   "metadata": {},
   "outputs": [],
   "source": []
  },
  {
   "cell_type": "markdown",
   "id": "25b01e8a",
   "metadata": {},
   "source": [
    "##### > Top 10 products vs family status"
   ]
  },
  {
   "cell_type": "code",
   "execution_count": 222,
   "id": "38a7a923",
   "metadata": {},
   "outputs": [],
   "source": [
    "crosstab_5e_5 = pd.crosstab(df_top_prods['product_name'], df_top_prods['fam_status'])"
   ]
  },
  {
   "cell_type": "code",
   "execution_count": 223,
   "id": "f2130de8",
   "metadata": {},
   "outputs": [
    {
     "data": {
      "text/html": [
       "<div>\n",
       "<style scoped>\n",
       "    .dataframe tbody tr th:only-of-type {\n",
       "        vertical-align: middle;\n",
       "    }\n",
       "\n",
       "    .dataframe tbody tr th {\n",
       "        vertical-align: top;\n",
       "    }\n",
       "\n",
       "    .dataframe thead th {\n",
       "        text-align: right;\n",
       "    }\n",
       "</style>\n",
       "<table border=\"1\" class=\"dataframe\">\n",
       "  <thead>\n",
       "    <tr style=\"text-align: right;\">\n",
       "      <th>fam_status</th>\n",
       "      <th>divorced/widowed</th>\n",
       "      <th>living with parents and siblings</th>\n",
       "      <th>married</th>\n",
       "      <th>single</th>\n",
       "    </tr>\n",
       "    <tr>\n",
       "      <th>product_name</th>\n",
       "      <th></th>\n",
       "      <th></th>\n",
       "      <th></th>\n",
       "      <th></th>\n",
       "    </tr>\n",
       "  </thead>\n",
       "  <tbody>\n",
       "    <tr>\n",
       "      <th>Bag of Organic Bananas</th>\n",
       "      <td>32683</td>\n",
       "      <td>17899</td>\n",
       "      <td>266504</td>\n",
       "      <td>62364</td>\n",
       "    </tr>\n",
       "    <tr>\n",
       "      <th>Banana</th>\n",
       "      <td>40251</td>\n",
       "      <td>22953</td>\n",
       "      <td>331141</td>\n",
       "      <td>78220</td>\n",
       "    </tr>\n",
       "    <tr>\n",
       "      <th>Large Lemon</th>\n",
       "      <td>12930</td>\n",
       "      <td>7123</td>\n",
       "      <td>107310</td>\n",
       "      <td>25294</td>\n",
       "    </tr>\n",
       "    <tr>\n",
       "      <th>Organic Avocado</th>\n",
       "      <td>14632</td>\n",
       "      <td>8403</td>\n",
       "      <td>124790</td>\n",
       "      <td>28990</td>\n",
       "    </tr>\n",
       "    <tr>\n",
       "      <th>Organic Baby Spinach</th>\n",
       "      <td>20238</td>\n",
       "      <td>11605</td>\n",
       "      <td>169850</td>\n",
       "      <td>40228</td>\n",
       "    </tr>\n",
       "    <tr>\n",
       "      <th>Organic Hass Avocado</th>\n",
       "      <td>18705</td>\n",
       "      <td>9637</td>\n",
       "      <td>149915</td>\n",
       "      <td>35327</td>\n",
       "    </tr>\n",
       "    <tr>\n",
       "      <th>Organic Raspberries</th>\n",
       "      <td>12407</td>\n",
       "      <td>6441</td>\n",
       "      <td>95885</td>\n",
       "      <td>22324</td>\n",
       "    </tr>\n",
       "    <tr>\n",
       "      <th>Organic Strawberries</th>\n",
       "      <td>23149</td>\n",
       "      <td>12316</td>\n",
       "      <td>185691</td>\n",
       "      <td>43527</td>\n",
       "    </tr>\n",
       "    <tr>\n",
       "      <th>Organic Whole Milk</th>\n",
       "      <td>11629</td>\n",
       "      <td>6455</td>\n",
       "      <td>97143</td>\n",
       "      <td>22678</td>\n",
       "    </tr>\n",
       "    <tr>\n",
       "      <th>Strawberries</th>\n",
       "      <td>11793</td>\n",
       "      <td>6671</td>\n",
       "      <td>100512</td>\n",
       "      <td>23975</td>\n",
       "    </tr>\n",
       "  </tbody>\n",
       "</table>\n",
       "</div>"
      ],
      "text/plain": [
       "fam_status              divorced/widowed  living with parents and siblings  \\\n",
       "product_name                                                                 \n",
       "Bag of Organic Bananas             32683                             17899   \n",
       "Banana                             40251                             22953   \n",
       "Large Lemon                        12930                              7123   \n",
       "Organic Avocado                    14632                              8403   \n",
       "Organic Baby Spinach               20238                             11605   \n",
       "Organic Hass Avocado               18705                              9637   \n",
       "Organic Raspberries                12407                              6441   \n",
       "Organic Strawberries               23149                             12316   \n",
       "Organic Whole Milk                 11629                              6455   \n",
       "Strawberries                       11793                              6671   \n",
       "\n",
       "fam_status              married  single  \n",
       "product_name                             \n",
       "Bag of Organic Bananas   266504   62364  \n",
       "Banana                   331141   78220  \n",
       "Large Lemon              107310   25294  \n",
       "Organic Avocado          124790   28990  \n",
       "Organic Baby Spinach     169850   40228  \n",
       "Organic Hass Avocado     149915   35327  \n",
       "Organic Raspberries       95885   22324  \n",
       "Organic Strawberries     185691   43527  \n",
       "Organic Whole Milk        97143   22678  \n",
       "Strawberries             100512   23975  "
      ]
     },
     "execution_count": 223,
     "metadata": {},
     "output_type": "execute_result"
    }
   ],
   "source": [
    "crosstab_5e_5"
   ]
  },
  {
   "cell_type": "code",
   "execution_count": 224,
   "id": "3576b397",
   "metadata": {},
   "outputs": [],
   "source": [
    "# Create dataframe for 100% stacked bar chart \n",
    "\n",
    "bar100_top_prods = crosstab_5e_5.apply(lambda r: r/r.sum()*100, axis=1)"
   ]
  },
  {
   "cell_type": "code",
   "execution_count": 233,
   "id": "ac869b70",
   "metadata": {},
   "outputs": [
    {
     "data": {
      "text/plain": [
       "<matplotlib.legend.Legend at 0x21bda126670>"
      ]
     },
     "execution_count": 233,
     "metadata": {},
     "output_type": "execute_result"
    },
    {
     "data": {
      "image/png": "[encoded data removed]",
      "text/plain": [
       "<Figure size 432x288 with 1 Axes>"
      ]
     },
     "metadata": {
      "needs_background": "light"
     },
     "output_type": "display_data"
    }
   ],
   "source": [
    "# Create 100% stacked bar chart for Top 10 Products Ordered\n",
    "\n",
    "bar100_top_prods.plot(kind = 'bar', stacked = True, color = sns.color_palette('gist_earth', 4))\n",
    "plt.legend(loc='center left', bbox_to_anchor=(1, 0.5))\n",
    "plt.title('Top 10 Products Ordered Based on Family Status')\n",
    "plt.xlabel('Products')\n",
    "plt.ylabel('Orders (%)')\n",
    "plt.xticks(rotation=90)\n",
    "plt.legend(bbox_to_anchor=(1.02, 1), loc='upper left', borderaxespad=0, title=\"Family Status\",  fontsize='small', fancybox=True)"
   ]
  },
  {
   "cell_type": "code",
   "execution_count": null,
   "id": "0dfb7daa",
   "metadata": {},
   "outputs": [],
   "source": []
  },
  {
   "cell_type": "markdown",
   "id": "9ef253a4",
   "metadata": {},
   "source": [
    "##### > Top 5 departments vs family status"
   ]
  },
  {
   "cell_type": "code",
   "execution_count": 227,
   "id": "5208e6c8",
   "metadata": {},
   "outputs": [],
   "source": [
    "crosstab_5e_9 = pd.crosstab(df_top_dep['department'], df_top_dep['fam_status'], dropna = False)"
   ]
  },
  {
   "cell_type": "code",
   "execution_count": 228,
   "id": "174094be",
   "metadata": {},
   "outputs": [
    {
     "data": {
      "text/html": [
       "<div>\n",
       "<style scoped>\n",
       "    .dataframe tbody tr th:only-of-type {\n",
       "        vertical-align: middle;\n",
       "    }\n",
       "\n",
       "    .dataframe tbody tr th {\n",
       "        vertical-align: top;\n",
       "    }\n",
       "\n",
       "    .dataframe thead th {\n",
       "        text-align: right;\n",
       "    }\n",
       "</style>\n",
       "<table border=\"1\" class=\"dataframe\">\n",
       "  <thead>\n",
       "    <tr style=\"text-align: right;\">\n",
       "      <th>fam_status</th>\n",
       "      <th>divorced/widowed</th>\n",
       "      <th>living with parents and siblings</th>\n",
       "      <th>married</th>\n",
       "      <th>single</th>\n",
       "    </tr>\n",
       "    <tr>\n",
       "      <th>department</th>\n",
       "      <th></th>\n",
       "      <th></th>\n",
       "      <th></th>\n",
       "      <th></th>\n",
       "    </tr>\n",
       "  </thead>\n",
       "  <tbody>\n",
       "    <tr>\n",
       "      <th>Beverages</th>\n",
       "      <td>231025</td>\n",
       "      <td>124629</td>\n",
       "      <td>1889052</td>\n",
       "      <td>443417</td>\n",
       "    </tr>\n",
       "    <tr>\n",
       "      <th>Dairy eggs</th>\n",
       "      <td>461911</td>\n",
       "      <td>260787</td>\n",
       "      <td>3788598</td>\n",
       "      <td>887451</td>\n",
       "    </tr>\n",
       "    <tr>\n",
       "      <th>Frozen</th>\n",
       "      <td>193575</td>\n",
       "      <td>108533</td>\n",
       "      <td>1569050</td>\n",
       "      <td>363585</td>\n",
       "    </tr>\n",
       "    <tr>\n",
       "      <th>Produce</th>\n",
       "      <td>812834</td>\n",
       "      <td>449628</td>\n",
       "      <td>6654218</td>\n",
       "      <td>1562611</td>\n",
       "    </tr>\n",
       "    <tr>\n",
       "      <th>Snacks</th>\n",
       "      <td>246796</td>\n",
       "      <td>137163</td>\n",
       "      <td>2029589</td>\n",
       "      <td>474002</td>\n",
       "    </tr>\n",
       "  </tbody>\n",
       "</table>\n",
       "</div>"
      ],
      "text/plain": [
       "fam_status  divorced/widowed  living with parents and siblings  married  \\\n",
       "department                                                                \n",
       "Beverages             231025                            124629  1889052   \n",
       "Dairy eggs            461911                            260787  3788598   \n",
       "Frozen                193575                            108533  1569050   \n",
       "Produce               812834                            449628  6654218   \n",
       "Snacks                246796                            137163  2029589   \n",
       "\n",
       "fam_status   single  \n",
       "department           \n",
       "Beverages    443417  \n",
       "Dairy eggs   887451  \n",
       "Frozen       363585  \n",
       "Produce     1562611  \n",
       "Snacks       474002  "
      ]
     },
     "execution_count": 228,
     "metadata": {},
     "output_type": "execute_result"
    }
   ],
   "source": [
    "crosstab_5e_9"
   ]
  },
  {
   "cell_type": "code",
   "execution_count": 230,
   "id": "ebfff57c",
   "metadata": {},
   "outputs": [],
   "source": [
    "# Create dataframe for100% stacked bar chart \n",
    "\n",
    "bar100_top_dep = crosstab_5e_9.apply(lambda r: r/r.sum()*100, axis=1)"
   ]
  },
  {
   "cell_type": "code",
   "execution_count": 232,
   "id": "6b179be6",
   "metadata": {},
   "outputs": [
    {
     "data": {
      "text/plain": [
       "<matplotlib.legend.Legend at 0x21bda1b2eb0>"
      ]
     },
     "execution_count": 232,
     "metadata": {},
     "output_type": "execute_result"
    },
    {
     "data": {
      "image/png": "[encoded data removed]",
      "text/plain": [
       "<Figure size 432x288 with 1 Axes>"
      ]
     },
     "metadata": {
      "needs_background": "light"
     },
     "output_type": "display_data"
    }
   ],
   "source": [
    "# Create 100% stacked bar chart \n",
    "bar100_top_dep.plot(kind = 'bar', stacked = True, color = sns.color_palette('gist_earth', 4))\n",
    "plt.title('Top 5 Departments Order Habits Based on Family Status')\n",
    "plt.xlabel('Departments')\n",
    "plt.ylabel('Orders (%)')\n",
    "plt.xticks(rotation=90)\n",
    "plt.legend(bbox_to_anchor=(1.02, 1), loc='upper left', borderaxespad=0, title=\"Family Status\",  fontsize='small', fancybox=True)"
   ]
  },
  {
   "cell_type": "code",
   "execution_count": null,
   "id": "e246a370",
   "metadata": {},
   "outputs": [],
   "source": []
  },
  {
   "cell_type": "markdown",
   "id": "899b92fe",
   "metadata": {},
   "source": [
    "##### > Order Habits Based on age_group and product pricing"
   ]
  },
  {
   "cell_type": "code",
   "execution_count": 58,
   "id": "13d00f4e",
   "metadata": {},
   "outputs": [],
   "source": [
    "crosstab_5f_1 = pd.crosstab(df_final['age_group'], df_final['price_range_loc'], dropna = False)"
   ]
  },
  {
   "cell_type": "code",
   "execution_count": 63,
   "id": "b4491bd2",
   "metadata": {},
   "outputs": [
    {
     "data": {
      "text/html": [
       "<div>\n",
       "<style scoped>\n",
       "    .dataframe tbody tr th:only-of-type {\n",
       "        vertical-align: middle;\n",
       "    }\n",
       "\n",
       "    .dataframe tbody tr th {\n",
       "        vertical-align: top;\n",
       "    }\n",
       "\n",
       "    .dataframe thead th {\n",
       "        text-align: right;\n",
       "    }\n",
       "</style>\n",
       "<table border=\"1\" class=\"dataframe\">\n",
       "  <thead>\n",
       "    <tr style=\"text-align: right;\">\n",
       "      <th>price_range_loc</th>\n",
       "      <th>High-range product</th>\n",
       "      <th>Low-range product</th>\n",
       "      <th>Mid-range product</th>\n",
       "    </tr>\n",
       "    <tr>\n",
       "      <th>age_group</th>\n",
       "      <th></th>\n",
       "      <th></th>\n",
       "      <th></th>\n",
       "    </tr>\n",
       "  </thead>\n",
       "  <tbody>\n",
       "    <tr>\n",
       "      <th>18-19</th>\n",
       "      <td>13784</td>\n",
       "      <td>318054</td>\n",
       "      <td>688242</td>\n",
       "    </tr>\n",
       "    <tr>\n",
       "      <th>20-29</th>\n",
       "      <td>64468</td>\n",
       "      <td>1587945</td>\n",
       "      <td>3417948</td>\n",
       "    </tr>\n",
       "    <tr>\n",
       "      <th>30-39</th>\n",
       "      <td>64561</td>\n",
       "      <td>1584685</td>\n",
       "      <td>3424505</td>\n",
       "    </tr>\n",
       "    <tr>\n",
       "      <th>40-49</th>\n",
       "      <td>66106</td>\n",
       "      <td>1591643</td>\n",
       "      <td>3451488</td>\n",
       "    </tr>\n",
       "    <tr>\n",
       "      <th>50-59</th>\n",
       "      <td>65243</td>\n",
       "      <td>1587380</td>\n",
       "      <td>3411552</td>\n",
       "    </tr>\n",
       "    <tr>\n",
       "      <th>60-69</th>\n",
       "      <td>64634</td>\n",
       "      <td>1554832</td>\n",
       "      <td>3367798</td>\n",
       "    </tr>\n",
       "    <tr>\n",
       "      <th>70-79</th>\n",
       "      <td>65107</td>\n",
       "      <td>1581737</td>\n",
       "      <td>3408617</td>\n",
       "    </tr>\n",
       "    <tr>\n",
       "      <th>80+</th>\n",
       "      <td>13775</td>\n",
       "      <td>320045</td>\n",
       "      <td>690710</td>\n",
       "    </tr>\n",
       "  </tbody>\n",
       "</table>\n",
       "</div>"
      ],
      "text/plain": [
       "price_range_loc  High-range product  Low-range product  Mid-range product\n",
       "age_group                                                                \n",
       "18-19                         13784             318054             688242\n",
       "20-29                         64468            1587945            3417948\n",
       "30-39                         64561            1584685            3424505\n",
       "40-49                         66106            1591643            3451488\n",
       "50-59                         65243            1587380            3411552\n",
       "60-69                         64634            1554832            3367798\n",
       "70-79                         65107            1581737            3408617\n",
       "80+                           13775             320045             690710"
      ]
     },
     "execution_count": 63,
     "metadata": {},
     "output_type": "execute_result"
    }
   ],
   "source": [
    "crosstab_5f_1"
   ]
  },
  {
   "cell_type": "code",
   "execution_count": 65,
   "id": "b53df3e1",
   "metadata": {},
   "outputs": [
    {
     "data": {
      "text/plain": [
       "<matplotlib.legend.Legend at 0x21bf3a06fd0>"
      ]
     },
     "execution_count": 65,
     "metadata": {},
     "output_type": "execute_result"
    },
    {
     "data": {
      "image/png": "[encoded data removed]",
      "text/plain": [
       "<Figure size 432x288 with 1 Axes>"
      ]
     },
     "metadata": {
      "needs_background": "light"
     },
     "output_type": "display_data"
    }
   ],
   "source": [
    "crosstab_5f_1.plot.bar(stacked = True, color = sns.color_palette('rainbow', 8))\n",
    "plt.title('Order Habits Based on Age and Product Pricing')\n",
    "plt.xlabel('Age Groups')\n",
    "plt.ylabel('Number of Orders (million)')\n",
    "plt.xticks(rotation=0)\n",
    "plt.legend(bbox_to_anchor=(1.02, 1), loc='upper left', borderaxespad=0, title=\"Product Pricing\",  fontsize='small', fancybox=True)"
   ]
  },
  {
   "cell_type": "code",
   "execution_count": null,
   "id": "b51677f0",
   "metadata": {},
   "outputs": [],
   "source": []
  },
  {
   "cell_type": "markdown",
   "id": "4192a4ef",
   "metadata": {},
   "source": [
    "##### > Order Habits Based on income_range and product pricing"
   ]
  },
  {
   "cell_type": "code",
   "execution_count": null,
   "id": "14c8248e",
   "metadata": {},
   "outputs": [],
   "source": [
    "# [\"5,000 - 104,999\", \"105,000 - 204,999\", \"305,000 - 404,999\", \"405,000 -504,999\", \"505,000+\"]"
   ]
  },
  {
   "cell_type": "code",
   "execution_count": 68,
   "id": "79363a36",
   "metadata": {},
   "outputs": [],
   "source": [
    "crosstab_5f_2 = pd.crosstab(df_final['income_range'], df_final['price_range_loc'], dropna = False)"
   ]
  },
  {
   "cell_type": "code",
   "execution_count": 69,
   "id": "2e6f1436",
   "metadata": {},
   "outputs": [
    {
     "data": {
      "text/html": [
       "<div>\n",
       "<style scoped>\n",
       "    .dataframe tbody tr th:only-of-type {\n",
       "        vertical-align: middle;\n",
       "    }\n",
       "\n",
       "    .dataframe tbody tr th {\n",
       "        vertical-align: top;\n",
       "    }\n",
       "\n",
       "    .dataframe thead th {\n",
       "        text-align: right;\n",
       "    }\n",
       "</style>\n",
       "<table border=\"1\" class=\"dataframe\">\n",
       "  <thead>\n",
       "    <tr style=\"text-align: right;\">\n",
       "      <th>price_range_loc</th>\n",
       "      <th>High-range product</th>\n",
       "      <th>Low-range product</th>\n",
       "      <th>Mid-range product</th>\n",
       "    </tr>\n",
       "    <tr>\n",
       "      <th>income_range</th>\n",
       "      <th></th>\n",
       "      <th></th>\n",
       "      <th></th>\n",
       "    </tr>\n",
       "  </thead>\n",
       "  <tbody>\n",
       "    <tr>\n",
       "      <th>105,000 - 204,999</th>\n",
       "      <td>185391</td>\n",
       "      <td>3887008</td>\n",
       "      <td>9018645</td>\n",
       "    </tr>\n",
       "    <tr>\n",
       "      <th>205,000 - 304,999</th>\n",
       "      <td>3778</td>\n",
       "      <td>46741</td>\n",
       "      <td>100173</td>\n",
       "    </tr>\n",
       "    <tr>\n",
       "      <th>305,000 - 404,999</th>\n",
       "      <td>1188</td>\n",
       "      <td>17026</td>\n",
       "      <td>37062</td>\n",
       "    </tr>\n",
       "    <tr>\n",
       "      <th>405,000 -504,999</th>\n",
       "      <td>650</td>\n",
       "      <td>8258</td>\n",
       "      <td>17077</td>\n",
       "    </tr>\n",
       "    <tr>\n",
       "      <th>5,000 - 104,999</th>\n",
       "      <td>226313</td>\n",
       "      <td>6161590</td>\n",
       "      <td>12675510</td>\n",
       "    </tr>\n",
       "    <tr>\n",
       "      <th>505,000+</th>\n",
       "      <td>358</td>\n",
       "      <td>5698</td>\n",
       "      <td>12393</td>\n",
       "    </tr>\n",
       "  </tbody>\n",
       "</table>\n",
       "</div>"
      ],
      "text/plain": [
       "price_range_loc    High-range product  Low-range product  Mid-range product\n",
       "income_range                                                               \n",
       "105,000 - 204,999              185391            3887008            9018645\n",
       "205,000 - 304,999                3778              46741             100173\n",
       "305,000 - 404,999                1188              17026              37062\n",
       "405,000 -504,999                  650               8258              17077\n",
       "5,000 - 104,999                226313            6161590           12675510\n",
       "505,000+                          358               5698              12393"
      ]
     },
     "execution_count": 69,
     "metadata": {},
     "output_type": "execute_result"
    }
   ],
   "source": [
    "crosstab_5f_2"
   ]
  },
  {
   "cell_type": "code",
   "execution_count": 82,
   "id": "fe242320",
   "metadata": {},
   "outputs": [
    {
     "data": {
      "text/plain": [
       "<matplotlib.legend.Legend at 0x21bd20f97f0>"
      ]
     },
     "execution_count": 82,
     "metadata": {},
     "output_type": "execute_result"
    },
    {
     "data": {
      "image/png": "[encoded data removed]",
      "text/plain": [
       "<Figure size 432x288 with 1 Axes>"
      ]
     },
     "metadata": {
      "needs_background": "light"
     },
     "output_type": "display_data"
    }
   ],
   "source": [
    "crosstab_5f_2.plot.bar(stacked = True, color = sns.color_palette('rainbow', 8))\n",
    "plt.title('Order Habits Based on Age and Product Pricing')\n",
    "plt.xlabel('Number of Dependants')\n",
    "plt.ylabel('Number of Orders (million)')\n",
    "plt.xticks(rotation=90)\n",
    "plt.legend(bbox_to_anchor=(1.02, 1), loc='upper left', borderaxespad=0, title=\"Product Pricing\",  fontsize='small', fancybox=True)"
   ]
  },
  {
   "cell_type": "code",
   "execution_count": null,
   "id": "4cc9964d",
   "metadata": {},
   "outputs": [],
   "source": []
  },
  {
   "cell_type": "markdown",
   "id": "b9060905",
   "metadata": {},
   "source": [
    "##### > Order Habits Based on region  and product pricing"
   ]
  },
  {
   "cell_type": "code",
   "execution_count": 101,
   "id": "028df8c2",
   "metadata": {},
   "outputs": [],
   "source": [
    "crosstab_5f_2 = pd.crosstab(df_final['region'], df_final['price_range_loc'], dropna = False)"
   ]
  },
  {
   "cell_type": "code",
   "execution_count": 102,
   "id": "d5b928b4",
   "metadata": {},
   "outputs": [
    {
     "data": {
      "text/html": [
       "<div>\n",
       "<style scoped>\n",
       "    .dataframe tbody tr th:only-of-type {\n",
       "        vertical-align: middle;\n",
       "    }\n",
       "\n",
       "    .dataframe tbody tr th {\n",
       "        vertical-align: top;\n",
       "    }\n",
       "\n",
       "    .dataframe thead th {\n",
       "        text-align: right;\n",
       "    }\n",
       "</style>\n",
       "<table border=\"1\" class=\"dataframe\">\n",
       "  <thead>\n",
       "    <tr style=\"text-align: right;\">\n",
       "      <th>price_range_loc</th>\n",
       "      <th>High-range product</th>\n",
       "      <th>Low-range product</th>\n",
       "      <th>Mid-range product</th>\n",
       "    </tr>\n",
       "    <tr>\n",
       "      <th>region</th>\n",
       "      <th></th>\n",
       "      <th></th>\n",
       "      <th></th>\n",
       "    </tr>\n",
       "  </thead>\n",
       "  <tbody>\n",
       "    <tr>\n",
       "      <th>Midwest</th>\n",
       "      <td>97918</td>\n",
       "      <td>2372304</td>\n",
       "      <td>5127103</td>\n",
       "    </tr>\n",
       "    <tr>\n",
       "      <th>Northeast</th>\n",
       "      <td>73202</td>\n",
       "      <td>1792943</td>\n",
       "      <td>3856591</td>\n",
       "    </tr>\n",
       "    <tr>\n",
       "      <th>South</th>\n",
       "      <td>139390</td>\n",
       "      <td>3368338</td>\n",
       "      <td>7284157</td>\n",
       "    </tr>\n",
       "    <tr>\n",
       "      <th>West</th>\n",
       "      <td>107168</td>\n",
       "      <td>2592736</td>\n",
       "      <td>5593009</td>\n",
       "    </tr>\n",
       "  </tbody>\n",
       "</table>\n",
       "</div>"
      ],
      "text/plain": [
       "price_range_loc  High-range product  Low-range product  Mid-range product\n",
       "region                                                                   \n",
       "Midwest                       97918            2372304            5127103\n",
       "Northeast                     73202            1792943            3856591\n",
       "South                        139390            3368338            7284157\n",
       "West                         107168            2592736            5593009"
      ]
     },
     "execution_count": 102,
     "metadata": {},
     "output_type": "execute_result"
    }
   ],
   "source": [
    "crosstab_5f_2"
   ]
  },
  {
   "cell_type": "code",
   "execution_count": 107,
   "id": "6b193472",
   "metadata": {},
   "outputs": [
    {
     "data": {
      "text/plain": [
       "<matplotlib.legend.Legend at 0x21bd3a30100>"
      ]
     },
     "execution_count": 107,
     "metadata": {},
     "output_type": "execute_result"
    },
    {
     "data": {
      "image/png": "[encoded data removed]",
      "text/plain": [
       "<Figure size 432x288 with 1 Axes>"
      ]
     },
     "metadata": {
      "needs_background": "light"
     },
     "output_type": "display_data"
    }
   ],
   "source": [
    "crosstab_5f_2.plot.bar(stacked = True, color = sns.color_palette('rainbow', 8))\n",
    "plt.title('Order Habits Based on Regions and Product Pricing')\n",
    "plt.xlabel('Regions')\n",
    "plt.ylabel('Number of Orders')\n",
    "plt.legend(bbox_to_anchor=(1.02, 1), loc='upper left', borderaxespad=0, title=\"Product Pricing\",  fontsize='small', fancybox=True)"
   ]
  },
  {
   "cell_type": "code",
   "execution_count": 109,
   "id": "6912d6f5",
   "metadata": {},
   "outputs": [],
   "source": [
    "# Create dataframe for100% stacked bar chart \n",
    "\n",
    "bar100_crosstab_5f_2 = crosstab_5f_2.apply(lambda r: r/r.sum()*100, axis=1)"
   ]
  },
  {
   "cell_type": "code",
   "execution_count": 202,
   "id": "f7520719",
   "metadata": {},
   "outputs": [
    {
     "data": {
      "text/plain": [
       "<matplotlib.legend.Legend at 0x21bd888b340>"
      ]
     },
     "execution_count": 202,
     "metadata": {},
     "output_type": "execute_result"
    },
    {
     "data": {
      "image/png": "[encoded data removed]",
      "text/plain": [
       "<Figure size 432x288 with 1 Axes>"
      ]
     },
     "metadata": {
      "needs_background": "light"
     },
     "output_type": "display_data"
    }
   ],
   "source": [
    "# Create 100% stacked bar chart \n",
    "bar100_crosstab_5f_2.plot(kind = 'bar', stacked = True, color = sns.color_palette('rainbow', 8))\n",
    "plt.legend(loc='center left', bbox_to_anchor=(1, 0.5))\n",
    "plt.title('Order Habits Based on Regions and Product Pricing')\n",
    "plt.xlabel('Regions')\n",
    "plt.ylabel('Orders (%)')\n",
    "plt.xticks(rotation=90)\n",
    "plt.legend(bbox_to_anchor=(1.02, 1), loc='upper left', borderaxespad=0, title=\"Product Pricing\",  fontsize='small', fancybox=True)"
   ]
  },
  {
   "cell_type": "code",
   "execution_count": null,
   "id": "a725420c",
   "metadata": {},
   "outputs": [],
   "source": []
  },
  {
   "cell_type": "markdown",
   "id": "9ede40b7",
   "metadata": {},
   "source": [
    "##### > Order Habits Based on region and top 5 departments"
   ]
  },
  {
   "cell_type": "code",
   "execution_count": 120,
   "id": "e7bf53a7",
   "metadata": {},
   "outputs": [],
   "source": [
    "crosstab_5f_3 = pd.crosstab(df_top_dep['region'], df_final['department'], dropna = False)"
   ]
  },
  {
   "cell_type": "code",
   "execution_count": 121,
   "id": "1e3b3dac",
   "metadata": {},
   "outputs": [
    {
     "data": {
      "text/html": [
       "<div>\n",
       "<style scoped>\n",
       "    .dataframe tbody tr th:only-of-type {\n",
       "        vertical-align: middle;\n",
       "    }\n",
       "\n",
       "    .dataframe tbody tr th {\n",
       "        vertical-align: top;\n",
       "    }\n",
       "\n",
       "    .dataframe thead th {\n",
       "        text-align: right;\n",
       "    }\n",
       "</style>\n",
       "<table border=\"1\" class=\"dataframe\">\n",
       "  <thead>\n",
       "    <tr style=\"text-align: right;\">\n",
       "      <th>department</th>\n",
       "      <th>Beverages</th>\n",
       "      <th>Dairy eggs</th>\n",
       "      <th>Frozen</th>\n",
       "      <th>Produce</th>\n",
       "      <th>Snacks</th>\n",
       "    </tr>\n",
       "    <tr>\n",
       "      <th>region</th>\n",
       "      <th></th>\n",
       "      <th></th>\n",
       "      <th></th>\n",
       "      <th></th>\n",
       "      <th></th>\n",
       "    </tr>\n",
       "  </thead>\n",
       "  <tbody>\n",
       "    <tr>\n",
       "      <th>Midwest</th>\n",
       "      <td>625574</td>\n",
       "      <td>1264223</td>\n",
       "      <td>524096</td>\n",
       "      <td>2227937</td>\n",
       "      <td>673715</td>\n",
       "    </tr>\n",
       "    <tr>\n",
       "      <th>Northeast</th>\n",
       "      <td>483418</td>\n",
       "      <td>954026</td>\n",
       "      <td>390918</td>\n",
       "      <td>1665839</td>\n",
       "      <td>514675</td>\n",
       "    </tr>\n",
       "    <tr>\n",
       "      <th>South</th>\n",
       "      <td>898940</td>\n",
       "      <td>1796969</td>\n",
       "      <td>747900</td>\n",
       "      <td>3160551</td>\n",
       "      <td>957346</td>\n",
       "    </tr>\n",
       "    <tr>\n",
       "      <th>West</th>\n",
       "      <td>680191</td>\n",
       "      <td>1383529</td>\n",
       "      <td>571829</td>\n",
       "      <td>2424964</td>\n",
       "      <td>741814</td>\n",
       "    </tr>\n",
       "  </tbody>\n",
       "</table>\n",
       "</div>"
      ],
      "text/plain": [
       "department  Beverages  Dairy eggs  Frozen  Produce  Snacks\n",
       "region                                                    \n",
       "Midwest        625574     1264223  524096  2227937  673715\n",
       "Northeast      483418      954026  390918  1665839  514675\n",
       "South          898940     1796969  747900  3160551  957346\n",
       "West           680191     1383529  571829  2424964  741814"
      ]
     },
     "execution_count": 121,
     "metadata": {},
     "output_type": "execute_result"
    }
   ],
   "source": [
    "crosstab_5f_3"
   ]
  },
  {
   "cell_type": "code",
   "execution_count": 122,
   "id": "ad273972",
   "metadata": {},
   "outputs": [],
   "source": [
    "# Create dataframe for100% stacked bar chart \n",
    "\n",
    "bar100_crosstab_5f_3 = crosstab_5f_3.apply(lambda r: r/r.sum()*100, axis=1)"
   ]
  },
  {
   "cell_type": "code",
   "execution_count": 201,
   "id": "c0b8cfd0",
   "metadata": {},
   "outputs": [
    {
     "data": {
      "text/plain": [
       "<matplotlib.legend.Legend at 0x21bd87938b0>"
      ]
     },
     "execution_count": 201,
     "metadata": {},
     "output_type": "execute_result"
    },
    {
     "data": {
      "image/png": "[encoded data removed]",
      "text/plain": [
       "<Figure size 432x288 with 1 Axes>"
      ]
     },
     "metadata": {
      "needs_background": "light"
     },
     "output_type": "display_data"
    }
   ],
   "source": [
    "# Create 100% stacked bar chart \n",
    "bar100_crosstab_5f_3.plot(kind = 'bar', stacked = True)\n",
    "plt.legend(loc='center left', bbox_to_anchor=(1, 0.5))\n",
    "plt.title('Order Habits Based on Regions and Top 5 Departments')\n",
    "plt.xlabel('Regions')\n",
    "plt.ylabel('Orders (%)')\n",
    "plt.xticks(rotation=90)\n",
    "plt.legend(bbox_to_anchor=(1.02, 1), loc='upper left', borderaxespad=0, title=\"Department\",  fontsize='small', fancybox=True)"
   ]
  },
  {
   "cell_type": "code",
   "execution_count": null,
   "id": "06a62ec3",
   "metadata": {},
   "outputs": [],
   "source": []
  },
  {
   "cell_type": "markdown",
   "id": "78c3c04f",
   "metadata": {},
   "source": [
    "##### > Order Habits Based on product pricing and parental status"
   ]
  },
  {
   "cell_type": "code",
   "execution_count": 134,
   "id": "4012d44f",
   "metadata": {},
   "outputs": [],
   "source": [
    "crosstab_5f_4 = pd.crosstab(df_top_dep['price_range_loc'], df_final['parental_status2'], dropna = False)"
   ]
  },
  {
   "cell_type": "code",
   "execution_count": 135,
   "id": "f109d7be",
   "metadata": {},
   "outputs": [
    {
     "data": {
      "text/html": [
       "<div>\n",
       "<style scoped>\n",
       "    .dataframe tbody tr th:only-of-type {\n",
       "        vertical-align: middle;\n",
       "    }\n",
       "\n",
       "    .dataframe tbody tr th {\n",
       "        vertical-align: top;\n",
       "    }\n",
       "\n",
       "    .dataframe thead th {\n",
       "        text-align: right;\n",
       "    }\n",
       "</style>\n",
       "<table border=\"1\" class=\"dataframe\">\n",
       "  <thead>\n",
       "    <tr style=\"text-align: right;\">\n",
       "      <th>parental_status2</th>\n",
       "      <th>non-parent</th>\n",
       "      <th>parent</th>\n",
       "    </tr>\n",
       "    <tr>\n",
       "      <th>price_range_loc</th>\n",
       "      <th></th>\n",
       "      <th></th>\n",
       "    </tr>\n",
       "  </thead>\n",
       "  <tbody>\n",
       "    <tr>\n",
       "      <th>High-range product</th>\n",
       "      <td>1228</td>\n",
       "      <td>3899</td>\n",
       "    </tr>\n",
       "    <tr>\n",
       "      <th>Low-range product</th>\n",
       "      <td>1871683</td>\n",
       "      <td>5610708</td>\n",
       "    </tr>\n",
       "    <tr>\n",
       "      <th>Mid-range product</th>\n",
       "      <td>3804296</td>\n",
       "      <td>11396640</td>\n",
       "    </tr>\n",
       "  </tbody>\n",
       "</table>\n",
       "</div>"
      ],
      "text/plain": [
       "parental_status2    non-parent    parent\n",
       "price_range_loc                         \n",
       "High-range product        1228      3899\n",
       "Low-range product      1871683   5610708\n",
       "Mid-range product      3804296  11396640"
      ]
     },
     "execution_count": 135,
     "metadata": {},
     "output_type": "execute_result"
    }
   ],
   "source": [
    "crosstab_5f_4"
   ]
  },
  {
   "cell_type": "code",
   "execution_count": 165,
   "id": "70266ede",
   "metadata": {},
   "outputs": [
    {
     "data": {
      "text/plain": [
       "<matplotlib.legend.Legend at 0x21bd6c0f7c0>"
      ]
     },
     "execution_count": 165,
     "metadata": {},
     "output_type": "execute_result"
    },
    {
     "data": {
      "image/png": "[encoded data removed]",
      "text/plain": [
       "<Figure size 432x288 with 1 Axes>"
      ]
     },
     "metadata": {
      "needs_background": "light"
     },
     "output_type": "display_data"
    }
   ],
   "source": [
    "crosstab_5f_4.plot.bar(color = sns.color_palette('Pastel1', 10))\n",
    "plt.title('Order Habits Based on Product Pricing and Parental Status')\n",
    "plt.xlabel('Product Pricing')\n",
    "plt.ylabel('Number of Orders')\n",
    "plt.xticks(rotation=0)\n",
    "plt.legend(bbox_to_anchor=(1.02, 1), loc='upper left', borderaxespad=0, title=\"Parental Status\",  fontsize='small', fancybox=True)"
   ]
  },
  {
   "cell_type": "code",
   "execution_count": null,
   "id": "dd2c10d5",
   "metadata": {},
   "outputs": [],
   "source": []
  },
  {
   "cell_type": "code",
   "execution_count": null,
   "id": "30620016",
   "metadata": {},
   "outputs": [],
   "source": [
    "# Attempt to move 1e7 label to the y axis\n",
    "# https://stackoverflow.com/questions/45760763/how-to-move-the-y-axis-scale-factor-to-the-position-next-to-the-y-axis-label\n",
    "\n",
    "import matplotlib.ticker as mticker\n",
    "\n",
    "crosstab_5f_4.plot.bar(color = sns.color_palette('Pastel1', 10))\n",
    "plt.title('Order Habits Based on Product Pricing and Parental Status')\n",
    "plt.xlabel('Product Pricing')\n",
    "plt.ylabel('Number of Orders')\n",
    "plt.xticks(rotation=0)\n",
    "plt.legend(bbox_to_anchor=(1.02, 1), loc='upper left', borderaxespad=0, title=\"Parental Status\",  fontsize='small', fancybox=True)\n",
    "\n",
    "plt.show()"
   ]
  },
  {
   "cell_type": "code",
   "execution_count": null,
   "id": "d4f53c50",
   "metadata": {},
   "outputs": [],
   "source": []
  },
  {
   "cell_type": "markdown",
   "id": "2a2f3529",
   "metadata": {},
   "source": [
    "##### > Order Habits Based on product pricing and single adult vs young parent"
   ]
  },
  {
   "cell_type": "code",
   "execution_count": 139,
   "id": "9c242d7c",
   "metadata": {},
   "outputs": [],
   "source": [
    "crosstab_5f_5 = pd.crosstab(df_top_dep['price_range_loc'], df_final['parental_status'], dropna = False)"
   ]
  },
  {
   "cell_type": "code",
   "execution_count": 140,
   "id": "fcbe5e98",
   "metadata": {},
   "outputs": [
    {
     "data": {
      "text/html": [
       "<div>\n",
       "<style scoped>\n",
       "    .dataframe tbody tr th:only-of-type {\n",
       "        vertical-align: middle;\n",
       "    }\n",
       "\n",
       "    .dataframe tbody tr th {\n",
       "        vertical-align: top;\n",
       "    }\n",
       "\n",
       "    .dataframe thead th {\n",
       "        text-align: right;\n",
       "    }\n",
       "</style>\n",
       "<table border=\"1\" class=\"dataframe\">\n",
       "  <thead>\n",
       "    <tr style=\"text-align: right;\">\n",
       "      <th>parental_status</th>\n",
       "      <th>Single adult</th>\n",
       "      <th>Young parent</th>\n",
       "    </tr>\n",
       "    <tr>\n",
       "      <th>price_range_loc</th>\n",
       "      <th></th>\n",
       "      <th></th>\n",
       "    </tr>\n",
       "  </thead>\n",
       "  <tbody>\n",
       "    <tr>\n",
       "      <th>High-range product</th>\n",
       "      <td>1228</td>\n",
       "      <td>784</td>\n",
       "    </tr>\n",
       "    <tr>\n",
       "      <th>Low-range product</th>\n",
       "      <td>1871683</td>\n",
       "      <td>1055178</td>\n",
       "    </tr>\n",
       "    <tr>\n",
       "      <th>Mid-range product</th>\n",
       "      <td>3804296</td>\n",
       "      <td>2143095</td>\n",
       "    </tr>\n",
       "  </tbody>\n",
       "</table>\n",
       "</div>"
      ],
      "text/plain": [
       "parental_status     Single adult  Young parent\n",
       "price_range_loc                               \n",
       "High-range product          1228           784\n",
       "Low-range product        1871683       1055178\n",
       "Mid-range product        3804296       2143095"
      ]
     },
     "execution_count": 140,
     "metadata": {},
     "output_type": "execute_result"
    }
   ],
   "source": [
    "crosstab_5f_5"
   ]
  },
  {
   "cell_type": "code",
   "execution_count": 167,
   "id": "7d7d4598",
   "metadata": {},
   "outputs": [
    {
     "data": {
      "text/plain": [
       "<matplotlib.legend.Legend at 0x21bd6c37b50>"
      ]
     },
     "execution_count": 167,
     "metadata": {},
     "output_type": "execute_result"
    },
    {
     "data": {
      "image/png": "[encoded data removed]",
      "text/plain": [
       "<Figure size 432x288 with 1 Axes>"
      ]
     },
     "metadata": {
      "needs_background": "light"
     },
     "output_type": "display_data"
    }
   ],
   "source": [
    "crosstab_5f_5.plot.bar(color = sns.color_palette('Pastel2', 10))\n",
    "plt.title('Order Habits Based on Product Range and Single Adult vs Young Parent')\n",
    "plt.xlabel(' Product Pricing')\n",
    "plt.ylabel('Number of Orders (million)')\n",
    "plt.xticks(rotation=0)\n",
    "plt.legend(bbox_to_anchor=(1.02, 1), loc='upper left', borderaxespad=0)"
   ]
  },
  {
   "cell_type": "code",
   "execution_count": null,
   "id": "d547bd96",
   "metadata": {},
   "outputs": [],
   "source": []
  },
  {
   "cell_type": "markdown",
   "id": "14076643",
   "metadata": {},
   "source": [
    "##### > Order Habits Based on top 5 departments and hour_classification"
   ]
  },
  {
   "cell_type": "code",
   "execution_count": 177,
   "id": "4ef6dcf4",
   "metadata": {},
   "outputs": [],
   "source": [
    "crosstab_5f_6 = pd.crosstab(df_top_dep['department'], df_final['hour_classification'], dropna = False)[['Morning', 'Afternoon', 'Evening', 'After midnight']]"
   ]
  },
  {
   "cell_type": "code",
   "execution_count": 178,
   "id": "d7c3e512",
   "metadata": {},
   "outputs": [
    {
     "data": {
      "text/html": [
       "<div>\n",
       "<style scoped>\n",
       "    .dataframe tbody tr th:only-of-type {\n",
       "        vertical-align: middle;\n",
       "    }\n",
       "\n",
       "    .dataframe tbody tr th {\n",
       "        vertical-align: top;\n",
       "    }\n",
       "\n",
       "    .dataframe thead th {\n",
       "        text-align: right;\n",
       "    }\n",
       "</style>\n",
       "<table border=\"1\" class=\"dataframe\">\n",
       "  <thead>\n",
       "    <tr style=\"text-align: right;\">\n",
       "      <th>hour_classification</th>\n",
       "      <th>Morning</th>\n",
       "      <th>Afternoon</th>\n",
       "      <th>Evening</th>\n",
       "      <th>After midnight</th>\n",
       "    </tr>\n",
       "    <tr>\n",
       "      <th>department</th>\n",
       "      <th></th>\n",
       "      <th></th>\n",
       "      <th></th>\n",
       "      <th></th>\n",
       "    </tr>\n",
       "  </thead>\n",
       "  <tbody>\n",
       "    <tr>\n",
       "      <th>Beverages</th>\n",
       "      <td>930030</td>\n",
       "      <td>1258701</td>\n",
       "      <td>448688</td>\n",
       "      <td>50704</td>\n",
       "    </tr>\n",
       "    <tr>\n",
       "      <th>Dairy eggs</th>\n",
       "      <td>1867242</td>\n",
       "      <td>2493352</td>\n",
       "      <td>944513</td>\n",
       "      <td>93640</td>\n",
       "    </tr>\n",
       "    <tr>\n",
       "      <th>Frozen</th>\n",
       "      <td>674684</td>\n",
       "      <td>1082854</td>\n",
       "      <td>432486</td>\n",
       "      <td>44719</td>\n",
       "    </tr>\n",
       "    <tr>\n",
       "      <th>Produce</th>\n",
       "      <td>3177058</td>\n",
       "      <td>4440211</td>\n",
       "      <td>1681969</td>\n",
       "      <td>180053</td>\n",
       "    </tr>\n",
       "    <tr>\n",
       "      <th>Snacks</th>\n",
       "      <td>997184</td>\n",
       "      <td>1359289</td>\n",
       "      <td>483681</td>\n",
       "      <td>47396</td>\n",
       "    </tr>\n",
       "  </tbody>\n",
       "</table>\n",
       "</div>"
      ],
      "text/plain": [
       "hour_classification  Morning  Afternoon  Evening  After midnight\n",
       "department                                                      \n",
       "Beverages             930030    1258701   448688           50704\n",
       "Dairy eggs           1867242    2493352   944513           93640\n",
       "Frozen                674684    1082854   432486           44719\n",
       "Produce              3177058    4440211  1681969          180053\n",
       "Snacks                997184    1359289   483681           47396"
      ]
     },
     "execution_count": 178,
     "metadata": {},
     "output_type": "execute_result"
    }
   ],
   "source": [
    "crosstab_5f_6"
   ]
  },
  {
   "cell_type": "code",
   "execution_count": 199,
   "id": "ab6a2534",
   "metadata": {},
   "outputs": [
    {
     "data": {
      "text/plain": [
       "<matplotlib.legend.Legend at 0x21bd86e5a60>"
      ]
     },
     "execution_count": 199,
     "metadata": {},
     "output_type": "execute_result"
    },
    {
     "data": {
      "image/png": "[encoded data removed]",
      "text/plain": [
       "<Figure size 432x288 with 1 Axes>"
      ]
     },
     "metadata": {
      "needs_background": "light"
     },
     "output_type": "display_data"
    }
   ],
   "source": [
    "crosstab_5f_6.plot.bar(stacked = True, color = sns.color_palette('Accent_r', 15))\n",
    "plt.title('Order Habits Based on Department and Time of the Day')\n",
    "plt.xlabel('Age Groups')\n",
    "plt.ylabel('Number of Orders (million)')\n",
    "plt.legend(bbox_to_anchor=(1.02, 1), loc='upper left', borderaxespad=0, title=\"Time of the Day\",  fontsize='small', fancybox=True)"
   ]
  },
  {
   "cell_type": "code",
   "execution_count": null,
   "id": "090f550b",
   "metadata": {},
   "outputs": [],
   "source": []
  },
  {
   "cell_type": "markdown",
   "id": "ae01681b",
   "metadata": {},
   "source": [
    "##### > Order Habits Based on top 5 departments and product pricing"
   ]
  },
  {
   "cell_type": "code",
   "execution_count": 50,
   "id": "591151ee",
   "metadata": {},
   "outputs": [],
   "source": [
    "crosstab_5_13 = pd.crosstab(df_top_dep['department'], df_final['price_range_loc'], dropna = False)"
   ]
  },
  {
   "cell_type": "code",
   "execution_count": 51,
   "id": "707eb2a8",
   "metadata": {},
   "outputs": [
    {
     "data": {
      "text/html": [
       "<div>\n",
       "<style scoped>\n",
       "    .dataframe tbody tr th:only-of-type {\n",
       "        vertical-align: middle;\n",
       "    }\n",
       "\n",
       "    .dataframe tbody tr th {\n",
       "        vertical-align: top;\n",
       "    }\n",
       "\n",
       "    .dataframe thead th {\n",
       "        text-align: right;\n",
       "    }\n",
       "</style>\n",
       "<table border=\"1\" class=\"dataframe\">\n",
       "  <thead>\n",
       "    <tr style=\"text-align: right;\">\n",
       "      <th>price_range_loc</th>\n",
       "      <th>High-range product</th>\n",
       "      <th>Low-range product</th>\n",
       "      <th>Mid-range product</th>\n",
       "    </tr>\n",
       "    <tr>\n",
       "      <th>department</th>\n",
       "      <th></th>\n",
       "      <th></th>\n",
       "      <th></th>\n",
       "    </tr>\n",
       "  </thead>\n",
       "  <tbody>\n",
       "    <tr>\n",
       "      <th>Beverages</th>\n",
       "      <td>0</td>\n",
       "      <td>852974</td>\n",
       "      <td>1835149</td>\n",
       "    </tr>\n",
       "    <tr>\n",
       "      <th>Dairy eggs</th>\n",
       "      <td>5127</td>\n",
       "      <td>1431016</td>\n",
       "      <td>3962604</td>\n",
       "    </tr>\n",
       "    <tr>\n",
       "      <th>Frozen</th>\n",
       "      <td>0</td>\n",
       "      <td>681412</td>\n",
       "      <td>1553331</td>\n",
       "    </tr>\n",
       "    <tr>\n",
       "      <th>Produce</th>\n",
       "      <td>0</td>\n",
       "      <td>2697883</td>\n",
       "      <td>6781408</td>\n",
       "    </tr>\n",
       "    <tr>\n",
       "      <th>Snacks</th>\n",
       "      <td>0</td>\n",
       "      <td>1819106</td>\n",
       "      <td>1068444</td>\n",
       "    </tr>\n",
       "  </tbody>\n",
       "</table>\n",
       "</div>"
      ],
      "text/plain": [
       "price_range_loc  High-range product  Low-range product  Mid-range product\n",
       "department                                                               \n",
       "Beverages                         0             852974            1835149\n",
       "Dairy eggs                     5127            1431016            3962604\n",
       "Frozen                            0             681412            1553331\n",
       "Produce                           0            2697883            6781408\n",
       "Snacks                            0            1819106            1068444"
      ]
     },
     "execution_count": 51,
     "metadata": {},
     "output_type": "execute_result"
    }
   ],
   "source": [
    "crosstab_5e_13"
   ]
  },
  {
   "cell_type": "code",
   "execution_count": 113,
   "id": "fa090bc0",
   "metadata": {},
   "outputs": [
    {
     "data": {
      "text/plain": [
       "<matplotlib.legend.Legend at 0x21bd275ac10>"
      ]
     },
     "execution_count": 113,
     "metadata": {},
     "output_type": "execute_result"
    },
    {
     "data": {
      "image/png": "[encoded data removed]",
      "text/plain": [
       "<Figure size 432x288 with 1 Axes>"
      ]
     },
     "metadata": {
      "needs_background": "light"
     },
     "output_type": "display_data"
    }
   ],
   "source": [
    "crosstab_5e_13.plot.bar(stacked = True, color = sns.color_palette('rainbow', 8))\n",
    "plt.title('Order Habits Based on Age and Income')\n",
    "plt.xlabel('Top 5 Departments')\n",
    "plt.ylabel('Number of Orders (million)')\n",
    "plt.legend(bbox_to_anchor=(1.02, 1), loc='upper left', borderaxespad=0, title=\"Income ($)\",  fontsize='small', fancybox=True)"
   ]
  }
 ],
 "metadata": {
  "kernelspec": {
   "display_name": "Python 3 (ipykernel)",
   "language": "python",
   "name": "python3"
  },
  "language_info": {
   "codemirror_mode": {
    "name": "ipython",
    "version": 3
   },
   "file_extension": ".py",
   "mimetype": "text/x-python",
   "name": "python",
   "nbconvert_exporter": "python",
   "pygments_lexer": "ipython3",
   "version": "3.9.7"
  }
 },
 "nbformat": 4,
 "nbformat_minor": 5
}
